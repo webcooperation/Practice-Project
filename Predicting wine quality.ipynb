{
 "cells": [
  {
   "cell_type": "markdown",
   "id": "dd4c202b",
   "metadata": {},
   "source": [
    "Project Description : The dataset is related to red and white variants of the Portuguese \"Vinho Verde\" wine. Due to privacy and logistic issues, only physicochemical (inputs) and sensory (the output) variables are available (e.g. there is no data about grape types, wine brand, wine selling price, etc.).\n",
    "\n",
    "This dataset can be viewed as classification task. The classes are ordered and not balanced (e.g. there are many more normal wines than excellent or poor ones). Also, we are not sure if all input variables are relevant. So it could be interesting to test feature selection methods.\n",
    "\n",
    "Dataset: The dataset is from Kaggle\n"
   ]
  },
  {
   "cell_type": "markdown",
   "id": "bde121a1",
   "metadata": {},
   "source": [
    "Attribute Information\n",
    "Input variables (based on physicochemical tests):\n",
    "1 - fixed acidity\n",
    "2 - volatile acidity\n",
    "3 - citric acid\n",
    "4 - residual sugar\n",
    "5 - chlorides\n",
    "6 - free sulfur dioxide\n",
    "7 - total sulfur dioxide\n",
    "8 - density\n",
    "9 - pH\n",
    "10 - sulphates\n",
    "11 - alcohol\n",
    "Output variable (based on sensory data):\n",
    "12 - quality (score between 0 and 10)\n"
   ]
  },
  {
   "cell_type": "markdown",
   "id": "53f21072",
   "metadata": {},
   "source": [
    "Project Objective : Understand the Dataset & cleanup (if required).\n",
    "Build classification models to predict predict the quality of red wines based on various chemical properties and attributes\n",
    "Also fine-tune the hyperparameters & compare the evaluation metrics of various classification algorithms, choose the best model with highest accuracy."
   ]
  },
  {
   "cell_type": "markdown",
   "id": "0fa60fb9",
   "metadata": {},
   "source": [
    "Bussinness Implication:\n",
    "    Enhanced product Quality\n",
    "    Market Competitive edge over others company\n",
    "    Improved overall operational efficiiency"
   ]
  },
  {
   "cell_type": "markdown",
   "id": "ffbf3087",
   "metadata": {},
   "source": [
    "Steps to Follow for the Project: The dataset contains 12 features and 1599 samples\n",
    "Below are the steps to follow for the project:\n",
    "\n",
    "1 :Importing required Libariries\n",
    "2: Importing the Dataset \n",
    "3: Data Cleaning and transforming\n",
    "4: Data EDA, Exploratory Data analysis to see trends, pattern and relationship\n",
    "5: Feature Selection/Extraction- to identify the most relevant features\n",
    "6: Data Preprocessing\n",
    "7: Predictive Modelling using various algorithms\n",
    "8: Comparing the models and Model Evaluation\n",
    "9: Project Outcomes & Conclusion"
   ]
  },
  {
   "cell_type": "markdown",
   "id": "e029dddf",
   "metadata": {},
   "source": [
    "# 1: Importing required Libraries"
   ]
  },
  {
   "cell_type": "code",
   "execution_count": 2,
   "id": "14e45c87",
   "metadata": {},
   "outputs": [],
   "source": [
    "import numpy as np\n",
    "import pandas as pd\n",
    "import sklearn\n",
    "import seaborn as sns\n",
    "import matplotlib.pyplot as plt\n",
    "\n",
    "from sklearn.linear_model import LinearRegression\n",
    "from sklearn.linear_model import LogisticRegression\n",
    "from sklearn import datasets,linear_model\n",
    "from sklearn.ensemble import RandomForestClassifier\n",
    "from sklearn.model_selection import RandomizedSearchCV, train_test_split\n",
    "from scipy.stats import randint\n",
    "\n",
    "# Tree Visualisation\n",
    "from sklearn.tree import export_graphviz\n",
    "from IPython.display import Image\n",
    "import graphviz\n",
    "from sklearn.linear_model import Ridge,Lasso\n",
    "from sklearn.model_selection import train_test_split\n",
    "from sklearn import metrics\n",
    "from sklearn.metrics import mean_squared_error,r2_score,mean_absolute_error\n",
    "from sklearn.metrics import confusion_matrix,classification_report\n",
    "from sklearn.metrics import  roc_curve, roc_auc_score"
   ]
  },
  {
   "cell_type": "markdown",
   "id": "966b57b3",
   "metadata": {},
   "source": [
    "# 2: Importing required Dataset¶"
   ]
  },
  {
   "cell_type": "code",
   "execution_count": 3,
   "id": "f565fa53",
   "metadata": {},
   "outputs": [
    {
     "data": {
      "text/html": [
       "<div>\n",
       "<style scoped>\n",
       "    .dataframe tbody tr th:only-of-type {\n",
       "        vertical-align: middle;\n",
       "    }\n",
       "\n",
       "    .dataframe tbody tr th {\n",
       "        vertical-align: top;\n",
       "    }\n",
       "\n",
       "    .dataframe thead th {\n",
       "        text-align: right;\n",
       "    }\n",
       "</style>\n",
       "<table border=\"1\" class=\"dataframe\">\n",
       "  <thead>\n",
       "    <tr style=\"text-align: right;\">\n",
       "      <th></th>\n",
       "      <th>fixed acidity</th>\n",
       "      <th>volatile acidity</th>\n",
       "      <th>citric acid</th>\n",
       "      <th>residual sugar</th>\n",
       "      <th>chlorides</th>\n",
       "      <th>free sulfur dioxide</th>\n",
       "      <th>total sulfur dioxide</th>\n",
       "      <th>density</th>\n",
       "      <th>pH</th>\n",
       "      <th>sulphates</th>\n",
       "      <th>alcohol</th>\n",
       "      <th>quality</th>\n",
       "    </tr>\n",
       "  </thead>\n",
       "  <tbody>\n",
       "    <tr>\n",
       "      <th>0</th>\n",
       "      <td>7.4</td>\n",
       "      <td>0.700</td>\n",
       "      <td>0.00</td>\n",
       "      <td>1.9</td>\n",
       "      <td>0.076</td>\n",
       "      <td>11.0</td>\n",
       "      <td>34.0</td>\n",
       "      <td>0.9978</td>\n",
       "      <td>3.51</td>\n",
       "      <td>0.56</td>\n",
       "      <td>9.4</td>\n",
       "      <td>5</td>\n",
       "    </tr>\n",
       "    <tr>\n",
       "      <th>1</th>\n",
       "      <td>7.8</td>\n",
       "      <td>0.880</td>\n",
       "      <td>0.00</td>\n",
       "      <td>2.6</td>\n",
       "      <td>0.098</td>\n",
       "      <td>25.0</td>\n",
       "      <td>67.0</td>\n",
       "      <td>0.9968</td>\n",
       "      <td>3.20</td>\n",
       "      <td>0.68</td>\n",
       "      <td>9.8</td>\n",
       "      <td>5</td>\n",
       "    </tr>\n",
       "    <tr>\n",
       "      <th>2</th>\n",
       "      <td>7.8</td>\n",
       "      <td>0.760</td>\n",
       "      <td>0.04</td>\n",
       "      <td>2.3</td>\n",
       "      <td>0.092</td>\n",
       "      <td>15.0</td>\n",
       "      <td>54.0</td>\n",
       "      <td>0.9970</td>\n",
       "      <td>3.26</td>\n",
       "      <td>0.65</td>\n",
       "      <td>9.8</td>\n",
       "      <td>5</td>\n",
       "    </tr>\n",
       "    <tr>\n",
       "      <th>3</th>\n",
       "      <td>11.2</td>\n",
       "      <td>0.280</td>\n",
       "      <td>0.56</td>\n",
       "      <td>1.9</td>\n",
       "      <td>0.075</td>\n",
       "      <td>17.0</td>\n",
       "      <td>60.0</td>\n",
       "      <td>0.9980</td>\n",
       "      <td>3.16</td>\n",
       "      <td>0.58</td>\n",
       "      <td>9.8</td>\n",
       "      <td>6</td>\n",
       "    </tr>\n",
       "    <tr>\n",
       "      <th>4</th>\n",
       "      <td>7.4</td>\n",
       "      <td>0.700</td>\n",
       "      <td>0.00</td>\n",
       "      <td>1.9</td>\n",
       "      <td>0.076</td>\n",
       "      <td>11.0</td>\n",
       "      <td>34.0</td>\n",
       "      <td>0.9978</td>\n",
       "      <td>3.51</td>\n",
       "      <td>0.56</td>\n",
       "      <td>9.4</td>\n",
       "      <td>5</td>\n",
       "    </tr>\n",
       "    <tr>\n",
       "      <th>5</th>\n",
       "      <td>7.4</td>\n",
       "      <td>0.660</td>\n",
       "      <td>0.00</td>\n",
       "      <td>1.8</td>\n",
       "      <td>0.075</td>\n",
       "      <td>13.0</td>\n",
       "      <td>40.0</td>\n",
       "      <td>0.9978</td>\n",
       "      <td>3.51</td>\n",
       "      <td>0.56</td>\n",
       "      <td>9.4</td>\n",
       "      <td>5</td>\n",
       "    </tr>\n",
       "    <tr>\n",
       "      <th>6</th>\n",
       "      <td>7.9</td>\n",
       "      <td>0.600</td>\n",
       "      <td>0.06</td>\n",
       "      <td>1.6</td>\n",
       "      <td>0.069</td>\n",
       "      <td>15.0</td>\n",
       "      <td>59.0</td>\n",
       "      <td>0.9964</td>\n",
       "      <td>3.30</td>\n",
       "      <td>0.46</td>\n",
       "      <td>9.4</td>\n",
       "      <td>5</td>\n",
       "    </tr>\n",
       "    <tr>\n",
       "      <th>7</th>\n",
       "      <td>7.3</td>\n",
       "      <td>0.650</td>\n",
       "      <td>0.00</td>\n",
       "      <td>1.2</td>\n",
       "      <td>0.065</td>\n",
       "      <td>15.0</td>\n",
       "      <td>21.0</td>\n",
       "      <td>0.9946</td>\n",
       "      <td>3.39</td>\n",
       "      <td>0.47</td>\n",
       "      <td>10.0</td>\n",
       "      <td>7</td>\n",
       "    </tr>\n",
       "    <tr>\n",
       "      <th>8</th>\n",
       "      <td>7.8</td>\n",
       "      <td>0.580</td>\n",
       "      <td>0.02</td>\n",
       "      <td>2.0</td>\n",
       "      <td>0.073</td>\n",
       "      <td>9.0</td>\n",
       "      <td>18.0</td>\n",
       "      <td>0.9968</td>\n",
       "      <td>3.36</td>\n",
       "      <td>0.57</td>\n",
       "      <td>9.5</td>\n",
       "      <td>7</td>\n",
       "    </tr>\n",
       "    <tr>\n",
       "      <th>9</th>\n",
       "      <td>7.5</td>\n",
       "      <td>0.500</td>\n",
       "      <td>0.36</td>\n",
       "      <td>6.1</td>\n",
       "      <td>0.071</td>\n",
       "      <td>17.0</td>\n",
       "      <td>102.0</td>\n",
       "      <td>0.9978</td>\n",
       "      <td>3.35</td>\n",
       "      <td>0.80</td>\n",
       "      <td>10.5</td>\n",
       "      <td>5</td>\n",
       "    </tr>\n",
       "    <tr>\n",
       "      <th>10</th>\n",
       "      <td>6.7</td>\n",
       "      <td>0.580</td>\n",
       "      <td>0.08</td>\n",
       "      <td>1.8</td>\n",
       "      <td>0.097</td>\n",
       "      <td>15.0</td>\n",
       "      <td>65.0</td>\n",
       "      <td>0.9959</td>\n",
       "      <td>3.28</td>\n",
       "      <td>0.54</td>\n",
       "      <td>9.2</td>\n",
       "      <td>5</td>\n",
       "    </tr>\n",
       "    <tr>\n",
       "      <th>11</th>\n",
       "      <td>7.5</td>\n",
       "      <td>0.500</td>\n",
       "      <td>0.36</td>\n",
       "      <td>6.1</td>\n",
       "      <td>0.071</td>\n",
       "      <td>17.0</td>\n",
       "      <td>102.0</td>\n",
       "      <td>0.9978</td>\n",
       "      <td>3.35</td>\n",
       "      <td>0.80</td>\n",
       "      <td>10.5</td>\n",
       "      <td>5</td>\n",
       "    </tr>\n",
       "    <tr>\n",
       "      <th>12</th>\n",
       "      <td>5.6</td>\n",
       "      <td>0.615</td>\n",
       "      <td>0.00</td>\n",
       "      <td>1.6</td>\n",
       "      <td>0.089</td>\n",
       "      <td>16.0</td>\n",
       "      <td>59.0</td>\n",
       "      <td>0.9943</td>\n",
       "      <td>3.58</td>\n",
       "      <td>0.52</td>\n",
       "      <td>9.9</td>\n",
       "      <td>5</td>\n",
       "    </tr>\n",
       "    <tr>\n",
       "      <th>13</th>\n",
       "      <td>7.8</td>\n",
       "      <td>0.610</td>\n",
       "      <td>0.29</td>\n",
       "      <td>1.6</td>\n",
       "      <td>0.114</td>\n",
       "      <td>9.0</td>\n",
       "      <td>29.0</td>\n",
       "      <td>0.9974</td>\n",
       "      <td>3.26</td>\n",
       "      <td>1.56</td>\n",
       "      <td>9.1</td>\n",
       "      <td>5</td>\n",
       "    </tr>\n",
       "    <tr>\n",
       "      <th>14</th>\n",
       "      <td>8.9</td>\n",
       "      <td>0.620</td>\n",
       "      <td>0.18</td>\n",
       "      <td>3.8</td>\n",
       "      <td>0.176</td>\n",
       "      <td>52.0</td>\n",
       "      <td>145.0</td>\n",
       "      <td>0.9986</td>\n",
       "      <td>3.16</td>\n",
       "      <td>0.88</td>\n",
       "      <td>9.2</td>\n",
       "      <td>5</td>\n",
       "    </tr>\n",
       "    <tr>\n",
       "      <th>15</th>\n",
       "      <td>8.9</td>\n",
       "      <td>0.620</td>\n",
       "      <td>0.19</td>\n",
       "      <td>3.9</td>\n",
       "      <td>0.170</td>\n",
       "      <td>51.0</td>\n",
       "      <td>148.0</td>\n",
       "      <td>0.9986</td>\n",
       "      <td>3.17</td>\n",
       "      <td>0.93</td>\n",
       "      <td>9.2</td>\n",
       "      <td>5</td>\n",
       "    </tr>\n",
       "    <tr>\n",
       "      <th>16</th>\n",
       "      <td>8.5</td>\n",
       "      <td>0.280</td>\n",
       "      <td>0.56</td>\n",
       "      <td>1.8</td>\n",
       "      <td>0.092</td>\n",
       "      <td>35.0</td>\n",
       "      <td>103.0</td>\n",
       "      <td>0.9969</td>\n",
       "      <td>3.30</td>\n",
       "      <td>0.75</td>\n",
       "      <td>10.5</td>\n",
       "      <td>7</td>\n",
       "    </tr>\n",
       "    <tr>\n",
       "      <th>17</th>\n",
       "      <td>8.1</td>\n",
       "      <td>0.560</td>\n",
       "      <td>0.28</td>\n",
       "      <td>1.7</td>\n",
       "      <td>0.368</td>\n",
       "      <td>16.0</td>\n",
       "      <td>56.0</td>\n",
       "      <td>0.9968</td>\n",
       "      <td>3.11</td>\n",
       "      <td>1.28</td>\n",
       "      <td>9.3</td>\n",
       "      <td>5</td>\n",
       "    </tr>\n",
       "    <tr>\n",
       "      <th>18</th>\n",
       "      <td>7.4</td>\n",
       "      <td>0.590</td>\n",
       "      <td>0.08</td>\n",
       "      <td>4.4</td>\n",
       "      <td>0.086</td>\n",
       "      <td>6.0</td>\n",
       "      <td>29.0</td>\n",
       "      <td>0.9974</td>\n",
       "      <td>3.38</td>\n",
       "      <td>0.50</td>\n",
       "      <td>9.0</td>\n",
       "      <td>4</td>\n",
       "    </tr>\n",
       "    <tr>\n",
       "      <th>19</th>\n",
       "      <td>7.9</td>\n",
       "      <td>0.320</td>\n",
       "      <td>0.51</td>\n",
       "      <td>1.8</td>\n",
       "      <td>0.341</td>\n",
       "      <td>17.0</td>\n",
       "      <td>56.0</td>\n",
       "      <td>0.9969</td>\n",
       "      <td>3.04</td>\n",
       "      <td>1.08</td>\n",
       "      <td>9.2</td>\n",
       "      <td>6</td>\n",
       "    </tr>\n",
       "  </tbody>\n",
       "</table>\n",
       "</div>"
      ],
      "text/plain": [
       "    fixed acidity  volatile acidity  citric acid  residual sugar  chlorides  \\\n",
       "0             7.4             0.700         0.00             1.9      0.076   \n",
       "1             7.8             0.880         0.00             2.6      0.098   \n",
       "2             7.8             0.760         0.04             2.3      0.092   \n",
       "3            11.2             0.280         0.56             1.9      0.075   \n",
       "4             7.4             0.700         0.00             1.9      0.076   \n",
       "5             7.4             0.660         0.00             1.8      0.075   \n",
       "6             7.9             0.600         0.06             1.6      0.069   \n",
       "7             7.3             0.650         0.00             1.2      0.065   \n",
       "8             7.8             0.580         0.02             2.0      0.073   \n",
       "9             7.5             0.500         0.36             6.1      0.071   \n",
       "10            6.7             0.580         0.08             1.8      0.097   \n",
       "11            7.5             0.500         0.36             6.1      0.071   \n",
       "12            5.6             0.615         0.00             1.6      0.089   \n",
       "13            7.8             0.610         0.29             1.6      0.114   \n",
       "14            8.9             0.620         0.18             3.8      0.176   \n",
       "15            8.9             0.620         0.19             3.9      0.170   \n",
       "16            8.5             0.280         0.56             1.8      0.092   \n",
       "17            8.1             0.560         0.28             1.7      0.368   \n",
       "18            7.4             0.590         0.08             4.4      0.086   \n",
       "19            7.9             0.320         0.51             1.8      0.341   \n",
       "\n",
       "    free sulfur dioxide  total sulfur dioxide  density    pH  sulphates  \\\n",
       "0                  11.0                  34.0   0.9978  3.51       0.56   \n",
       "1                  25.0                  67.0   0.9968  3.20       0.68   \n",
       "2                  15.0                  54.0   0.9970  3.26       0.65   \n",
       "3                  17.0                  60.0   0.9980  3.16       0.58   \n",
       "4                  11.0                  34.0   0.9978  3.51       0.56   \n",
       "5                  13.0                  40.0   0.9978  3.51       0.56   \n",
       "6                  15.0                  59.0   0.9964  3.30       0.46   \n",
       "7                  15.0                  21.0   0.9946  3.39       0.47   \n",
       "8                   9.0                  18.0   0.9968  3.36       0.57   \n",
       "9                  17.0                 102.0   0.9978  3.35       0.80   \n",
       "10                 15.0                  65.0   0.9959  3.28       0.54   \n",
       "11                 17.0                 102.0   0.9978  3.35       0.80   \n",
       "12                 16.0                  59.0   0.9943  3.58       0.52   \n",
       "13                  9.0                  29.0   0.9974  3.26       1.56   \n",
       "14                 52.0                 145.0   0.9986  3.16       0.88   \n",
       "15                 51.0                 148.0   0.9986  3.17       0.93   \n",
       "16                 35.0                 103.0   0.9969  3.30       0.75   \n",
       "17                 16.0                  56.0   0.9968  3.11       1.28   \n",
       "18                  6.0                  29.0   0.9974  3.38       0.50   \n",
       "19                 17.0                  56.0   0.9969  3.04       1.08   \n",
       "\n",
       "    alcohol  quality  \n",
       "0       9.4        5  \n",
       "1       9.8        5  \n",
       "2       9.8        5  \n",
       "3       9.8        6  \n",
       "4       9.4        5  \n",
       "5       9.4        5  \n",
       "6       9.4        5  \n",
       "7      10.0        7  \n",
       "8       9.5        7  \n",
       "9      10.5        5  \n",
       "10      9.2        5  \n",
       "11     10.5        5  \n",
       "12      9.9        5  \n",
       "13      9.1        5  \n",
       "14      9.2        5  \n",
       "15      9.2        5  \n",
       "16     10.5        7  \n",
       "17      9.3        5  \n",
       "18      9.0        4  \n",
       "19      9.2        6  "
      ]
     },
     "execution_count": 3,
     "metadata": {},
     "output_type": "execute_result"
    }
   ],
   "source": [
    "# Importing the dataset\n",
    "wine_data=pd.read_csv('winequality-red.csv')\n",
    "wine_data.head(20)  # displaying first 20 records from the dataset"
   ]
  },
  {
   "cell_type": "markdown",
   "id": "e73f681c",
   "metadata": {},
   "source": [
    "# 3: Data Cleaning and Transfroming"
   ]
  },
  {
   "cell_type": "code",
   "execution_count": 4,
   "id": "4654b875",
   "metadata": {},
   "outputs": [
    {
     "data": {
      "text/plain": [
       "(1599, 12)"
      ]
     },
     "execution_count": 4,
     "metadata": {},
     "output_type": "execute_result"
    }
   ],
   "source": [
    "wine_data.shape # to determine the dimension of the dataset"
   ]
  },
  {
   "cell_type": "code",
   "execution_count": 5,
   "id": "2281cc67",
   "metadata": {},
   "outputs": [
    {
     "name": "stdout",
     "output_type": "stream",
     "text": [
      "<class 'pandas.core.frame.DataFrame'>\n",
      "RangeIndex: 1599 entries, 0 to 1598\n",
      "Data columns (total 12 columns):\n",
      " #   Column                Non-Null Count  Dtype  \n",
      "---  ------                --------------  -----  \n",
      " 0   fixed acidity         1599 non-null   float64\n",
      " 1   volatile acidity      1599 non-null   float64\n",
      " 2   citric acid           1599 non-null   float64\n",
      " 3   residual sugar        1599 non-null   float64\n",
      " 4   chlorides             1599 non-null   float64\n",
      " 5   free sulfur dioxide   1599 non-null   float64\n",
      " 6   total sulfur dioxide  1599 non-null   float64\n",
      " 7   density               1599 non-null   float64\n",
      " 8   pH                    1599 non-null   float64\n",
      " 9   sulphates             1599 non-null   float64\n",
      " 10  alcohol               1599 non-null   float64\n",
      " 11  quality               1599 non-null   int64  \n",
      "dtypes: float64(11), int64(1)\n",
      "memory usage: 150.0 KB\n"
     ]
    }
   ],
   "source": [
    "#Checking the dtypes of all the columns\n",
    "wine_data.info()"
   ]
  },
  {
   "cell_type": "markdown",
   "id": "7aaa556c",
   "metadata": {},
   "source": [
    "We can infer that All features are numerical (11 floating value and one integer value) and no categorical features"
   ]
  },
  {
   "cell_type": "code",
   "execution_count": 6,
   "id": "bbac0a34",
   "metadata": {},
   "outputs": [
    {
     "data": {
      "text/plain": [
       "fixed acidity           0\n",
       "volatile acidity        0\n",
       "citric acid             0\n",
       "residual sugar          0\n",
       "chlorides               0\n",
       "free sulfur dioxide     0\n",
       "total sulfur dioxide    0\n",
       "density                 0\n",
       "pH                      0\n",
       "sulphates               0\n",
       "alcohol                 0\n",
       "quality                 0\n",
       "dtype: int64"
      ]
     },
     "execution_count": 6,
     "metadata": {},
     "output_type": "execute_result"
    }
   ],
   "source": [
    "# Checking for missing values\n",
    "wine_data.isnull().sum()"
   ]
  },
  {
   "cell_type": "markdown",
   "id": "6f7f6f59",
   "metadata": {},
   "source": [
    "We can infer that there is no missing values and the dataset is appropriate for the prediction"
   ]
  },
  {
   "cell_type": "code",
   "execution_count": 7,
   "id": "b591836b",
   "metadata": {},
   "outputs": [
    {
     "data": {
      "text/html": [
       "<div>\n",
       "<style scoped>\n",
       "    .dataframe tbody tr th:only-of-type {\n",
       "        vertical-align: middle;\n",
       "    }\n",
       "\n",
       "    .dataframe tbody tr th {\n",
       "        vertical-align: top;\n",
       "    }\n",
       "\n",
       "    .dataframe thead th {\n",
       "        text-align: right;\n",
       "    }\n",
       "</style>\n",
       "<table border=\"1\" class=\"dataframe\">\n",
       "  <thead>\n",
       "    <tr style=\"text-align: right;\">\n",
       "      <th></th>\n",
       "      <th>fixed acidity</th>\n",
       "      <th>volatile acidity</th>\n",
       "      <th>citric acid</th>\n",
       "      <th>residual sugar</th>\n",
       "      <th>chlorides</th>\n",
       "      <th>free sulfur dioxide</th>\n",
       "      <th>total sulfur dioxide</th>\n",
       "      <th>density</th>\n",
       "      <th>pH</th>\n",
       "      <th>sulphates</th>\n",
       "      <th>alcohol</th>\n",
       "      <th>quality</th>\n",
       "    </tr>\n",
       "  </thead>\n",
       "  <tbody>\n",
       "    <tr>\n",
       "      <th>count</th>\n",
       "      <td>1599.000000</td>\n",
       "      <td>1599.000000</td>\n",
       "      <td>1599.000000</td>\n",
       "      <td>1599.000000</td>\n",
       "      <td>1599.000000</td>\n",
       "      <td>1599.000000</td>\n",
       "      <td>1599.000000</td>\n",
       "      <td>1599.000000</td>\n",
       "      <td>1599.000000</td>\n",
       "      <td>1599.000000</td>\n",
       "      <td>1599.000000</td>\n",
       "      <td>1599.000000</td>\n",
       "    </tr>\n",
       "    <tr>\n",
       "      <th>mean</th>\n",
       "      <td>8.319637</td>\n",
       "      <td>0.527821</td>\n",
       "      <td>0.270976</td>\n",
       "      <td>2.538806</td>\n",
       "      <td>0.087467</td>\n",
       "      <td>15.874922</td>\n",
       "      <td>46.467792</td>\n",
       "      <td>0.996747</td>\n",
       "      <td>3.311113</td>\n",
       "      <td>0.658149</td>\n",
       "      <td>10.422983</td>\n",
       "      <td>5.636023</td>\n",
       "    </tr>\n",
       "    <tr>\n",
       "      <th>std</th>\n",
       "      <td>1.741096</td>\n",
       "      <td>0.179060</td>\n",
       "      <td>0.194801</td>\n",
       "      <td>1.409928</td>\n",
       "      <td>0.047065</td>\n",
       "      <td>10.460157</td>\n",
       "      <td>32.895324</td>\n",
       "      <td>0.001887</td>\n",
       "      <td>0.154386</td>\n",
       "      <td>0.169507</td>\n",
       "      <td>1.065668</td>\n",
       "      <td>0.807569</td>\n",
       "    </tr>\n",
       "    <tr>\n",
       "      <th>min</th>\n",
       "      <td>4.600000</td>\n",
       "      <td>0.120000</td>\n",
       "      <td>0.000000</td>\n",
       "      <td>0.900000</td>\n",
       "      <td>0.012000</td>\n",
       "      <td>1.000000</td>\n",
       "      <td>6.000000</td>\n",
       "      <td>0.990070</td>\n",
       "      <td>2.740000</td>\n",
       "      <td>0.330000</td>\n",
       "      <td>8.400000</td>\n",
       "      <td>3.000000</td>\n",
       "    </tr>\n",
       "    <tr>\n",
       "      <th>25%</th>\n",
       "      <td>7.100000</td>\n",
       "      <td>0.390000</td>\n",
       "      <td>0.090000</td>\n",
       "      <td>1.900000</td>\n",
       "      <td>0.070000</td>\n",
       "      <td>7.000000</td>\n",
       "      <td>22.000000</td>\n",
       "      <td>0.995600</td>\n",
       "      <td>3.210000</td>\n",
       "      <td>0.550000</td>\n",
       "      <td>9.500000</td>\n",
       "      <td>5.000000</td>\n",
       "    </tr>\n",
       "    <tr>\n",
       "      <th>50%</th>\n",
       "      <td>7.900000</td>\n",
       "      <td>0.520000</td>\n",
       "      <td>0.260000</td>\n",
       "      <td>2.200000</td>\n",
       "      <td>0.079000</td>\n",
       "      <td>14.000000</td>\n",
       "      <td>38.000000</td>\n",
       "      <td>0.996750</td>\n",
       "      <td>3.310000</td>\n",
       "      <td>0.620000</td>\n",
       "      <td>10.200000</td>\n",
       "      <td>6.000000</td>\n",
       "    </tr>\n",
       "    <tr>\n",
       "      <th>75%</th>\n",
       "      <td>9.200000</td>\n",
       "      <td>0.640000</td>\n",
       "      <td>0.420000</td>\n",
       "      <td>2.600000</td>\n",
       "      <td>0.090000</td>\n",
       "      <td>21.000000</td>\n",
       "      <td>62.000000</td>\n",
       "      <td>0.997835</td>\n",
       "      <td>3.400000</td>\n",
       "      <td>0.730000</td>\n",
       "      <td>11.100000</td>\n",
       "      <td>6.000000</td>\n",
       "    </tr>\n",
       "    <tr>\n",
       "      <th>max</th>\n",
       "      <td>15.900000</td>\n",
       "      <td>1.580000</td>\n",
       "      <td>1.000000</td>\n",
       "      <td>15.500000</td>\n",
       "      <td>0.611000</td>\n",
       "      <td>72.000000</td>\n",
       "      <td>289.000000</td>\n",
       "      <td>1.003690</td>\n",
       "      <td>4.010000</td>\n",
       "      <td>2.000000</td>\n",
       "      <td>14.900000</td>\n",
       "      <td>8.000000</td>\n",
       "    </tr>\n",
       "  </tbody>\n",
       "</table>\n",
       "</div>"
      ],
      "text/plain": [
       "       fixed acidity  volatile acidity  citric acid  residual sugar  \\\n",
       "count    1599.000000       1599.000000  1599.000000     1599.000000   \n",
       "mean        8.319637          0.527821     0.270976        2.538806   \n",
       "std         1.741096          0.179060     0.194801        1.409928   \n",
       "min         4.600000          0.120000     0.000000        0.900000   \n",
       "25%         7.100000          0.390000     0.090000        1.900000   \n",
       "50%         7.900000          0.520000     0.260000        2.200000   \n",
       "75%         9.200000          0.640000     0.420000        2.600000   \n",
       "max        15.900000          1.580000     1.000000       15.500000   \n",
       "\n",
       "         chlorides  free sulfur dioxide  total sulfur dioxide      density  \\\n",
       "count  1599.000000          1599.000000           1599.000000  1599.000000   \n",
       "mean      0.087467            15.874922             46.467792     0.996747   \n",
       "std       0.047065            10.460157             32.895324     0.001887   \n",
       "min       0.012000             1.000000              6.000000     0.990070   \n",
       "25%       0.070000             7.000000             22.000000     0.995600   \n",
       "50%       0.079000            14.000000             38.000000     0.996750   \n",
       "75%       0.090000            21.000000             62.000000     0.997835   \n",
       "max       0.611000            72.000000            289.000000     1.003690   \n",
       "\n",
       "                pH    sulphates      alcohol      quality  \n",
       "count  1599.000000  1599.000000  1599.000000  1599.000000  \n",
       "mean      3.311113     0.658149    10.422983     5.636023  \n",
       "std       0.154386     0.169507     1.065668     0.807569  \n",
       "min       2.740000     0.330000     8.400000     3.000000  \n",
       "25%       3.210000     0.550000     9.500000     5.000000  \n",
       "50%       3.310000     0.620000    10.200000     6.000000  \n",
       "75%       3.400000     0.730000    11.100000     6.000000  \n",
       "max       4.010000     2.000000    14.900000     8.000000  "
      ]
     },
     "execution_count": 7,
     "metadata": {},
     "output_type": "execute_result"
    }
   ],
   "source": [
    "wine_data.describe() # Performing Descriptive Statistical Analysis on Numerical Features"
   ]
  },
  {
   "cell_type": "code",
   "execution_count": 7,
   "id": "70c8ab93",
   "metadata": {},
   "outputs": [
    {
     "data": {
      "text/plain": [
       "240"
      ]
     },
     "execution_count": 7,
     "metadata": {},
     "output_type": "execute_result"
    }
   ],
   "source": [
    "# Checking for duplicate values\n",
    "wine_data.duplicated()\n",
    "# displaying the number of duplicated values in the dataset\n",
    "wine_data[wine_data.duplicated()==True].shape[0]"
   ]
  },
  {
   "cell_type": "markdown",
   "id": "e417aac8",
   "metadata": {},
   "source": [
    "We can infer that there is 240 duplicated values in the dataset and this can affect the integrity of the dataset, hence we are going to drop the duplicated values"
   ]
  },
  {
   "cell_type": "code",
   "execution_count": 9,
   "id": "30913564",
   "metadata": {},
   "outputs": [],
   "source": [
    "# Dropping the duplicated values\n",
    "wine_data.drop_duplicates(inplace=True)"
   ]
  },
  {
   "cell_type": "code",
   "execution_count": 11,
   "id": "353efb8d",
   "metadata": {},
   "outputs": [
    {
     "data": {
      "text/plain": [
       "False"
      ]
     },
     "execution_count": 11,
     "metadata": {},
     "output_type": "execute_result"
    }
   ],
   "source": [
    "# Confirming if the duplicated values have been dropped\n",
    "wine_data.duplicated().any()"
   ]
  },
  {
   "cell_type": "markdown",
   "id": "5e64496f",
   "metadata": {},
   "source": [
    "We can infer that there is no more duplicated values"
   ]
  },
  {
   "cell_type": "markdown",
   "id": "40ddfacc",
   "metadata": {},
   "source": [
    "# 4: Data EDA, Exploratory Data analysis to see trends, pattern and relationship"
   ]
  },
  {
   "cell_type": "code",
   "execution_count": 12,
   "id": "08827c15",
   "metadata": {},
   "outputs": [
    {
     "data": {
      "text/plain": [
       "5    577\n",
       "6    535\n",
       "7    167\n",
       "4     53\n",
       "8     17\n",
       "3     10\n",
       "Name: quality, dtype: int64"
      ]
     },
     "execution_count": 12,
     "metadata": {},
     "output_type": "execute_result"
    }
   ],
   "source": [
    "# Determine the unique values for wine Quality\n",
    "wine_quality = wine_data[\"quality\"].value_counts()\n",
    "wine_quality"
   ]
  },
  {
   "cell_type": "code",
   "execution_count": 13,
   "id": "8e634773",
   "metadata": {},
   "outputs": [
    {
     "data": {
      "image/png": "[encoded data removed]",
      "text/plain": [
       "<Figure size 360x360 with 1 Axes>"
      ]
     },
     "metadata": {
      "needs_background": "light"
     },
     "output_type": "display_data"
    }
   ],
   "source": [
    "sns.catplot(x = 'quality', data = wine_data , kind = 'count',margin_titles = True,order=wine_quality.index) # plotting the quality of wine\n",
    "#add value labels to the bar chat\n",
    "for index,value in enumerate(wine_quality.values):\n",
    "    plt.text(index,value,value, ha=\"center\", va=\"bottom\",fontweight=\"black\")"
   ]
  },
  {
   "cell_type": "markdown",
   "id": "0a8aff16",
   "metadata": {},
   "source": [
    "We can infer that wine quality of 5 has the highest frequency of 577 and wine quality  of 3 has the lowest frequency of 10\n",
    "Most of the wines have quality of 5 or 6"
   ]
  },
  {
   "cell_type": "code",
   "execution_count": 14,
   "id": "b2a865c9",
   "metadata": {},
   "outputs": [
    {
     "data": {
      "image/png": "[encoded data removed]",
      "text/plain": [
       "<Figure size 432x288 with 1 Axes>"
      ]
     },
     "metadata": {
      "needs_background": "light"
     },
     "output_type": "display_data"
    }
   ],
   "source": [
    "sns.barplot(x=wine_quality.index, y=wine_quality.values, order=wine_quality.index, palette=[\"#11264e\",\"#6faea4\",\"#FEE08B\",\"#D4A1E7\",\"#E7A1A1\"])\n",
    "# calling the function to add value labels\n",
    "for index,value in enumerate(wine_quality.values):\n",
    "    plt.text(index,value,value, ha=\"center\", va=\"bottom\",fontweight=\"black\")"
   ]
  },
  {
   "cell_type": "code",
   "execution_count": 15,
   "id": "2431682e",
   "metadata": {},
   "outputs": [
    {
     "data": {
      "text/html": [
       "<div>\n",
       "<style scoped>\n",
       "    .dataframe tbody tr th:only-of-type {\n",
       "        vertical-align: middle;\n",
       "    }\n",
       "\n",
       "    .dataframe tbody tr th {\n",
       "        vertical-align: top;\n",
       "    }\n",
       "\n",
       "    .dataframe thead th {\n",
       "        text-align: right;\n",
       "    }\n",
       "</style>\n",
       "<table border=\"1\" class=\"dataframe\">\n",
       "  <thead>\n",
       "    <tr style=\"text-align: right;\">\n",
       "      <th></th>\n",
       "      <th>fixed acidity</th>\n",
       "      <th>volatile acidity</th>\n",
       "      <th>citric acid</th>\n",
       "      <th>residual sugar</th>\n",
       "      <th>chlorides</th>\n",
       "      <th>free sulfur dioxide</th>\n",
       "      <th>total sulfur dioxide</th>\n",
       "      <th>density</th>\n",
       "      <th>pH</th>\n",
       "      <th>sulphates</th>\n",
       "      <th>alcohol</th>\n",
       "    </tr>\n",
       "  </thead>\n",
       "  <tbody>\n",
       "    <tr>\n",
       "      <th>0</th>\n",
       "      <td>7.4</td>\n",
       "      <td>0.700</td>\n",
       "      <td>0.00</td>\n",
       "      <td>1.9</td>\n",
       "      <td>0.076</td>\n",
       "      <td>11.0</td>\n",
       "      <td>34.0</td>\n",
       "      <td>0.99780</td>\n",
       "      <td>3.51</td>\n",
       "      <td>0.56</td>\n",
       "      <td>9.4</td>\n",
       "    </tr>\n",
       "    <tr>\n",
       "      <th>1</th>\n",
       "      <td>7.8</td>\n",
       "      <td>0.880</td>\n",
       "      <td>0.00</td>\n",
       "      <td>2.6</td>\n",
       "      <td>0.098</td>\n",
       "      <td>25.0</td>\n",
       "      <td>67.0</td>\n",
       "      <td>0.99680</td>\n",
       "      <td>3.20</td>\n",
       "      <td>0.68</td>\n",
       "      <td>9.8</td>\n",
       "    </tr>\n",
       "    <tr>\n",
       "      <th>2</th>\n",
       "      <td>7.8</td>\n",
       "      <td>0.760</td>\n",
       "      <td>0.04</td>\n",
       "      <td>2.3</td>\n",
       "      <td>0.092</td>\n",
       "      <td>15.0</td>\n",
       "      <td>54.0</td>\n",
       "      <td>0.99700</td>\n",
       "      <td>3.26</td>\n",
       "      <td>0.65</td>\n",
       "      <td>9.8</td>\n",
       "    </tr>\n",
       "    <tr>\n",
       "      <th>3</th>\n",
       "      <td>11.2</td>\n",
       "      <td>0.280</td>\n",
       "      <td>0.56</td>\n",
       "      <td>1.9</td>\n",
       "      <td>0.075</td>\n",
       "      <td>17.0</td>\n",
       "      <td>60.0</td>\n",
       "      <td>0.99800</td>\n",
       "      <td>3.16</td>\n",
       "      <td>0.58</td>\n",
       "      <td>9.8</td>\n",
       "    </tr>\n",
       "    <tr>\n",
       "      <th>5</th>\n",
       "      <td>7.4</td>\n",
       "      <td>0.660</td>\n",
       "      <td>0.00</td>\n",
       "      <td>1.8</td>\n",
       "      <td>0.075</td>\n",
       "      <td>13.0</td>\n",
       "      <td>40.0</td>\n",
       "      <td>0.99780</td>\n",
       "      <td>3.51</td>\n",
       "      <td>0.56</td>\n",
       "      <td>9.4</td>\n",
       "    </tr>\n",
       "    <tr>\n",
       "      <th>...</th>\n",
       "      <td>...</td>\n",
       "      <td>...</td>\n",
       "      <td>...</td>\n",
       "      <td>...</td>\n",
       "      <td>...</td>\n",
       "      <td>...</td>\n",
       "      <td>...</td>\n",
       "      <td>...</td>\n",
       "      <td>...</td>\n",
       "      <td>...</td>\n",
       "      <td>...</td>\n",
       "    </tr>\n",
       "    <tr>\n",
       "      <th>1593</th>\n",
       "      <td>6.8</td>\n",
       "      <td>0.620</td>\n",
       "      <td>0.08</td>\n",
       "      <td>1.9</td>\n",
       "      <td>0.068</td>\n",
       "      <td>28.0</td>\n",
       "      <td>38.0</td>\n",
       "      <td>0.99651</td>\n",
       "      <td>3.42</td>\n",
       "      <td>0.82</td>\n",
       "      <td>9.5</td>\n",
       "    </tr>\n",
       "    <tr>\n",
       "      <th>1594</th>\n",
       "      <td>6.2</td>\n",
       "      <td>0.600</td>\n",
       "      <td>0.08</td>\n",
       "      <td>2.0</td>\n",
       "      <td>0.090</td>\n",
       "      <td>32.0</td>\n",
       "      <td>44.0</td>\n",
       "      <td>0.99490</td>\n",
       "      <td>3.45</td>\n",
       "      <td>0.58</td>\n",
       "      <td>10.5</td>\n",
       "    </tr>\n",
       "    <tr>\n",
       "      <th>1595</th>\n",
       "      <td>5.9</td>\n",
       "      <td>0.550</td>\n",
       "      <td>0.10</td>\n",
       "      <td>2.2</td>\n",
       "      <td>0.062</td>\n",
       "      <td>39.0</td>\n",
       "      <td>51.0</td>\n",
       "      <td>0.99512</td>\n",
       "      <td>3.52</td>\n",
       "      <td>0.76</td>\n",
       "      <td>11.2</td>\n",
       "    </tr>\n",
       "    <tr>\n",
       "      <th>1597</th>\n",
       "      <td>5.9</td>\n",
       "      <td>0.645</td>\n",
       "      <td>0.12</td>\n",
       "      <td>2.0</td>\n",
       "      <td>0.075</td>\n",
       "      <td>32.0</td>\n",
       "      <td>44.0</td>\n",
       "      <td>0.99547</td>\n",
       "      <td>3.57</td>\n",
       "      <td>0.71</td>\n",
       "      <td>10.2</td>\n",
       "    </tr>\n",
       "    <tr>\n",
       "      <th>1598</th>\n",
       "      <td>6.0</td>\n",
       "      <td>0.310</td>\n",
       "      <td>0.47</td>\n",
       "      <td>3.6</td>\n",
       "      <td>0.067</td>\n",
       "      <td>18.0</td>\n",
       "      <td>42.0</td>\n",
       "      <td>0.99549</td>\n",
       "      <td>3.39</td>\n",
       "      <td>0.66</td>\n",
       "      <td>11.0</td>\n",
       "    </tr>\n",
       "  </tbody>\n",
       "</table>\n",
       "<p>1359 rows × 11 columns</p>\n",
       "</div>"
      ],
      "text/plain": [
       "      fixed acidity  volatile acidity  citric acid  residual sugar  chlorides  \\\n",
       "0               7.4             0.700         0.00             1.9      0.076   \n",
       "1               7.8             0.880         0.00             2.6      0.098   \n",
       "2               7.8             0.760         0.04             2.3      0.092   \n",
       "3              11.2             0.280         0.56             1.9      0.075   \n",
       "5               7.4             0.660         0.00             1.8      0.075   \n",
       "...             ...               ...          ...             ...        ...   \n",
       "1593            6.8             0.620         0.08             1.9      0.068   \n",
       "1594            6.2             0.600         0.08             2.0      0.090   \n",
       "1595            5.9             0.550         0.10             2.2      0.062   \n",
       "1597            5.9             0.645         0.12             2.0      0.075   \n",
       "1598            6.0             0.310         0.47             3.6      0.067   \n",
       "\n",
       "      free sulfur dioxide  total sulfur dioxide  density    pH  sulphates  \\\n",
       "0                    11.0                  34.0  0.99780  3.51       0.56   \n",
       "1                    25.0                  67.0  0.99680  3.20       0.68   \n",
       "2                    15.0                  54.0  0.99700  3.26       0.65   \n",
       "3                    17.0                  60.0  0.99800  3.16       0.58   \n",
       "5                    13.0                  40.0  0.99780  3.51       0.56   \n",
       "...                   ...                   ...      ...   ...        ...   \n",
       "1593                 28.0                  38.0  0.99651  3.42       0.82   \n",
       "1594                 32.0                  44.0  0.99490  3.45       0.58   \n",
       "1595                 39.0                  51.0  0.99512  3.52       0.76   \n",
       "1597                 32.0                  44.0  0.99547  3.57       0.71   \n",
       "1598                 18.0                  42.0  0.99549  3.39       0.66   \n",
       "\n",
       "      alcohol  \n",
       "0         9.4  \n",
       "1         9.8  \n",
       "2         9.8  \n",
       "3         9.8  \n",
       "5         9.4  \n",
       "...       ...  \n",
       "1593      9.5  \n",
       "1594     10.5  \n",
       "1595     11.2  \n",
       "1597     10.2  \n",
       "1598     11.0  \n",
       "\n",
       "[1359 rows x 11 columns]"
      ]
     },
     "execution_count": 15,
     "metadata": {},
     "output_type": "execute_result"
    }
   ],
   "source": [
    "# converting it to datafram\n",
    "cols=wine_data.drop('quality',axis=1)\n",
    "cols=pd.DataFrame(cols)\n",
    "cols\n",
    "#column_names = len(cols.columns)\n",
    "#print(column_names)"
   ]
  },
  {
   "cell_type": "code",
   "execution_count": 16,
   "id": "05ba89a3",
   "metadata": {},
   "outputs": [],
   "source": [
    "# function to plot other features against Wine Quality\n",
    "def features_plot(column):\n",
    "    plt.figure(figsize=(10,10))\n",
    "    plt.subplot(2,1,1)\n",
    "    col_name=['fixed acidity', 'volatile acidity', 'citric acid', 'residual sugar',\n",
    "       'chlorides', 'free sulfur dioxide', 'total sulfur dioxide', 'density',\n",
    "       'pH', 'sulphates', 'alcohol']\n",
    "    sns.barplot(x=\"quality\",y=column, data=wine_data)\n",
    "    plt.title(f\"{column.title()} vs Quality Analysis\",fontweight=\"black\",size=25,pad=10,)\n",
    "    col_values = wine_data[column].value_counts()\n",
    "    plt.tight_layout()\n",
    "  "
   ]
  },
  {
   "cell_type": "code",
   "execution_count": 17,
   "id": "ef2f1c5b",
   "metadata": {},
   "outputs": [
    {
     "data": {
      "image/png": "[encoded data removed]",
      "text/plain": [
       "<Figure size 720x720 with 1 Axes>"
      ]
     },
     "metadata": {
      "needs_background": "light"
     },
     "output_type": "display_data"
    }
   ],
   "source": [
    "features_plot(\"fixed acidity\") # Calling function features_plot to plot fixed acidity against wine quality"
   ]
  },
  {
   "cell_type": "markdown",
   "id": "0ae6c832",
   "metadata": {},
   "source": [
    "There is no correlation or defined relationship between quality and Fixed acidity."
   ]
  },
  {
   "cell_type": "code",
   "execution_count": 18,
   "id": "c58cc33f",
   "metadata": {},
   "outputs": [
    {
     "data": {
      "image/png": "[encoded data removed]",
      "text/plain": [
       "<Figure size 720x720 with 1 Axes>"
      ]
     },
     "metadata": {
      "needs_background": "light"
     },
     "output_type": "display_data"
    }
   ],
   "source": [
    "features_plot(\"volatile acidity\") # Calling function features_plot to plot  Volatile acidity against wine quality"
   ]
  },
  {
   "cell_type": "markdown",
   "id": "3b3097e1",
   "metadata": {},
   "source": [
    "The higher the Volatile acidity, the lower the quality of the wine"
   ]
  },
  {
   "cell_type": "code",
   "execution_count": 19,
   "id": "f05e72f5",
   "metadata": {},
   "outputs": [
    {
     "data": {
      "image/png": "[encoded data removed]",
      "text/plain": [
       "<Figure size 720x720 with 1 Axes>"
      ]
     },
     "metadata": {
      "needs_background": "light"
     },
     "output_type": "display_data"
    }
   ],
   "source": [
    "features_plot(\"citric acid\") # Calling function features_plot to plot  citric acid against wine quality"
   ]
  },
  {
   "cell_type": "markdown",
   "id": "6a174ae0",
   "metadata": {},
   "source": [
    "The lower the citric acid, the higher the quality of the wine"
   ]
  },
  {
   "cell_type": "code",
   "execution_count": 20,
   "id": "5af7d6c3",
   "metadata": {},
   "outputs": [
    {
     "data": {
      "image/png": "[encoded data removed]",
      "text/plain": [
       "<Figure size 720x720 with 1 Axes>"
      ]
     },
     "metadata": {
      "needs_background": "light"
     },
     "output_type": "display_data"
    }
   ],
   "source": [
    "features_plot(\"residual sugar\") # Calling function features_plot to plot Residual Sugar against wine quality"
   ]
  },
  {
   "cell_type": "markdown",
   "id": "390c0471",
   "metadata": {},
   "source": [
    "There is no correlation or defined relationship between quality and Fixed acidity."
   ]
  },
  {
   "cell_type": "code",
   "execution_count": 21,
   "id": "f7f9b5aa",
   "metadata": {},
   "outputs": [
    {
     "data": {
      "image/png": "[encoded data removed]",
      "text/plain": [
       "<Figure size 720x720 with 1 Axes>"
      ]
     },
     "metadata": {
      "needs_background": "light"
     },
     "output_type": "display_data"
    }
   ],
   "source": [
    "features_plot(\"chlorides\") # Calling function features_plot to plot  Chlorides against wine quality"
   ]
  },
  {
   "cell_type": "markdown",
   "id": "1d8b9925",
   "metadata": {},
   "source": [
    "The higher the chlorides, the lower the quality of the wine"
   ]
  },
  {
   "cell_type": "code",
   "execution_count": 22,
   "id": "09e8631d",
   "metadata": {},
   "outputs": [
    {
     "data": {
      "image/png": "[encoded data removed]",
      "text/plain": [
       "<Figure size 720x720 with 1 Axes>"
      ]
     },
     "metadata": {
      "needs_background": "light"
     },
     "output_type": "display_data"
    }
   ],
   "source": [
    "features_plot(\"free sulfur dioxide\") # Calling function features_plot to plot Free sulfur dioxide against wine quality"
   ]
  },
  {
   "cell_type": "markdown",
   "id": "df134438",
   "metadata": {},
   "source": [
    "The quality relationship with sulfur dioxide is fluctuating."
   ]
  },
  {
   "cell_type": "code",
   "execution_count": 23,
   "id": "5dee0b06",
   "metadata": {},
   "outputs": [
    {
     "data": {
      "image/png": "[encoded data removed]",
      "text/plain": [
       "<Figure size 720x720 with 1 Axes>"
      ]
     },
     "metadata": {
      "needs_background": "light"
     },
     "output_type": "display_data"
    }
   ],
   "source": [
    "features_plot(\"total sulfur dioxide\") # Calling function features_plot to plot total sulfur dioxide against wine quality"
   ]
  },
  {
   "cell_type": "markdown",
   "id": "cf062a9c",
   "metadata": {},
   "source": [
    "The quality relationship with sulfur dioxide is fluctuating."
   ]
  },
  {
   "cell_type": "code",
   "execution_count": 24,
   "id": "8204e83f",
   "metadata": {},
   "outputs": [
    {
     "data": {
      "image/png": "[encoded data removed]",
      "text/plain": [
       "<Figure size 720x720 with 1 Axes>"
      ]
     },
     "metadata": {
      "needs_background": "light"
     },
     "output_type": "display_data"
    }
   ],
   "source": [
    "features_plot(\"density\") # Calling function features_plot to plot  density against wine quality"
   ]
  },
  {
   "cell_type": "markdown",
   "id": "c0cc5d19",
   "metadata": {},
   "source": [
    "There is no correlation or defined relationship between quality and Density."
   ]
  },
  {
   "cell_type": "code",
   "execution_count": 25,
   "id": "9b87f52d",
   "metadata": {},
   "outputs": [
    {
     "data": {
      "image/png": "[encoded data removed]",
      "text/plain": [
       "<Figure size 720x720 with 1 Axes>"
      ]
     },
     "metadata": {
      "needs_background": "light"
     },
     "output_type": "display_data"
    }
   ],
   "source": [
    "features_plot(\"pH\") # Calling function features_plot to plot ph against wine quality"
   ]
  },
  {
   "cell_type": "markdown",
   "id": "928964f9",
   "metadata": {},
   "source": [
    "There is no correlation or defined relationship between quality and PH."
   ]
  },
  {
   "cell_type": "code",
   "execution_count": 24,
   "id": "954d8be4",
   "metadata": {},
   "outputs": [
    {
     "data": {
      "image/png": "[encoded data removed]",
      "text/plain": [
       "<Figure size 720x720 with 1 Axes>"
      ]
     },
     "metadata": {
      "needs_background": "light"
     },
     "output_type": "display_data"
    }
   ],
   "source": [
    "features_plot(\"sulphates\") # Calling function features_plot to plot sulphates against wine quality"
   ]
  },
  {
   "cell_type": "markdown",
   "id": "9e145a35",
   "metadata": {},
   "source": [
    "The higher the sulphate, the higher the quality of the wine"
   ]
  },
  {
   "cell_type": "code",
   "execution_count": 25,
   "id": "52f628d5",
   "metadata": {},
   "outputs": [
    {
     "data": {
      "image/png": "[encoded data removed]",
      "text/plain": [
       "<Figure size 720x720 with 1 Axes>"
      ]
     },
     "metadata": {
      "needs_background": "light"
     },
     "output_type": "display_data"
    }
   ],
   "source": [
    "features_plot(\"alcohol\") # Calling function features_plot to plot alcohol against wine quality"
   ]
  },
  {
   "cell_type": "markdown",
   "id": "8e0ff813",
   "metadata": {},
   "source": [
    "The hihger the alcohol, the higher the quality of the wine"
   ]
  },
  {
   "cell_type": "markdown",
   "id": "c68e9c37",
   "metadata": {},
   "source": [
    "# 5: Feature Selection/Extraction- to identify the most relevant features"
   ]
  },
  {
   "cell_type": "code",
   "execution_count": 26,
   "id": "8cbe54c1",
   "metadata": {},
   "outputs": [
    {
     "name": "stderr",
     "output_type": "stream",
     "text": [
      "C:\\Users\\ayoba\\AppData\\Local\\Temp\\ipykernel_33280\\3408033909.py:3: DeprecationWarning: `np.bool` is a deprecated alias for the builtin `bool`. To silence this warning, use `bool` by itself. Doing this will not modify any behavior and is safe. If you specifically wanted the numpy scalar type, use `np.bool_` here.\n",
      "Deprecated in NumPy 1.20; for more details and guidance: https://numpy.org/devdocs/release/1.20.0-notes.html#deprecations\n",
      "  mask = np.zeros_like(wine_data.corr(), dtype=np.bool)\n"
     ]
    },
    {
     "data": {
      "text/plain": [
       "<AxesSubplot:>"
      ]
     },
     "execution_count": 26,
     "metadata": {},
     "output_type": "execute_result"
    },
    {
     "data": {
      "image/png": "[encoded data removed]",
      "text/plain": [
       "<Figure size 1152x864 with 2 Axes>"
      ]
     },
     "metadata": {
      "needs_background": "light"
     },
     "output_type": "display_data"
    }
   ],
   "source": [
    "# Having a look at the correlation matrix\n",
    "plt.figure(figsize=(16,12))\n",
    "mask = np.zeros_like(wine_data.corr(), dtype=np.bool)\n",
    "mask[np.triu_indices_from(mask)] = True\n",
    "#sns.heatmap(data=wine_data.corr(), cmap=\"coolwarm\", annot=True,linewidths=1, linecolor='white',mask=mask,vmin=-1,vmax=+1)\n",
    "sns.heatmap(data=wine_data.corr(), vmin = -1, vmax = +1, annot = True, cmap = 'coolwarm')"
   ]
  },
  {
   "cell_type": "markdown",
   "id": "324b0c47",
   "metadata": {},
   "source": [
    "There are high correlation between the features\n",
    "Fixed acidity is having high correlation with PH,density,and citric acid and the relationship is vice versa.\n",
    "Alcohol is having high correlation with quality and density and the relationship is vice versa.\n",
    "Overall Summary.\n",
    "Below features have statistically significant relationship with wine quality:\n",
    "Volatile Acidity.\n",
    "Citric Acid.\n",
    "Chlorides.\n",
    "Density.\n",
    "Sulphates.\n",
    "Alcohol.\n",
    "Below features does not  have statistically significant relationship with wine quality.\n",
    "Fixed Acidity.\n",
    "Residual Sugar.\n",
    "Free Sulfur Dioxide.\n",
    "Total Sulfur Dioxide.\n",
    "PH"
   ]
  },
  {
   "cell_type": "markdown",
   "id": "051045fc",
   "metadata": {},
   "source": [
    "# 6: Data Preprocessing"
   ]
  },
  {
   "cell_type": "code",
   "execution_count": 27,
   "id": "ec4162a6",
   "metadata": {},
   "outputs": [
    {
     "data": {
      "text/plain": [
       "array(['Bad', 'Good'], dtype=object)"
      ]
     },
     "execution_count": 27,
     "metadata": {},
     "output_type": "execute_result"
    }
   ],
   "source": [
    "wine_data['quality_status'] = np.where(wine_data['quality'] > 6, 'Good' , 'Bad')\n",
    "wine_data['quality_status'].unique()"
   ]
  },
  {
   "cell_type": "code",
   "execution_count": 28,
   "id": "89ffcfbb",
   "metadata": {},
   "outputs": [
    {
     "data": {
      "text/plain": [
       "Bad     1175\n",
       "Good     184\n",
       "Name: quality_status, dtype: int64"
      ]
     },
     "execution_count": 28,
     "metadata": {},
     "output_type": "execute_result"
    }
   ],
   "source": [
    "wine_data['quality_status'].value_counts()"
   ]
  },
  {
   "cell_type": "code",
   "execution_count": 29,
   "id": "4cb2d316",
   "metadata": {},
   "outputs": [
    {
     "name": "stdout",
     "output_type": "stream",
     "text": [
      "                           \u001b[1mTarget Variable Distribution                          \n"
     ]
    },
    {
     "data": {
      "image/png": "[encoded data removed]",
      "text/plain": [
       "<Figure size 432x288 with 1 Axes>"
      ]
     },
     "metadata": {},
     "output_type": "display_data"
    }
   ],
   "source": [
    "labels = ['Bad Quality','Good Quality']\n",
    "explode=np.zeros(len(labels))\n",
    "explode[-1]=0.1\n",
    "# Representing the pie chart using Pie Chart\n",
    "print('\\033[1mTarget Variable Distribution'.center(85))\n",
    "plt.pie(wine_data['quality_status'].value_counts(), labels=labels, counterclock=False, shadow=True,explode=explode, autopct='%1.2f%%', radius=2, startangle=-30)\n",
    "plt.show()"
   ]
  },
  {
   "cell_type": "markdown",
   "id": "0c1a7b5e",
   "metadata": {},
   "source": [
    "The dataset distribution shows high level of bad quality wine and low level of good quality wine"
   ]
  },
  {
   "cell_type": "code",
   "execution_count": 31,
   "id": "cfb37b7d",
   "metadata": {},
   "outputs": [
    {
     "data": {
      "text/html": [
       "<div>\n",
       "<style scoped>\n",
       "    .dataframe tbody tr th:only-of-type {\n",
       "        vertical-align: middle;\n",
       "    }\n",
       "\n",
       "    .dataframe tbody tr th {\n",
       "        vertical-align: top;\n",
       "    }\n",
       "\n",
       "    .dataframe thead th {\n",
       "        text-align: right;\n",
       "    }\n",
       "</style>\n",
       "<table border=\"1\" class=\"dataframe\">\n",
       "  <thead>\n",
       "    <tr style=\"text-align: right;\">\n",
       "      <th></th>\n",
       "      <th>fixed acidity</th>\n",
       "      <th>volatile acidity</th>\n",
       "      <th>citric acid</th>\n",
       "      <th>residual sugar</th>\n",
       "      <th>chlorides</th>\n",
       "      <th>free sulfur dioxide</th>\n",
       "      <th>total sulfur dioxide</th>\n",
       "      <th>density</th>\n",
       "      <th>pH</th>\n",
       "      <th>sulphates</th>\n",
       "      <th>alcohol</th>\n",
       "      <th>quality</th>\n",
       "      <th>quality_status</th>\n",
       "    </tr>\n",
       "  </thead>\n",
       "  <tbody>\n",
       "    <tr>\n",
       "      <th>0</th>\n",
       "      <td>7.4</td>\n",
       "      <td>0.700</td>\n",
       "      <td>0.00</td>\n",
       "      <td>1.9</td>\n",
       "      <td>0.076</td>\n",
       "      <td>11.0</td>\n",
       "      <td>34.0</td>\n",
       "      <td>0.9978</td>\n",
       "      <td>3.51</td>\n",
       "      <td>0.56</td>\n",
       "      <td>9.4</td>\n",
       "      <td>0</td>\n",
       "      <td>Bad</td>\n",
       "    </tr>\n",
       "    <tr>\n",
       "      <th>1</th>\n",
       "      <td>7.8</td>\n",
       "      <td>0.880</td>\n",
       "      <td>0.00</td>\n",
       "      <td>2.6</td>\n",
       "      <td>0.098</td>\n",
       "      <td>25.0</td>\n",
       "      <td>67.0</td>\n",
       "      <td>0.9968</td>\n",
       "      <td>3.20</td>\n",
       "      <td>0.68</td>\n",
       "      <td>9.8</td>\n",
       "      <td>0</td>\n",
       "      <td>Bad</td>\n",
       "    </tr>\n",
       "    <tr>\n",
       "      <th>2</th>\n",
       "      <td>7.8</td>\n",
       "      <td>0.760</td>\n",
       "      <td>0.04</td>\n",
       "      <td>2.3</td>\n",
       "      <td>0.092</td>\n",
       "      <td>15.0</td>\n",
       "      <td>54.0</td>\n",
       "      <td>0.9970</td>\n",
       "      <td>3.26</td>\n",
       "      <td>0.65</td>\n",
       "      <td>9.8</td>\n",
       "      <td>0</td>\n",
       "      <td>Bad</td>\n",
       "    </tr>\n",
       "    <tr>\n",
       "      <th>3</th>\n",
       "      <td>11.2</td>\n",
       "      <td>0.280</td>\n",
       "      <td>0.56</td>\n",
       "      <td>1.9</td>\n",
       "      <td>0.075</td>\n",
       "      <td>17.0</td>\n",
       "      <td>60.0</td>\n",
       "      <td>0.9980</td>\n",
       "      <td>3.16</td>\n",
       "      <td>0.58</td>\n",
       "      <td>9.8</td>\n",
       "      <td>0</td>\n",
       "      <td>Bad</td>\n",
       "    </tr>\n",
       "    <tr>\n",
       "      <th>5</th>\n",
       "      <td>7.4</td>\n",
       "      <td>0.660</td>\n",
       "      <td>0.00</td>\n",
       "      <td>1.8</td>\n",
       "      <td>0.075</td>\n",
       "      <td>13.0</td>\n",
       "      <td>40.0</td>\n",
       "      <td>0.9978</td>\n",
       "      <td>3.51</td>\n",
       "      <td>0.56</td>\n",
       "      <td>9.4</td>\n",
       "      <td>0</td>\n",
       "      <td>Bad</td>\n",
       "    </tr>\n",
       "    <tr>\n",
       "      <th>6</th>\n",
       "      <td>7.9</td>\n",
       "      <td>0.600</td>\n",
       "      <td>0.06</td>\n",
       "      <td>1.6</td>\n",
       "      <td>0.069</td>\n",
       "      <td>15.0</td>\n",
       "      <td>59.0</td>\n",
       "      <td>0.9964</td>\n",
       "      <td>3.30</td>\n",
       "      <td>0.46</td>\n",
       "      <td>9.4</td>\n",
       "      <td>0</td>\n",
       "      <td>Bad</td>\n",
       "    </tr>\n",
       "    <tr>\n",
       "      <th>7</th>\n",
       "      <td>7.3</td>\n",
       "      <td>0.650</td>\n",
       "      <td>0.00</td>\n",
       "      <td>1.2</td>\n",
       "      <td>0.065</td>\n",
       "      <td>15.0</td>\n",
       "      <td>21.0</td>\n",
       "      <td>0.9946</td>\n",
       "      <td>3.39</td>\n",
       "      <td>0.47</td>\n",
       "      <td>10.0</td>\n",
       "      <td>1</td>\n",
       "      <td>Good</td>\n",
       "    </tr>\n",
       "    <tr>\n",
       "      <th>8</th>\n",
       "      <td>7.8</td>\n",
       "      <td>0.580</td>\n",
       "      <td>0.02</td>\n",
       "      <td>2.0</td>\n",
       "      <td>0.073</td>\n",
       "      <td>9.0</td>\n",
       "      <td>18.0</td>\n",
       "      <td>0.9968</td>\n",
       "      <td>3.36</td>\n",
       "      <td>0.57</td>\n",
       "      <td>9.5</td>\n",
       "      <td>1</td>\n",
       "      <td>Good</td>\n",
       "    </tr>\n",
       "    <tr>\n",
       "      <th>9</th>\n",
       "      <td>7.5</td>\n",
       "      <td>0.500</td>\n",
       "      <td>0.36</td>\n",
       "      <td>6.1</td>\n",
       "      <td>0.071</td>\n",
       "      <td>17.0</td>\n",
       "      <td>102.0</td>\n",
       "      <td>0.9978</td>\n",
       "      <td>3.35</td>\n",
       "      <td>0.80</td>\n",
       "      <td>10.5</td>\n",
       "      <td>0</td>\n",
       "      <td>Bad</td>\n",
       "    </tr>\n",
       "    <tr>\n",
       "      <th>10</th>\n",
       "      <td>6.7</td>\n",
       "      <td>0.580</td>\n",
       "      <td>0.08</td>\n",
       "      <td>1.8</td>\n",
       "      <td>0.097</td>\n",
       "      <td>15.0</td>\n",
       "      <td>65.0</td>\n",
       "      <td>0.9959</td>\n",
       "      <td>3.28</td>\n",
       "      <td>0.54</td>\n",
       "      <td>9.2</td>\n",
       "      <td>0</td>\n",
       "      <td>Bad</td>\n",
       "    </tr>\n",
       "    <tr>\n",
       "      <th>12</th>\n",
       "      <td>5.6</td>\n",
       "      <td>0.615</td>\n",
       "      <td>0.00</td>\n",
       "      <td>1.6</td>\n",
       "      <td>0.089</td>\n",
       "      <td>16.0</td>\n",
       "      <td>59.0</td>\n",
       "      <td>0.9943</td>\n",
       "      <td>3.58</td>\n",
       "      <td>0.52</td>\n",
       "      <td>9.9</td>\n",
       "      <td>0</td>\n",
       "      <td>Bad</td>\n",
       "    </tr>\n",
       "    <tr>\n",
       "      <th>13</th>\n",
       "      <td>7.8</td>\n",
       "      <td>0.610</td>\n",
       "      <td>0.29</td>\n",
       "      <td>1.6</td>\n",
       "      <td>0.114</td>\n",
       "      <td>9.0</td>\n",
       "      <td>29.0</td>\n",
       "      <td>0.9974</td>\n",
       "      <td>3.26</td>\n",
       "      <td>1.56</td>\n",
       "      <td>9.1</td>\n",
       "      <td>0</td>\n",
       "      <td>Bad</td>\n",
       "    </tr>\n",
       "    <tr>\n",
       "      <th>14</th>\n",
       "      <td>8.9</td>\n",
       "      <td>0.620</td>\n",
       "      <td>0.18</td>\n",
       "      <td>3.8</td>\n",
       "      <td>0.176</td>\n",
       "      <td>52.0</td>\n",
       "      <td>145.0</td>\n",
       "      <td>0.9986</td>\n",
       "      <td>3.16</td>\n",
       "      <td>0.88</td>\n",
       "      <td>9.2</td>\n",
       "      <td>0</td>\n",
       "      <td>Bad</td>\n",
       "    </tr>\n",
       "    <tr>\n",
       "      <th>15</th>\n",
       "      <td>8.9</td>\n",
       "      <td>0.620</td>\n",
       "      <td>0.19</td>\n",
       "      <td>3.9</td>\n",
       "      <td>0.170</td>\n",
       "      <td>51.0</td>\n",
       "      <td>148.0</td>\n",
       "      <td>0.9986</td>\n",
       "      <td>3.17</td>\n",
       "      <td>0.93</td>\n",
       "      <td>9.2</td>\n",
       "      <td>0</td>\n",
       "      <td>Bad</td>\n",
       "    </tr>\n",
       "    <tr>\n",
       "      <th>16</th>\n",
       "      <td>8.5</td>\n",
       "      <td>0.280</td>\n",
       "      <td>0.56</td>\n",
       "      <td>1.8</td>\n",
       "      <td>0.092</td>\n",
       "      <td>35.0</td>\n",
       "      <td>103.0</td>\n",
       "      <td>0.9969</td>\n",
       "      <td>3.30</td>\n",
       "      <td>0.75</td>\n",
       "      <td>10.5</td>\n",
       "      <td>1</td>\n",
       "      <td>Good</td>\n",
       "    </tr>\n",
       "  </tbody>\n",
       "</table>\n",
       "</div>"
      ],
      "text/plain": [
       "    fixed acidity  volatile acidity  citric acid  residual sugar  chlorides  \\\n",
       "0             7.4             0.700         0.00             1.9      0.076   \n",
       "1             7.8             0.880         0.00             2.6      0.098   \n",
       "2             7.8             0.760         0.04             2.3      0.092   \n",
       "3            11.2             0.280         0.56             1.9      0.075   \n",
       "5             7.4             0.660         0.00             1.8      0.075   \n",
       "6             7.9             0.600         0.06             1.6      0.069   \n",
       "7             7.3             0.650         0.00             1.2      0.065   \n",
       "8             7.8             0.580         0.02             2.0      0.073   \n",
       "9             7.5             0.500         0.36             6.1      0.071   \n",
       "10            6.7             0.580         0.08             1.8      0.097   \n",
       "12            5.6             0.615         0.00             1.6      0.089   \n",
       "13            7.8             0.610         0.29             1.6      0.114   \n",
       "14            8.9             0.620         0.18             3.8      0.176   \n",
       "15            8.9             0.620         0.19             3.9      0.170   \n",
       "16            8.5             0.280         0.56             1.8      0.092   \n",
       "\n",
       "    free sulfur dioxide  total sulfur dioxide  density    pH  sulphates  \\\n",
       "0                  11.0                  34.0   0.9978  3.51       0.56   \n",
       "1                  25.0                  67.0   0.9968  3.20       0.68   \n",
       "2                  15.0                  54.0   0.9970  3.26       0.65   \n",
       "3                  17.0                  60.0   0.9980  3.16       0.58   \n",
       "5                  13.0                  40.0   0.9978  3.51       0.56   \n",
       "6                  15.0                  59.0   0.9964  3.30       0.46   \n",
       "7                  15.0                  21.0   0.9946  3.39       0.47   \n",
       "8                   9.0                  18.0   0.9968  3.36       0.57   \n",
       "9                  17.0                 102.0   0.9978  3.35       0.80   \n",
       "10                 15.0                  65.0   0.9959  3.28       0.54   \n",
       "12                 16.0                  59.0   0.9943  3.58       0.52   \n",
       "13                  9.0                  29.0   0.9974  3.26       1.56   \n",
       "14                 52.0                 145.0   0.9986  3.16       0.88   \n",
       "15                 51.0                 148.0   0.9986  3.17       0.93   \n",
       "16                 35.0                 103.0   0.9969  3.30       0.75   \n",
       "\n",
       "    alcohol  quality quality_status  \n",
       "0       9.4        0            Bad  \n",
       "1       9.8        0            Bad  \n",
       "2       9.8        0            Bad  \n",
       "3       9.8        0            Bad  \n",
       "5       9.4        0            Bad  \n",
       "6       9.4        0            Bad  \n",
       "7      10.0        1           Good  \n",
       "8       9.5        1           Good  \n",
       "9      10.5        0            Bad  \n",
       "10      9.2        0            Bad  \n",
       "12      9.9        0            Bad  \n",
       "13      9.1        0            Bad  \n",
       "14      9.2        0            Bad  \n",
       "15      9.2        0            Bad  \n",
       "16     10.5        1           Good  "
      ]
     },
     "execution_count": 31,
     "metadata": {},
     "output_type": "execute_result"
    }
   ],
   "source": [
    "wine_data[\"quality\"] = wine_data[\"quality_status\"].replace({\"Bad\":0,\"Good\":1}) # encoding the wine Quality 0: Bad, 1:Good\n",
    "wine_data.head(15)"
   ]
  },
  {
   "cell_type": "code",
   "execution_count": 32,
   "id": "dae96fb0",
   "metadata": {},
   "outputs": [],
   "source": [
    "# Droping qualities and quality_status\n",
    "wine_data=wine_data.drop(['quality_status'],axis=1)\n"
   ]
  },
  {
   "cell_type": "code",
   "execution_count": 33,
   "id": "6e2739f8",
   "metadata": {},
   "outputs": [],
   "source": [
    "# Separating feature data and Label data\n",
    "X = wine_data.drop(['quality'],axis=1)\n",
    "y = wine_data['quality']"
   ]
  },
  {
   "cell_type": "code",
   "execution_count": 34,
   "id": "2d2cec2b",
   "metadata": {},
   "outputs": [
    {
     "data": {
      "text/plain": [
       "array([[-0.52443096,  0.93200015, -1.39325797, ...,  1.29187216,\n",
       "        -0.57856134, -0.95437429],\n",
       "       [-0.29406274,  1.91580043, -1.39325797, ..., -0.70839548,\n",
       "         0.12482157, -0.5845748 ],\n",
       "       [-0.29406274,  1.25993358, -1.18861732, ..., -0.32124691,\n",
       "        -0.05102416, -0.5845748 ],\n",
       "       ...,\n",
       "       [-1.38831178,  0.11216658, -0.88165635, ...,  1.35639693,\n",
       "         0.59374351,  0.7097234 ],\n",
       "       [-1.38831178,  0.63139451, -0.77933603, ...,  1.67902074,\n",
       "         0.3006673 , -0.21477532],\n",
       "       [-1.33071973, -1.19956712,  1.01126962, ...,  0.51757501,\n",
       "         0.00759108,  0.52482366]])"
      ]
     },
     "execution_count": 34,
     "metadata": {},
     "output_type": "execute_result"
    }
   ],
   "source": [
    "# Standardizing the dataset for X\n",
    "from sklearn.preprocessing import StandardScaler\n",
    "stdscalar= StandardScaler()\n",
    "X_Scalar= stdscalar.fit_transform(X)\n",
    "X_Scalar"
   ]
  },
  {
   "cell_type": "code",
   "execution_count": 35,
   "id": "bb91c45d",
   "metadata": {},
   "outputs": [
    {
     "data": {
      "text/plain": [
       "((1087, 11), (272, 11), (1087,), (272,))"
      ]
     },
     "execution_count": 35,
     "metadata": {},
     "output_type": "execute_result"
    }
   ],
   "source": [
    "#  train-test splitSplit data into training and testing sets with test_size=0.20 and training_size=0.80\n",
    "X_train, X_test, y_train, y_test = train_test_split(X_Scalar, y, test_size = 0.20,random_state=42)\n",
    "X_train.shape,X_test.shape,y_train.shape,y_test.shape"
   ]
  },
  {
   "cell_type": "markdown",
   "id": "d370f57e",
   "metadata": {},
   "source": [
    "# 7: Predictive Modelling using various algorithms"
   ]
  },
  {
   "cell_type": "markdown",
   "id": "da5fa679",
   "metadata": {},
   "source": [
    "Logistic Regression"
   ]
  },
  {
   "cell_type": "code",
   "execution_count": 36,
   "id": "15957f10",
   "metadata": {},
   "outputs": [],
   "source": [
    "lreg=LogisticRegression(multi_class='multinomial',solver='newton-cg')"
   ]
  },
  {
   "cell_type": "code",
   "execution_count": 37,
   "id": "3cdf357b",
   "metadata": {},
   "outputs": [
    {
     "data": {
      "text/html": [
       "<style>#sk-container-id-1 {color: black;background-color: white;}#sk-container-id-1 pre{padding: 0;}#sk-container-id-1 div.sk-toggleable {background-color: white;}#sk-container-id-1 label.sk-toggleable__label {cursor: pointer;display: block;width: 100%;margin-bottom: 0;padding: 0.3em;box-sizing: border-box;text-align: center;}#sk-container-id-1 label.sk-toggleable__label-arrow:before {content: \"▸\";float: left;margin-right: 0.25em;color: #696969;}#sk-container-id-1 label.sk-toggleable__label-arrow:hover:before {color: black;}#sk-container-id-1 div.sk-estimator:hover label.sk-toggleable__label-arrow:before {color: black;}#sk-container-id-1 div.sk-toggleable__content {max-height: 0;max-width: 0;overflow: hidden;text-align: left;background-color: #f0f8ff;}#sk-container-id-1 div.sk-toggleable__content pre {margin: 0.2em;color: black;border-radius: 0.25em;background-color: #f0f8ff;}#sk-container-id-1 input.sk-toggleable__control:checked~div.sk-toggleable__content {max-height: 200px;max-width: 100%;overflow: auto;}#sk-container-id-1 input.sk-toggleable__control:checked~label.sk-toggleable__label-arrow:before {content: \"▾\";}#sk-container-id-1 div.sk-estimator input.sk-toggleable__control:checked~label.sk-toggleable__label {background-color: #d4ebff;}#sk-container-id-1 div.sk-label input.sk-toggleable__control:checked~label.sk-toggleable__label {background-color: #d4ebff;}#sk-container-id-1 input.sk-hidden--visually {border: 0;clip: rect(1px 1px 1px 1px);clip: rect(1px, 1px, 1px, 1px);height: 1px;margin: -1px;overflow: hidden;padding: 0;position: absolute;width: 1px;}#sk-container-id-1 div.sk-estimator {font-family: monospace;background-color: #f0f8ff;border: 1px dotted black;border-radius: 0.25em;box-sizing: border-box;margin-bottom: 0.5em;}#sk-container-id-1 div.sk-estimator:hover {background-color: #d4ebff;}#sk-container-id-1 div.sk-parallel-item::after {content: \"\";width: 100%;border-bottom: 1px solid gray;flex-grow: 1;}#sk-container-id-1 div.sk-label:hover label.sk-toggleable__label {background-color: #d4ebff;}#sk-container-id-1 div.sk-serial::before {content: \"\";position: absolute;border-left: 1px solid gray;box-sizing: border-box;top: 0;bottom: 0;left: 50%;z-index: 0;}#sk-container-id-1 div.sk-serial {display: flex;flex-direction: column;align-items: center;background-color: white;padding-right: 0.2em;padding-left: 0.2em;position: relative;}#sk-container-id-1 div.sk-item {position: relative;z-index: 1;}#sk-container-id-1 div.sk-parallel {display: flex;align-items: stretch;justify-content: center;background-color: white;position: relative;}#sk-container-id-1 div.sk-item::before, #sk-container-id-1 div.sk-parallel-item::before {content: \"\";position: absolute;border-left: 1px solid gray;box-sizing: border-box;top: 0;bottom: 0;left: 50%;z-index: -1;}#sk-container-id-1 div.sk-parallel-item {display: flex;flex-direction: column;z-index: 1;position: relative;background-color: white;}#sk-container-id-1 div.sk-parallel-item:first-child::after {align-self: flex-end;width: 50%;}#sk-container-id-1 div.sk-parallel-item:last-child::after {align-self: flex-start;width: 50%;}#sk-container-id-1 div.sk-parallel-item:only-child::after {width: 0;}#sk-container-id-1 div.sk-dashed-wrapped {border: 1px dashed gray;margin: 0 0.4em 0.5em 0.4em;box-sizing: border-box;padding-bottom: 0.4em;background-color: white;}#sk-container-id-1 div.sk-label label {font-family: monospace;font-weight: bold;display: inline-block;line-height: 1.2em;}#sk-container-id-1 div.sk-label-container {text-align: center;}#sk-container-id-1 div.sk-container {/* jupyter's `normalize.less` sets `[hidden] { display: none; }` but bootstrap.min.css set `[hidden] { display: none !important; }` so we also need the `!important` here to be able to override the default hidden behavior on the sphinx rendered scikit-learn.org. See: https://github.com/scikit-learn/scikit-learn/issues/21755 */display: inline-block !important;position: relative;}#sk-container-id-1 div.sk-text-repr-fallback {display: none;}</style><div id=\"sk-container-id-1\" class=\"sk-top-container\"><div class=\"sk-text-repr-fallback\"><pre>LogisticRegression(multi_class=&#x27;multinomial&#x27;, solver=&#x27;newton-cg&#x27;)</pre><b>In a Jupyter environment, please rerun this cell to show the HTML representation or trust the notebook. <br />On GitHub, the HTML representation is unable to render, please try loading this page with nbviewer.org.</b></div><div class=\"sk-container\" hidden><div class=\"sk-item\"><div class=\"sk-estimator sk-toggleable\"><input class=\"sk-toggleable__control sk-hidden--visually\" id=\"sk-estimator-id-1\" type=\"checkbox\" checked><label for=\"sk-estimator-id-1\" class=\"sk-toggleable__label sk-toggleable__label-arrow\">LogisticRegression</label><div class=\"sk-toggleable__content\"><pre>LogisticRegression(multi_class=&#x27;multinomial&#x27;, solver=&#x27;newton-cg&#x27;)</pre></div></div></div></div></div>"
      ],
      "text/plain": [
       "LogisticRegression(multi_class='multinomial', solver='newton-cg')"
      ]
     },
     "execution_count": 37,
     "metadata": {},
     "output_type": "execute_result"
    }
   ],
   "source": [
    "lreg.fit(X_train,y_train)"
   ]
  },
  {
   "cell_type": "code",
   "execution_count": 38,
   "id": "6a246c8a",
   "metadata": {},
   "outputs": [
    {
     "data": {
      "text/plain": [
       "array([1, 0, 0, ..., 0, 0, 0], dtype=int64)"
      ]
     },
     "execution_count": 38,
     "metadata": {},
     "output_type": "execute_result"
    }
   ],
   "source": [
    "lreg.fit(X_train,y_train)\n",
    "y_test_pred=lreg.predict(X_test)\n",
    "y_train_pred=lreg.predict(X_train)\n",
    "y_train_pred"
   ]
  },
  {
   "cell_type": "code",
   "execution_count": 39,
   "id": "6af65489",
   "metadata": {},
   "outputs": [
    {
     "name": "stdout",
     "output_type": "stream",
     "text": [
      "Accuracy Score of Testing Data is => 87.58 % &    Accuracy Score of Training Data is => 89.34 %\n"
     ]
    }
   ],
   "source": [
    "#pred_prob=lreg.predict_prob(X_test)\n",
    "LR_testing=round(lreg.score(X_train, y_train)*100,2)\n",
    "LR_training=round(lreg.score(X_test, y_test)*100,2)\n",
    "print(\"Accuracy Score of Testing Data is =>\",LR_testing,\"%\",\"&   \", \"Accuracy Score of Training Data is =>\", LR_training,\"%\")"
   ]
  },
  {
   "cell_type": "code",
   "execution_count": 43,
   "id": "4ccf6603",
   "metadata": {},
   "outputs": [
    {
     "name": "stdout",
     "output_type": "stream",
     "text": [
      "Accuracy: 89.33823529411765\n",
      "\n",
      "\n",
      "Error rate: 10.661764705882348\n",
      "\n",
      "\n",
      "=== Confusion Matrix ===\n",
      "[[230   8]\n",
      " [ 21  13]]\n",
      "\n",
      "\n",
      "=== Classification Report ===\n",
      "              precision    recall  f1-score   support\n",
      "\n",
      "           0       0.92      0.97      0.94       238\n",
      "           1       0.62      0.38      0.47        34\n",
      "\n",
      "    accuracy                           0.89       272\n",
      "   macro avg       0.77      0.67      0.71       272\n",
      "weighted avg       0.88      0.89      0.88       272\n",
      "\n",
      "\n",
      "\n"
     ]
    }
   ],
   "source": [
    "# Model Accuracy\n",
    "lr=metrics.accuracy_score(y_test, y_test_pred)*100\n",
    "print(\"Accuracy:\",metrics.accuracy_score(y_test, y_test_pred)*100)\n",
    "print('\\n')\n",
    "print(\"Error rate:\",(1-metrics.accuracy_score(y_test,y_test_pred))*100)\n",
    "print('\\n')\n",
    "print(\"=== Confusion Matrix ===\")\n",
    "print(confusion_matrix(y_test, y_test_pred))\n",
    "print('\\n')\n",
    "print(\"=== Classification Report ===\")\n",
    "print(classification_report(y_test, y_test_pred))\n",
    "print('\\n')"
   ]
  },
  {
   "cell_type": "markdown",
   "id": "af9fb1cd",
   "metadata": {},
   "source": [
    "Decisoin Tree Classfier"
   ]
  },
  {
   "cell_type": "code",
   "execution_count": 44,
   "id": "0d759689",
   "metadata": {},
   "outputs": [
    {
     "data": {
      "text/plain": [
       "array([0, 0, 0, 0, 0, 0, 0, 0, 0, 0, 0, 0, 0, 0, 0, 0, 0, 0, 0, 0, 0, 0,\n",
       "       0, 0, 0, 0, 0, 0, 0, 0, 0, 0, 0, 0, 0, 0, 0, 0, 0, 0, 0, 0, 0, 0,\n",
       "       0, 0, 0, 0, 0, 0, 0, 0, 0, 0, 0, 0, 0, 0, 0, 0, 0, 0, 0, 0, 0, 0,\n",
       "       0, 0, 0, 0, 0, 0, 0, 0, 0, 0, 0, 0, 0, 0, 0, 0, 0, 0, 0, 0, 0, 0,\n",
       "       0, 0, 0, 0, 0, 0, 0, 0, 0, 0, 0, 0, 0, 0, 0, 0, 0, 0, 0, 0, 0, 0,\n",
       "       0, 0, 0, 0, 0, 0, 0, 0, 0, 0, 0, 0, 0, 0, 0, 0, 0, 0, 0, 0, 0, 0,\n",
       "       0, 0, 0, 0, 0, 0, 0, 0, 0, 0, 0, 0, 0, 0, 0, 0, 0, 0, 0, 0, 0, 0,\n",
       "       0, 0, 0, 0, 0, 0, 0, 0, 0, 0, 0, 0, 0, 0, 0, 0, 1, 0, 0, 0, 0, 0,\n",
       "       0, 0, 0, 0, 0, 0, 0, 0, 0, 0, 0, 0, 0, 0, 0, 0, 0, 0, 0, 0, 0, 0,\n",
       "       0, 0, 0, 0, 0, 0, 0, 0, 0, 0, 0, 0, 0, 0, 0, 0, 0, 0, 0, 0, 0, 0,\n",
       "       0, 0, 0, 0, 0, 0, 0, 0, 0, 0, 0, 0, 0, 0, 0, 0, 0, 0, 0, 0, 0, 0,\n",
       "       0, 0, 0, 0, 0, 0, 0, 0, 0, 0, 0, 0, 0, 0, 0, 0, 0, 0, 0, 0, 0, 0,\n",
       "       0, 0, 0, 0, 0, 0, 0, 0], dtype=int64)"
      ]
     },
     "execution_count": 44,
     "metadata": {},
     "output_type": "execute_result"
    }
   ],
   "source": [
    "# Fit model on Iris Daatset\n",
    "from sklearn import tree\n",
    "DT=tree.DecisionTreeClassifier(criterion='entropy',max_depth=9, max_features='sqrt',\n",
    "                       min_samples_leaf=7, random_state=42, splitter='random')\n",
    "DT.fit(X_train,y_train)\n",
    "y_pred=DT.predict(X_test)\n",
    "y_pred\n"
   ]
  },
  {
   "cell_type": "code",
   "execution_count": 45,
   "id": "ef07c015",
   "metadata": {},
   "outputs": [
    {
     "name": "stdout",
     "output_type": "stream",
     "text": [
      "Accuracy Score of Testing Data is => 86.29 % &    Accuracy Score of Training Data is => 87.87 %\n"
     ]
    }
   ],
   "source": [
    "DTC_testing=np.round(DT.score(X_train, y_train)*100,2)\n",
    "DTC_training=np.round(DT.score(X_test, y_test)*100,2)\n",
    "print(\"Accuracy Score of Testing Data is =>\",DTC_testing,\"%\",\"&   \", \"Accuracy Score of Training Data is =>\", DTC_training,\"%\")"
   ]
  },
  {
   "cell_type": "code",
   "execution_count": 46,
   "id": "7785c052",
   "metadata": {},
   "outputs": [
    {
     "name": "stdout",
     "output_type": "stream",
     "text": [
      "Accuracy: 87.86764705882352\n",
      "\n",
      "\n",
      "Error rate: 12.132352941176471\n",
      "\n",
      "\n",
      "=== Confusion Matrix ===\n",
      "[[238   0]\n",
      " [ 33   1]]\n",
      "\n",
      "\n",
      "=== Classification Report ===\n",
      "              precision    recall  f1-score   support\n",
      "\n",
      "           0       0.88      1.00      0.94       238\n",
      "           1       1.00      0.03      0.06        34\n",
      "\n",
      "    accuracy                           0.88       272\n",
      "   macro avg       0.94      0.51      0.50       272\n",
      "weighted avg       0.89      0.88      0.83       272\n",
      "\n",
      "\n",
      "\n"
     ]
    }
   ],
   "source": [
    "# Decision Tree Model Accuracy\n",
    "DTM=metrics.accuracy_score(y_test, y_pred)*100\n",
    "print(\"Accuracy:\",metrics.accuracy_score(y_test, y_pred)*100)\n",
    "print('\\n')\n",
    "print(\"Error rate:\",(1-metrics.accuracy_score(y_test,y_pred))*100)\n",
    "print('\\n')\n",
    "print(\"=== Confusion Matrix ===\")\n",
    "print(confusion_matrix(y_test, y_pred))\n",
    "print('\\n')\n",
    "print(\"=== Classification Report ===\")\n",
    "print(classification_report(y_test, y_pred))\n",
    "print('\\n')"
   ]
  },
  {
   "cell_type": "code",
   "execution_count": 47,
   "id": "190c21e8",
   "metadata": {},
   "outputs": [
    {
     "data": {
      "text/plain": [
       "[Text(0.7376994680851063, 0.95, 'pH <= -2.206\\nentropy = 0.579\\nsamples = 1087\\nvalue = [937, 150]\\nclass = 0'),\n",
       " Text(0.7164228723404256, 0.85, 'entropy = 0.75\\nsamples = 14\\nvalue = [11, 3]\\nclass = 0'),\n",
       " Text(0.7589760638297872, 0.85, 'volatile acidity <= 0.406\\nentropy = 0.576\\nsamples = 1073\\nvalue = [926, 147]\\nclass = 0'),\n",
       " Text(0.581781914893617, 0.75, 'volatile acidity <= 0.105\\nentropy = 0.683\\nsamples = 739\\nvalue = [605, 134]\\nclass = 0'),\n",
       " Text(0.46143617021276595, 0.65, 'alcohol <= 2.47\\nentropy = 0.734\\nsamples = 596\\nvalue = [473, 123]\\nclass = 0'),\n",
       " Text(0.3696808510638298, 0.55, 'residual sugar <= -0.177\\nentropy = 0.722\\nsamples = 580\\nvalue = [464, 116]\\nclass = 0'),\n",
       " Text(0.25, 0.45, 'total sulfur dioxide <= -0.572\\nentropy = 0.64\\nsamples = 308\\nvalue = [258, 50]\\nclass = 0'),\n",
       " Text(0.13829787234042554, 0.35, 'alcohol <= 0.14\\nentropy = 0.734\\nsamples = 136\\nvalue = [108, 28]\\nclass = 0'),\n",
       " Text(0.0851063829787234, 0.25, 'volatile acidity <= -0.752\\nentropy = 0.435\\nsamples = 67\\nvalue = [61, 6]\\nclass = 0'),\n",
       " Text(0.0425531914893617, 0.15, 'total sulfur dioxide <= -0.882\\nentropy = 0.625\\nsamples = 32\\nvalue = [27, 5]\\nclass = 0'),\n",
       " Text(0.02127659574468085, 0.05, 'entropy = 0.391\\nsamples = 13\\nvalue = [12, 1]\\nclass = 0'),\n",
       " Text(0.06382978723404255, 0.05, 'entropy = 0.742\\nsamples = 19\\nvalue = [15, 4]\\nclass = 0'),\n",
       " Text(0.1276595744680851, 0.15, 'volatile acidity <= -0.277\\nentropy = 0.187\\nsamples = 35\\nvalue = [34, 1]\\nclass = 0'),\n",
       " Text(0.10638297872340426, 0.05, 'entropy = 0.391\\nsamples = 13\\nvalue = [12, 1]\\nclass = 0'),\n",
       " Text(0.14893617021276595, 0.05, 'entropy = 0.0\\nsamples = 22\\nvalue = [22, 0]\\nclass = 0'),\n",
       " Text(0.19148936170212766, 0.25, 'residual sugar <= -0.654\\nentropy = 0.903\\nsamples = 69\\nvalue = [47, 22]\\nclass = 0'),\n",
       " Text(0.1702127659574468, 0.15, 'entropy = 0.863\\nsamples = 7\\nvalue = [5, 2]\\nclass = 0'),\n",
       " Text(0.2127659574468085, 0.15, 'alcohol <= 0.623\\nentropy = 0.907\\nsamples = 62\\nvalue = [42, 20]\\nclass = 0'),\n",
       " Text(0.19148936170212766, 0.05, 'entropy = 0.696\\nsamples = 16\\nvalue = [13, 3]\\nclass = 0'),\n",
       " Text(0.23404255319148937, 0.05, 'entropy = 0.95\\nsamples = 46\\nvalue = [29, 17]\\nclass = 0'),\n",
       " Text(0.3617021276595745, 0.35, 'chlorides <= 1.724\\nentropy = 0.552\\nsamples = 172\\nvalue = [150, 22]\\nclass = 0'),\n",
       " Text(0.3404255319148936, 0.25, 'citric acid <= 0.323\\nentropy = 0.571\\nsamples = 163\\nvalue = [141, 22]\\nclass = 0'),\n",
       " Text(0.2978723404255319, 0.15, 'citric acid <= -1.144\\nentropy = 0.425\\nsamples = 104\\nvalue = [95, 9]\\nclass = 0'),\n",
       " Text(0.2765957446808511, 0.05, 'entropy = 0.391\\nsamples = 13\\nvalue = [12, 1]\\nclass = 0'),\n",
       " Text(0.3191489361702128, 0.05, 'entropy = 0.429\\nsamples = 91\\nvalue = [83, 8]\\nclass = 0'),\n",
       " Text(0.3829787234042553, 0.15, 'volatile acidity <= -1.148\\nentropy = 0.761\\nsamples = 59\\nvalue = [46, 13]\\nclass = 0'),\n",
       " Text(0.3617021276595745, 0.05, 'entropy = 0.855\\nsamples = 25\\nvalue = [18, 7]\\nclass = 0'),\n",
       " Text(0.40425531914893614, 0.05, 'entropy = 0.672\\nsamples = 34\\nvalue = [28, 6]\\nclass = 0'),\n",
       " Text(0.3829787234042553, 0.25, 'entropy = 0.0\\nsamples = 9\\nvalue = [9, 0]\\nclass = 0'),\n",
       " Text(0.48936170212765956, 0.45, 'citric acid <= 1.78\\nentropy = 0.799\\nsamples = 272\\nvalue = [206, 66]\\nclass = 0'),\n",
       " Text(0.44680851063829785, 0.35, 'volatile acidity <= -0.193\\nentropy = 0.755\\nsamples = 244\\nvalue = [191, 53]\\nclass = 0'),\n",
       " Text(0.425531914893617, 0.25, 'entropy = 0.787\\nsamples = 200\\nvalue = [153, 47]\\nclass = 0'),\n",
       " Text(0.46808510638297873, 0.25, 'residual sugar <= 0.384\\nentropy = 0.575\\nsamples = 44\\nvalue = [38, 6]\\nclass = 0'),\n",
       " Text(0.44680851063829785, 0.15, 'entropy = 0.65\\nsamples = 36\\nvalue = [30, 6]\\nclass = 0'),\n",
       " Text(0.48936170212765956, 0.15, 'entropy = 0.0\\nsamples = 8\\nvalue = [8, 0]\\nclass = 0'),\n",
       " Text(0.5319148936170213, 0.35, 'alcohol <= 1.243\\nentropy = 0.996\\nsamples = 28\\nvalue = [15, 13]\\nclass = 0'),\n",
       " Text(0.5106382978723404, 0.25, 'entropy = 0.989\\nsamples = 16\\nvalue = [9, 7]\\nclass = 0'),\n",
       " Text(0.5531914893617021, 0.25, 'entropy = 1.0\\nsamples = 12\\nvalue = [6, 6]\\nclass = 0'),\n",
       " Text(0.5531914893617021, 0.55, 'fixed acidity <= -1.021\\nentropy = 0.989\\nsamples = 16\\nvalue = [9, 7]\\nclass = 0'),\n",
       " Text(0.5319148936170213, 0.45, 'entropy = 0.991\\nsamples = 9\\nvalue = [4, 5]\\nclass = 1'),\n",
       " Text(0.574468085106383, 0.45, 'entropy = 0.863\\nsamples = 7\\nvalue = [5, 2]\\nclass = 0'),\n",
       " Text(0.7021276595744681, 0.65, 'volatile acidity <= 0.378\\nentropy = 0.391\\nsamples = 143\\nvalue = [132, 11]\\nclass = 0'),\n",
       " Text(0.6808510638297872, 0.55, 'citric acid <= -1.257\\nentropy = 0.429\\nsamples = 114\\nvalue = [104, 10]\\nclass = 0'),\n",
       " Text(0.6170212765957447, 0.45, 'pH <= 0.658\\nentropy = 0.881\\nsamples = 20\\nvalue = [14, 6]\\nclass = 0'),\n",
       " Text(0.5957446808510638, 0.35, 'entropy = 0.946\\nsamples = 11\\nvalue = [7, 4]\\nclass = 0'),\n",
       " Text(0.6382978723404256, 0.35, 'entropy = 0.764\\nsamples = 9\\nvalue = [7, 2]\\nclass = 0'),\n",
       " Text(0.7446808510638298, 0.45, 'citric acid <= -0.284\\nentropy = 0.254\\nsamples = 94\\nvalue = [90, 4]\\nclass = 0'),\n",
       " Text(0.6808510638297872, 0.35, 'volatile acidity <= 0.127\\nentropy = 0.359\\nsamples = 44\\nvalue = [41, 3]\\nclass = 0'),\n",
       " Text(0.6595744680851063, 0.25, 'entropy = 0.0\\nsamples = 7\\nvalue = [7, 0]\\nclass = 0'),\n",
       " Text(0.7021276595744681, 0.25, 'volatile acidity <= 0.27\\nentropy = 0.406\\nsamples = 37\\nvalue = [34, 3]\\nclass = 0'),\n",
       " Text(0.6808510638297872, 0.15, 'entropy = 0.31\\nsamples = 18\\nvalue = [17, 1]\\nclass = 0'),\n",
       " Text(0.723404255319149, 0.15, 'entropy = 0.485\\nsamples = 19\\nvalue = [17, 2]\\nclass = 0'),\n",
       " Text(0.8085106382978723, 0.35, 'density <= 0.766\\nentropy = 0.141\\nsamples = 50\\nvalue = [49, 1]\\nclass = 0'),\n",
       " Text(0.7872340425531915, 0.25, 'alcohol <= -0.813\\nentropy = 0.211\\nsamples = 30\\nvalue = [29, 1]\\nclass = 0'),\n",
       " Text(0.7659574468085106, 0.15, 'entropy = 0.0\\nsamples = 17\\nvalue = [17, 0]\\nclass = 0'),\n",
       " Text(0.8085106382978723, 0.15, 'entropy = 0.391\\nsamples = 13\\nvalue = [12, 1]\\nclass = 0'),\n",
       " Text(0.8297872340425532, 0.25, 'entropy = 0.0\\nsamples = 20\\nvalue = [20, 0]\\nclass = 0'),\n",
       " Text(0.723404255319149, 0.55, 'entropy = 0.216\\nsamples = 29\\nvalue = [28, 1]\\nclass = 0'),\n",
       " Text(0.9361702127659575, 0.75, 'citric acid <= 0.416\\nentropy = 0.237\\nsamples = 334\\nvalue = [321, 13]\\nclass = 0'),\n",
       " Text(0.9148936170212766, 0.65, 'pH <= -0.052\\nentropy = 0.191\\nsamples = 307\\nvalue = [298, 9]\\nclass = 0'),\n",
       " Text(0.8936170212765957, 0.55, 'entropy = 0.0\\nsamples = 97\\nvalue = [97, 0]\\nclass = 0'),\n",
       " Text(0.9361702127659575, 0.55, 'citric acid <= -0.077\\nentropy = 0.255\\nsamples = 210\\nvalue = [201, 9]\\nclass = 0'),\n",
       " Text(0.9148936170212766, 0.45, 'free sulfur dioxide <= 0.619\\nentropy = 0.266\\nsamples = 199\\nvalue = [190, 9]\\nclass = 0'),\n",
       " Text(0.8936170212765957, 0.35, 'chlorides <= -0.407\\nentropy = 0.27\\nsamples = 173\\nvalue = [165, 8]\\nclass = 0'),\n",
       " Text(0.8723404255319149, 0.25, 'entropy = 0.422\\nsamples = 35\\nvalue = [32, 3]\\nclass = 0'),\n",
       " Text(0.9148936170212766, 0.25, 'volatile acidity <= 1.308\\nentropy = 0.225\\nsamples = 138\\nvalue = [133, 5]\\nclass = 0'),\n",
       " Text(0.8723404255319149, 0.15, 'alcohol <= -0.929\\nentropy = 0.244\\nsamples = 99\\nvalue = [95, 4]\\nclass = 0'),\n",
       " Text(0.851063829787234, 0.05, 'entropy = 0.0\\nsamples = 19\\nvalue = [19, 0]\\nclass = 0'),\n",
       " Text(0.8936170212765957, 0.05, 'entropy = 0.286\\nsamples = 80\\nvalue = [76, 4]\\nclass = 0'),\n",
       " Text(0.9574468085106383, 0.15, 'citric acid <= -1.249\\nentropy = 0.172\\nsamples = 39\\nvalue = [38, 1]\\nclass = 0'),\n",
       " Text(0.9361702127659575, 0.05, 'entropy = 0.353\\nsamples = 15\\nvalue = [14, 1]\\nclass = 0'),\n",
       " Text(0.9787234042553191, 0.05, 'entropy = 0.0\\nsamples = 24\\nvalue = [24, 0]\\nclass = 0'),\n",
       " Text(0.9361702127659575, 0.35, 'entropy = 0.235\\nsamples = 26\\nvalue = [25, 1]\\nclass = 0'),\n",
       " Text(0.9574468085106383, 0.45, 'entropy = 0.0\\nsamples = 11\\nvalue = [11, 0]\\nclass = 0'),\n",
       " Text(0.9574468085106383, 0.65, 'entropy = 0.605\\nsamples = 27\\nvalue = [23, 4]\\nclass = 0')]"
      ]
     },
     "execution_count": 47,
     "metadata": {},
     "output_type": "execute_result"
    },
    {
     "data": {
      "image/png": "[encoded data removed]",
      "text/plain": [
       "<Figure size 1080x720 with 1 Axes>"
      ]
     },
     "metadata": {
      "needs_background": "light"
     },
     "output_type": "display_data"
    }
   ],
   "source": [
    "feature_cols = ['fixed acidity', 'volatile acidity', 'citric acid', 'residual sugar','chlorides', 'free sulfur dioxide', 'total sulfur dioxide', 'density',\n",
    "       'pH', 'sulphates', 'alcohol']\n",
    "plt.figure(figsize = (15,10))\n",
    "#fn = ['pregnant', 'glucose', 'bp', 'skin', 'insulin', 'bmi', 'pedigree', 'age']\n",
    "cn = ['0','1']\n",
    "tree.plot_tree(DT,feature_names = feature_cols, class_names = cn, filled = True)"
   ]
  },
  {
   "cell_type": "code",
   "execution_count": 48,
   "id": "a350130c",
   "metadata": {},
   "outputs": [
    {
     "data": {
      "image/png": "[encoded data removed]",
      "text/plain": [
       "<Figure size 720x720 with 1 Axes>"
      ]
     },
     "metadata": {
      "needs_background": "light"
     },
     "output_type": "display_data"
    }
   ],
   "source": [
    "imp_df = pd.DataFrame({\"Feature Name\":X.columns,\"Importance\":DT.feature_importances_})\n",
    "features = imp_df.sort_values(by=\"Importance\",ascending=False)\n",
    "plt.figure(figsize=(10,10))\n",
    "sns.barplot(x=\"Importance\", y=\"Feature Name\", data=features)\n",
    "plt.title(\"Feature Importance in the Decision Tree Model Prediction\")\n",
    "plt.yticks(size=10)\n",
    "plt.show()"
   ]
  },
  {
   "cell_type": "markdown",
   "id": "f0cf4473",
   "metadata": {},
   "source": [
    "The key factors that influenced the quality of wine are Volatile acidity,citric acid and alcohol.\n",
    "And sulphates, free sulfur oxide, density have zero or less influence on quality of wine"
   ]
  },
  {
   "cell_type": "markdown",
   "id": "cff90cdb",
   "metadata": {},
   "source": [
    "Random Forest"
   ]
  },
  {
   "cell_type": "code",
   "execution_count": 49,
   "id": "2df821bb",
   "metadata": {},
   "outputs": [
    {
     "data": {
      "text/html": [
       "<style>#sk-container-id-2 {color: black;background-color: white;}#sk-container-id-2 pre{padding: 0;}#sk-container-id-2 div.sk-toggleable {background-color: white;}#sk-container-id-2 label.sk-toggleable__label {cursor: pointer;display: block;width: 100%;margin-bottom: 0;padding: 0.3em;box-sizing: border-box;text-align: center;}#sk-container-id-2 label.sk-toggleable__label-arrow:before {content: \"▸\";float: left;margin-right: 0.25em;color: #696969;}#sk-container-id-2 label.sk-toggleable__label-arrow:hover:before {color: black;}#sk-container-id-2 div.sk-estimator:hover label.sk-toggleable__label-arrow:before {color: black;}#sk-container-id-2 div.sk-toggleable__content {max-height: 0;max-width: 0;overflow: hidden;text-align: left;background-color: #f0f8ff;}#sk-container-id-2 div.sk-toggleable__content pre {margin: 0.2em;color: black;border-radius: 0.25em;background-color: #f0f8ff;}#sk-container-id-2 input.sk-toggleable__control:checked~div.sk-toggleable__content {max-height: 200px;max-width: 100%;overflow: auto;}#sk-container-id-2 input.sk-toggleable__control:checked~label.sk-toggleable__label-arrow:before {content: \"▾\";}#sk-container-id-2 div.sk-estimator input.sk-toggleable__control:checked~label.sk-toggleable__label {background-color: #d4ebff;}#sk-container-id-2 div.sk-label input.sk-toggleable__control:checked~label.sk-toggleable__label {background-color: #d4ebff;}#sk-container-id-2 input.sk-hidden--visually {border: 0;clip: rect(1px 1px 1px 1px);clip: rect(1px, 1px, 1px, 1px);height: 1px;margin: -1px;overflow: hidden;padding: 0;position: absolute;width: 1px;}#sk-container-id-2 div.sk-estimator {font-family: monospace;background-color: #f0f8ff;border: 1px dotted black;border-radius: 0.25em;box-sizing: border-box;margin-bottom: 0.5em;}#sk-container-id-2 div.sk-estimator:hover {background-color: #d4ebff;}#sk-container-id-2 div.sk-parallel-item::after {content: \"\";width: 100%;border-bottom: 1px solid gray;flex-grow: 1;}#sk-container-id-2 div.sk-label:hover label.sk-toggleable__label {background-color: #d4ebff;}#sk-container-id-2 div.sk-serial::before {content: \"\";position: absolute;border-left: 1px solid gray;box-sizing: border-box;top: 0;bottom: 0;left: 50%;z-index: 0;}#sk-container-id-2 div.sk-serial {display: flex;flex-direction: column;align-items: center;background-color: white;padding-right: 0.2em;padding-left: 0.2em;position: relative;}#sk-container-id-2 div.sk-item {position: relative;z-index: 1;}#sk-container-id-2 div.sk-parallel {display: flex;align-items: stretch;justify-content: center;background-color: white;position: relative;}#sk-container-id-2 div.sk-item::before, #sk-container-id-2 div.sk-parallel-item::before {content: \"\";position: absolute;border-left: 1px solid gray;box-sizing: border-box;top: 0;bottom: 0;left: 50%;z-index: -1;}#sk-container-id-2 div.sk-parallel-item {display: flex;flex-direction: column;z-index: 1;position: relative;background-color: white;}#sk-container-id-2 div.sk-parallel-item:first-child::after {align-self: flex-end;width: 50%;}#sk-container-id-2 div.sk-parallel-item:last-child::after {align-self: flex-start;width: 50%;}#sk-container-id-2 div.sk-parallel-item:only-child::after {width: 0;}#sk-container-id-2 div.sk-dashed-wrapped {border: 1px dashed gray;margin: 0 0.4em 0.5em 0.4em;box-sizing: border-box;padding-bottom: 0.4em;background-color: white;}#sk-container-id-2 div.sk-label label {font-family: monospace;font-weight: bold;display: inline-block;line-height: 1.2em;}#sk-container-id-2 div.sk-label-container {text-align: center;}#sk-container-id-2 div.sk-container {/* jupyter's `normalize.less` sets `[hidden] { display: none; }` but bootstrap.min.css set `[hidden] { display: none !important; }` so we also need the `!important` here to be able to override the default hidden behavior on the sphinx rendered scikit-learn.org. See: https://github.com/scikit-learn/scikit-learn/issues/21755 */display: inline-block !important;position: relative;}#sk-container-id-2 div.sk-text-repr-fallback {display: none;}</style><div id=\"sk-container-id-2\" class=\"sk-top-container\"><div class=\"sk-text-repr-fallback\"><pre>RandomForestClassifier()</pre><b>In a Jupyter environment, please rerun this cell to show the HTML representation or trust the notebook. <br />On GitHub, the HTML representation is unable to render, please try loading this page with nbviewer.org.</b></div><div class=\"sk-container\" hidden><div class=\"sk-item\"><div class=\"sk-estimator sk-toggleable\"><input class=\"sk-toggleable__control sk-hidden--visually\" id=\"sk-estimator-id-2\" type=\"checkbox\" checked><label for=\"sk-estimator-id-2\" class=\"sk-toggleable__label sk-toggleable__label-arrow\">RandomForestClassifier</label><div class=\"sk-toggleable__content\"><pre>RandomForestClassifier()</pre></div></div></div></div></div>"
      ],
      "text/plain": [
       "RandomForestClassifier()"
      ]
     },
     "execution_count": 49,
     "metadata": {},
     "output_type": "execute_result"
    }
   ],
   "source": [
    "rf = RandomForestClassifier()\n",
    "rf.fit(X_train, y_train)"
   ]
  },
  {
   "cell_type": "code",
   "execution_count": 50,
   "id": "1f1899e8",
   "metadata": {},
   "outputs": [
    {
     "data": {
      "text/plain": [
       "array([0, 0, 0, 0, 0, 1, 0, 0, 0, 0, 0, 0, 0, 0, 0, 0, 0, 0, 0, 0, 0, 0,\n",
       "       0, 0, 0, 0, 0, 0, 0, 0, 0, 0, 0, 0, 0, 0, 0, 0, 0, 1, 0, 0, 0, 0,\n",
       "       0, 0, 0, 0, 0, 0, 0, 0, 0, 0, 0, 0, 0, 0, 0, 0, 0, 0, 0, 0, 0, 0,\n",
       "       0, 0, 0, 1, 0, 1, 0, 0, 0, 0, 0, 0, 0, 0, 0, 0, 0, 0, 0, 1, 0, 0,\n",
       "       0, 0, 0, 0, 0, 0, 0, 0, 0, 1, 0, 0, 0, 0, 0, 0, 0, 0, 0, 0, 0, 0,\n",
       "       0, 0, 0, 0, 0, 0, 0, 0, 0, 0, 0, 0, 0, 0, 0, 0, 0, 0, 0, 0, 0, 0,\n",
       "       0, 0, 0, 0, 1, 0, 0, 0, 0, 0, 0, 0, 0, 0, 0, 0, 0, 0, 0, 0, 0, 0,\n",
       "       0, 0, 0, 0, 0, 0, 0, 0, 0, 0, 0, 0, 0, 0, 0, 0, 1, 0, 0, 0, 1, 0,\n",
       "       0, 0, 0, 0, 0, 0, 0, 0, 0, 0, 0, 0, 0, 0, 0, 0, 0, 0, 0, 0, 1, 0,\n",
       "       0, 0, 0, 0, 0, 1, 0, 0, 0, 0, 0, 0, 0, 0, 0, 0, 0, 0, 1, 1, 0, 0,\n",
       "       0, 0, 0, 0, 0, 0, 0, 0, 0, 0, 0, 0, 0, 0, 0, 1, 0, 0, 0, 0, 0, 0,\n",
       "       0, 0, 0, 0, 0, 0, 0, 1, 0, 0, 1, 0, 0, 0, 0, 0, 0, 0, 1, 0, 0, 0,\n",
       "       0, 0, 0, 0, 0, 0, 0, 0], dtype=int64)"
      ]
     },
     "execution_count": 50,
     "metadata": {},
     "output_type": "execute_result"
    }
   ],
   "source": [
    "y_pred = rf.predict(X_test)\n",
    "y_pred"
   ]
  },
  {
   "cell_type": "code",
   "execution_count": 51,
   "id": "50ddb02e",
   "metadata": {},
   "outputs": [
    {
     "name": "stdout",
     "output_type": "stream",
     "text": [
      "Accuracy Score of Testing Data is => 100.0 % &    Accuracy Score of Training Data is => 90.81 %\n"
     ]
    }
   ],
   "source": [
    "rf_testing=np.round(rf.score(X_train, y_train)*100,2)\n",
    "rf_training=np.round(rf.score(X_test, y_test)*100,2)\n",
    "print(\"Accuracy Score of Testing Data is =>\",rf_testing,\"%\",\"&   \", \"Accuracy Score of Training Data is =>\", rf_training,\"%\")"
   ]
  },
  {
   "cell_type": "code",
   "execution_count": 52,
   "id": "4cdd5987",
   "metadata": {},
   "outputs": [
    {
     "name": "stdout",
     "output_type": "stream",
     "text": [
      "Retrieving notices: ...working... done\n",
      "Collecting package metadata (current_repodata.json): ...working... done\n",
      "Solving environment: ...working... done\n",
      "\n",
      "## Package Plan ##\n",
      "\n",
      "  environment location: C:\\Users\\ayoba\\anaconda3\n",
      "\n",
      "  added / updated specs:\n",
      "    - python-graphviz\n",
      "\n",
      "\n",
      "The following packages will be downloaded:\n",
      "\n",
      "    package                    |            build\n",
      "    ---------------------------|-----------------\n",
      "    openssl-1.1.1v             |       h2bbff1b_0         5.5 MB\n",
      "    ------------------------------------------------------------\n",
      "                                           Total:         5.5 MB\n",
      "\n",
      "The following packages will be UPDATED:\n",
      "\n",
      "  openssl                                 1.1.1u-h2bbff1b_0 --> 1.1.1v-h2bbff1b_0 \n",
      "\n",
      "\n",
      "\n",
      "Downloading and Extracting Packages\n",
      "\n",
      "openssl-1.1.1v       | 5.5 MB    |            |   0% \n",
      "openssl-1.1.1v       | 5.5 MB    |            |   0% \n",
      "openssl-1.1.1v       | 5.5 MB    | 3          |   3% \n",
      "openssl-1.1.1v       | 5.5 MB    | 9          |   9% \n",
      "openssl-1.1.1v       | 5.5 MB    | #3         |  13% \n",
      "openssl-1.1.1v       | 5.5 MB    | ##4        |  24% \n",
      "openssl-1.1.1v       | 5.5 MB    | ###3       |  33% \n",
      "openssl-1.1.1v       | 5.5 MB    | ####5      |  46% \n",
      "openssl-1.1.1v       | 5.5 MB    | #####6     |  56% \n",
      "openssl-1.1.1v       | 5.5 MB    | ######8    |  69% \n",
      "openssl-1.1.1v       | 5.5 MB    | #######7   |  78% \n",
      "openssl-1.1.1v       | 5.5 MB    | #########1 |  91% \n",
      "openssl-1.1.1v       | 5.5 MB    | ########## | 100% \n",
      "                                                     \n",
      "\n",
      "\n",
      "Preparing transaction: ...working... done\n",
      "Verifying transaction: ...working... done\n",
      "Executing transaction: ...working... done\n",
      "\n",
      "Note: you may need to restart the kernel to use updated packages.\n"
     ]
    }
   ],
   "source": [
    "conda install python-graphviz"
   ]
  },
  {
   "cell_type": "code",
   "execution_count": 53,
   "id": "0e8172cd",
   "metadata": {},
   "outputs": [
    {
     "data": {
      "image/svg+xml": [
       "<?xml version=\"1.0\" encoding=\"UTF-8\" standalone=\"no\"?>\n",
       "<!DOCTYPE svg PUBLIC \"-//W3C//DTD SVG 1.1//EN\"\n",
       " \"http://www.w3.org/Graphics/SVG/1.1/DTD/svg11.dtd\">\n",
       "<!-- Generated by graphviz version 2.50.0 (0)\n",
       " -->\n",
       "<!-- Title: Tree Pages: 1 -->\n",
       "<svg width=\"656pt\" height=\"311pt\"\n",
       " viewBox=\"0.00 0.00 656.00 311.00\" xmlns=\"http://www.w3.org/2000/svg\" xmlns:xlink=\"http://www.w3.org/1999/xlink\">\n",
       "<g id=\"graph0\" class=\"graph\" transform=\"scale(1 1) rotate(0) translate(4 307)\">\n",
       "<title>Tree</title>\n",
       "<polygon fill=\"white\" stroke=\"transparent\" points=\"-4,4 -4,-307 652,-307 652,4 -4,4\"/>\n",
       "<!-- 0 -->\n",
       "<g id=\"node1\" class=\"node\">\n",
       "<title>0</title>\n",
       "<polygon fill=\"#e89153\" stroke=\"black\" points=\"395,-303 249,-303 249,-250 395,-250 395,-303\"/>\n",
       "<text text-anchor=\"middle\" x=\"322\" y=\"-287.8\" font-family=\"Helvetica,sans-Serif\" font-size=\"14.00\">chlorides &lt;= &#45;0.317</text>\n",
       "<text text-anchor=\"middle\" x=\"322\" y=\"-272.8\" font-family=\"Helvetica,sans-Serif\" font-size=\"14.00\">samples = 100.0%</text>\n",
       "<text text-anchor=\"middle\" x=\"322\" y=\"-257.8\" font-family=\"Helvetica,sans-Serif\" font-size=\"14.00\">value = [0.885, 0.115]</text>\n",
       "</g>\n",
       "<!-- 1 -->\n",
       "<g id=\"node2\" class=\"node\">\n",
       "<title>1</title>\n",
       "<polygon fill=\"#eda775\" stroke=\"black\" points=\"317.5,-214 154.5,-214 154.5,-161 317.5,-161 317.5,-214\"/>\n",
       "<text text-anchor=\"middle\" x=\"236\" y=\"-198.8\" font-family=\"Helvetica,sans-Serif\" font-size=\"14.00\">volatile acidity &lt;= &#45;0.516</text>\n",
       "<text text-anchor=\"middle\" x=\"236\" y=\"-183.8\" font-family=\"Helvetica,sans-Serif\" font-size=\"14.00\">samples = 30.4%</text>\n",
       "<text text-anchor=\"middle\" x=\"236\" y=\"-168.8\" font-family=\"Helvetica,sans-Serif\" font-size=\"14.00\">value = [0.766, 0.234]</text>\n",
       "</g>\n",
       "<!-- 0&#45;&gt;1 -->\n",
       "<g id=\"edge1\" class=\"edge\">\n",
       "<title>0&#45;&gt;1</title>\n",
       "<path fill=\"none\" stroke=\"black\" d=\"M296.66,-249.87C287.9,-241.01 277.96,-230.95 268.7,-221.58\"/>\n",
       "<polygon fill=\"black\" stroke=\"black\" points=\"270.97,-218.9 261.45,-214.25 265.99,-223.82 270.97,-218.9\"/>\n",
       "<text text-anchor=\"middle\" x=\"261.31\" y=\"-235.55\" font-family=\"Helvetica,sans-Serif\" font-size=\"14.00\">True</text>\n",
       "</g>\n",
       "<!-- 96 -->\n",
       "<g id=\"node9\" class=\"node\">\n",
       "<title>96</title>\n",
       "<polygon fill=\"#e78a47\" stroke=\"black\" points=\"482.5,-214 335.5,-214 335.5,-161 482.5,-161 482.5,-214\"/>\n",
       "<text text-anchor=\"middle\" x=\"409\" y=\"-198.8\" font-family=\"Helvetica,sans-Serif\" font-size=\"14.00\">citric acid &lt;= 0.321</text>\n",
       "<text text-anchor=\"middle\" x=\"409\" y=\"-183.8\" font-family=\"Helvetica,sans-Serif\" font-size=\"14.00\">samples = 69.6%</text>\n",
       "<text text-anchor=\"middle\" x=\"409\" y=\"-168.8\" font-family=\"Helvetica,sans-Serif\" font-size=\"14.00\">value = [0.933, 0.067]</text>\n",
       "</g>\n",
       "<!-- 0&#45;&gt;96 -->\n",
       "<g id=\"edge8\" class=\"edge\">\n",
       "<title>0&#45;&gt;96</title>\n",
       "<path fill=\"none\" stroke=\"black\" d=\"M347.63,-249.87C356.49,-241.01 366.55,-230.95 375.92,-221.58\"/>\n",
       "<polygon fill=\"black\" stroke=\"black\" points=\"378.65,-223.8 383.25,-214.25 373.7,-218.85 378.65,-223.8\"/>\n",
       "<text text-anchor=\"middle\" x=\"383.25\" y=\"-235.55\" font-family=\"Helvetica,sans-Serif\" font-size=\"14.00\">False</text>\n",
       "</g>\n",
       "<!-- 2 -->\n",
       "<g id=\"node3\" class=\"node\">\n",
       "<title>2</title>\n",
       "<polygon fill=\"#f6d1b7\" stroke=\"black\" points=\"146,-125 0,-125 0,-72 146,-72 146,-125\"/>\n",
       "<text text-anchor=\"middle\" x=\"73\" y=\"-109.8\" font-family=\"Helvetica,sans-Serif\" font-size=\"14.00\">citric acid &lt;= 0.73</text>\n",
       "<text text-anchor=\"middle\" x=\"73\" y=\"-94.8\" font-family=\"Helvetica,sans-Serif\" font-size=\"14.00\">samples = 12.8%</text>\n",
       "<text text-anchor=\"middle\" x=\"73\" y=\"-79.8\" font-family=\"Helvetica,sans-Serif\" font-size=\"14.00\">value = [0.611, 0.389]</text>\n",
       "</g>\n",
       "<!-- 1&#45;&gt;2 -->\n",
       "<g id=\"edge2\" class=\"edge\">\n",
       "<title>1&#45;&gt;2</title>\n",
       "<path fill=\"none\" stroke=\"black\" d=\"M187.98,-160.87C169.74,-151.13 148.79,-139.95 129.81,-129.82\"/>\n",
       "<polygon fill=\"black\" stroke=\"black\" points=\"131.43,-126.72 120.96,-125.1 128.14,-132.9 131.43,-126.72\"/>\n",
       "</g>\n",
       "<!-- 57 -->\n",
       "<g id=\"node6\" class=\"node\">\n",
       "<title>57</title>\n",
       "<polygon fill=\"#e99254\" stroke=\"black\" points=\"311.5,-125 164.5,-125 164.5,-72 311.5,-72 311.5,-125\"/>\n",
       "<text text-anchor=\"middle\" x=\"238\" y=\"-109.8\" font-family=\"Helvetica,sans-Serif\" font-size=\"14.00\">sulphates &lt;= &#45;0.022</text>\n",
       "<text text-anchor=\"middle\" x=\"238\" y=\"-94.8\" font-family=\"Helvetica,sans-Serif\" font-size=\"14.00\">samples = 17.6%</text>\n",
       "<text text-anchor=\"middle\" x=\"238\" y=\"-79.8\" font-family=\"Helvetica,sans-Serif\" font-size=\"14.00\">value = [0.878, 0.122]</text>\n",
       "</g>\n",
       "<!-- 1&#45;&gt;57 -->\n",
       "<g id=\"edge5\" class=\"edge\">\n",
       "<title>1&#45;&gt;57</title>\n",
       "<path fill=\"none\" stroke=\"black\" d=\"M236.59,-160.87C236.77,-152.89 236.98,-143.93 237.18,-135.38\"/>\n",
       "<polygon fill=\"black\" stroke=\"black\" points=\"240.68,-135.33 237.41,-125.25 233.68,-135.17 240.68,-135.33\"/>\n",
       "</g>\n",
       "<!-- 3 -->\n",
       "<g id=\"node4\" class=\"node\">\n",
       "<title>3</title>\n",
       "<polygon fill=\"#c0c0c0\" stroke=\"black\" points=\"96,-36 42,-36 42,0 96,0 96,-36\"/>\n",
       "<text text-anchor=\"middle\" x=\"69\" y=\"-14.3\" font-family=\"Helvetica,sans-Serif\" font-size=\"14.00\">(...)</text>\n",
       "</g>\n",
       "<!-- 2&#45;&gt;3 -->\n",
       "<g id=\"edge3\" class=\"edge\">\n",
       "<title>2&#45;&gt;3</title>\n",
       "<path fill=\"none\" stroke=\"black\" d=\"M71.69,-71.8C71.28,-63.71 70.82,-54.76 70.4,-46.55\"/>\n",
       "<polygon fill=\"black\" stroke=\"black\" points=\"73.89,-46.14 69.88,-36.33 66.9,-46.5 73.89,-46.14\"/>\n",
       "</g>\n",
       "<!-- 34 -->\n",
       "<g id=\"node5\" class=\"node\">\n",
       "<title>34</title>\n",
       "<polygon fill=\"#c0c0c0\" stroke=\"black\" points=\"168,-36 114,-36 114,0 168,0 168,-36\"/>\n",
       "<text text-anchor=\"middle\" x=\"141\" y=\"-14.3\" font-family=\"Helvetica,sans-Serif\" font-size=\"14.00\">(...)</text>\n",
       "</g>\n",
       "<!-- 2&#45;&gt;34 -->\n",
       "<g id=\"edge4\" class=\"edge\">\n",
       "<title>2&#45;&gt;34</title>\n",
       "<path fill=\"none\" stroke=\"black\" d=\"M95.27,-71.8C102.98,-62.9 111.6,-52.93 119.27,-44.08\"/>\n",
       "<polygon fill=\"black\" stroke=\"black\" points=\"122.09,-46.18 125.99,-36.33 116.79,-41.6 122.09,-46.18\"/>\n",
       "</g>\n",
       "<!-- 58 -->\n",
       "<g id=\"node7\" class=\"node\">\n",
       "<title>58</title>\n",
       "<polygon fill=\"#c0c0c0\" stroke=\"black\" points=\"252,-36 198,-36 198,0 252,0 252,-36\"/>\n",
       "<text text-anchor=\"middle\" x=\"225\" y=\"-14.3\" font-family=\"Helvetica,sans-Serif\" font-size=\"14.00\">(...)</text>\n",
       "</g>\n",
       "<!-- 57&#45;&gt;58 -->\n",
       "<g id=\"edge6\" class=\"edge\">\n",
       "<title>57&#45;&gt;58</title>\n",
       "<path fill=\"none\" stroke=\"black\" d=\"M233.74,-71.8C232.39,-63.62 230.89,-54.55 229.52,-46.27\"/>\n",
       "<polygon fill=\"black\" stroke=\"black\" points=\"232.96,-45.62 227.87,-36.33 226.05,-46.77 232.96,-45.62\"/>\n",
       "</g>\n",
       "<!-- 73 -->\n",
       "<g id=\"node8\" class=\"node\">\n",
       "<title>73</title>\n",
       "<polygon fill=\"#c0c0c0\" stroke=\"black\" points=\"324,-36 270,-36 270,0 324,0 324,-36\"/>\n",
       "<text text-anchor=\"middle\" x=\"297\" y=\"-14.3\" font-family=\"Helvetica,sans-Serif\" font-size=\"14.00\">(...)</text>\n",
       "</g>\n",
       "<!-- 57&#45;&gt;73 -->\n",
       "<g id=\"edge7\" class=\"edge\">\n",
       "<title>57&#45;&gt;73</title>\n",
       "<path fill=\"none\" stroke=\"black\" d=\"M257.32,-71.8C263.94,-62.99 271.34,-53.14 277.94,-44.36\"/>\n",
       "<polygon fill=\"black\" stroke=\"black\" points=\"280.76,-46.43 283.97,-36.33 275.17,-42.22 280.76,-46.43\"/>\n",
       "</g>\n",
       "<!-- 97 -->\n",
       "<g id=\"node10\" class=\"node\">\n",
       "<title>97</title>\n",
       "<polygon fill=\"#e6843d\" stroke=\"black\" points=\"480.5,-125 333.5,-125 333.5,-72 480.5,-72 480.5,-125\"/>\n",
       "<text text-anchor=\"middle\" x=\"407\" y=\"-109.8\" font-family=\"Helvetica,sans-Serif\" font-size=\"14.00\">alcohol &lt;= 1.126</text>\n",
       "<text text-anchor=\"middle\" x=\"407\" y=\"-94.8\" font-family=\"Helvetica,sans-Serif\" font-size=\"14.00\">samples = 44.5%</text>\n",
       "<text text-anchor=\"middle\" x=\"407\" y=\"-79.8\" font-family=\"Helvetica,sans-Serif\" font-size=\"14.00\">value = [0.978, 0.022]</text>\n",
       "</g>\n",
       "<!-- 96&#45;&gt;97 -->\n",
       "<g id=\"edge9\" class=\"edge\">\n",
       "<title>96&#45;&gt;97</title>\n",
       "<path fill=\"none\" stroke=\"black\" d=\"M408.41,-160.87C408.23,-152.89 408.02,-143.93 407.82,-135.38\"/>\n",
       "<polygon fill=\"black\" stroke=\"black\" points=\"411.32,-135.17 407.59,-125.25 404.32,-135.33 411.32,-135.17\"/>\n",
       "</g>\n",
       "<!-- 134 -->\n",
       "<g id=\"node13\" class=\"node\">\n",
       "<title>134</title>\n",
       "<polygon fill=\"#ea985d\" stroke=\"black\" points=\"645.5,-125 498.5,-125 498.5,-72 645.5,-72 645.5,-125\"/>\n",
       "<text text-anchor=\"middle\" x=\"572\" y=\"-109.8\" font-family=\"Helvetica,sans-Serif\" font-size=\"14.00\">alcohol &lt;= 0.941</text>\n",
       "<text text-anchor=\"middle\" x=\"572\" y=\"-94.8\" font-family=\"Helvetica,sans-Serif\" font-size=\"14.00\">samples = 25.1%</text>\n",
       "<text text-anchor=\"middle\" x=\"572\" y=\"-79.8\" font-family=\"Helvetica,sans-Serif\" font-size=\"14.00\">value = [0.845, 0.155]</text>\n",
       "</g>\n",
       "<!-- 96&#45;&gt;134 -->\n",
       "<g id=\"edge12\" class=\"edge\">\n",
       "<title>96&#45;&gt;134</title>\n",
       "<path fill=\"none\" stroke=\"black\" d=\"M457.02,-160.87C475.26,-151.13 496.21,-139.95 515.19,-129.82\"/>\n",
       "<polygon fill=\"black\" stroke=\"black\" points=\"516.86,-132.9 524.04,-125.1 513.57,-126.72 516.86,-132.9\"/>\n",
       "</g>\n",
       "<!-- 98 -->\n",
       "<g id=\"node11\" class=\"node\">\n",
       "<title>98</title>\n",
       "<polygon fill=\"#c0c0c0\" stroke=\"black\" points=\"413,-36 359,-36 359,0 413,0 413,-36\"/>\n",
       "<text text-anchor=\"middle\" x=\"386\" y=\"-14.3\" font-family=\"Helvetica,sans-Serif\" font-size=\"14.00\">(...)</text>\n",
       "</g>\n",
       "<!-- 97&#45;&gt;98 -->\n",
       "<g id=\"edge10\" class=\"edge\">\n",
       "<title>97&#45;&gt;98</title>\n",
       "<path fill=\"none\" stroke=\"black\" d=\"M400.12,-71.8C397.91,-63.53 395.46,-54.35 393.22,-46\"/>\n",
       "<polygon fill=\"black\" stroke=\"black\" points=\"396.6,-45.09 390.64,-36.33 389.84,-46.9 396.6,-45.09\"/>\n",
       "</g>\n",
       "<!-- 129 -->\n",
       "<g id=\"node12\" class=\"node\">\n",
       "<title>129</title>\n",
       "<polygon fill=\"#c0c0c0\" stroke=\"black\" points=\"485,-36 431,-36 431,0 485,0 485,-36\"/>\n",
       "<text text-anchor=\"middle\" x=\"458\" y=\"-14.3\" font-family=\"Helvetica,sans-Serif\" font-size=\"14.00\">(...)</text>\n",
       "</g>\n",
       "<!-- 97&#45;&gt;129 -->\n",
       "<g id=\"edge11\" class=\"edge\">\n",
       "<title>97&#45;&gt;129</title>\n",
       "<path fill=\"none\" stroke=\"black\" d=\"M423.7,-71.8C429.31,-63.17 435.56,-53.54 441.17,-44.9\"/>\n",
       "<polygon fill=\"black\" stroke=\"black\" points=\"444.23,-46.62 446.74,-36.33 438.36,-42.81 444.23,-46.62\"/>\n",
       "</g>\n",
       "<!-- 135 -->\n",
       "<g id=\"node14\" class=\"node\">\n",
       "<title>135</title>\n",
       "<polygon fill=\"#c0c0c0\" stroke=\"black\" points=\"576,-36 522,-36 522,0 576,0 576,-36\"/>\n",
       "<text text-anchor=\"middle\" x=\"549\" y=\"-14.3\" font-family=\"Helvetica,sans-Serif\" font-size=\"14.00\">(...)</text>\n",
       "</g>\n",
       "<!-- 134&#45;&gt;135 -->\n",
       "<g id=\"edge13\" class=\"edge\">\n",
       "<title>134&#45;&gt;135</title>\n",
       "<path fill=\"none\" stroke=\"black\" d=\"M564.47,-71.8C562.05,-63.53 559.36,-54.35 556.91,-46\"/>\n",
       "<polygon fill=\"black\" stroke=\"black\" points=\"560.25,-44.94 554.08,-36.33 553.53,-46.91 560.25,-44.94\"/>\n",
       "</g>\n",
       "<!-- 168 -->\n",
       "<g id=\"node15\" class=\"node\">\n",
       "<title>168</title>\n",
       "<polygon fill=\"#c0c0c0\" stroke=\"black\" points=\"648,-36 594,-36 594,0 648,0 648,-36\"/>\n",
       "<text text-anchor=\"middle\" x=\"621\" y=\"-14.3\" font-family=\"Helvetica,sans-Serif\" font-size=\"14.00\">(...)</text>\n",
       "</g>\n",
       "<!-- 134&#45;&gt;168 -->\n",
       "<g id=\"edge14\" class=\"edge\">\n",
       "<title>134&#45;&gt;168</title>\n",
       "<path fill=\"none\" stroke=\"black\" d=\"M588.04,-71.8C593.43,-63.17 599.44,-53.54 604.83,-44.9\"/>\n",
       "<polygon fill=\"black\" stroke=\"black\" points=\"607.86,-46.67 610.18,-36.33 601.92,-42.96 607.86,-46.67\"/>\n",
       "</g>\n",
       "</g>\n",
       "</svg>\n"
      ],
      "text/plain": [
       "<graphviz.sources.Source at 0x261bbda0f70>"
      ]
     },
     "metadata": {},
     "output_type": "display_data"
    },
    {
     "data": {
      "image/svg+xml": [
       "<?xml version=\"1.0\" encoding=\"UTF-8\" standalone=\"no\"?>\n",
       "<!DOCTYPE svg PUBLIC \"-//W3C//DTD SVG 1.1//EN\"\n",
       " \"http://www.w3.org/Graphics/SVG/1.1/DTD/svg11.dtd\">\n",
       "<!-- Generated by graphviz version 2.50.0 (0)\n",
       " -->\n",
       "<!-- Title: Tree Pages: 1 -->\n",
       "<svg width=\"664pt\" height=\"311pt\"\n",
       " viewBox=\"0.00 0.00 663.50 311.00\" xmlns=\"http://www.w3.org/2000/svg\" xmlns:xlink=\"http://www.w3.org/1999/xlink\">\n",
       "<g id=\"graph0\" class=\"graph\" transform=\"scale(1 1) rotate(0) translate(4 307)\">\n",
       "<title>Tree</title>\n",
       "<polygon fill=\"white\" stroke=\"transparent\" points=\"-4,4 -4,-307 659.5,-307 659.5,4 -4,4\"/>\n",
       "<!-- 0 -->\n",
       "<g id=\"node1\" class=\"node\">\n",
       "<title>0</title>\n",
       "<polygon fill=\"#e99559\" stroke=\"black\" points=\"392.5,-303 260.5,-303 260.5,-250 392.5,-250 392.5,-303\"/>\n",
       "<text text-anchor=\"middle\" x=\"326.5\" y=\"-287.8\" font-family=\"Helvetica,sans-Serif\" font-size=\"14.00\">density &lt;= &#45;0.717</text>\n",
       "<text text-anchor=\"middle\" x=\"326.5\" y=\"-272.8\" font-family=\"Helvetica,sans-Serif\" font-size=\"14.00\">samples = 100.0%</text>\n",
       "<text text-anchor=\"middle\" x=\"326.5\" y=\"-257.8\" font-family=\"Helvetica,sans-Serif\" font-size=\"14.00\">value = [0.86, 0.14]</text>\n",
       "</g>\n",
       "<!-- 1 -->\n",
       "<g id=\"node2\" class=\"node\">\n",
       "<title>1</title>\n",
       "<polygon fill=\"#efb387\" stroke=\"black\" points=\"316,-214 169,-214 169,-161 316,-161 316,-214\"/>\n",
       "<text text-anchor=\"middle\" x=\"242.5\" y=\"-198.8\" font-family=\"Helvetica,sans-Serif\" font-size=\"14.00\">citric acid &lt;= 0.014</text>\n",
       "<text text-anchor=\"middle\" x=\"242.5\" y=\"-183.8\" font-family=\"Helvetica,sans-Serif\" font-size=\"14.00\">samples = 20.4%</text>\n",
       "<text text-anchor=\"middle\" x=\"242.5\" y=\"-168.8\" font-family=\"Helvetica,sans-Serif\" font-size=\"14.00\">value = [0.717, 0.283]</text>\n",
       "</g>\n",
       "<!-- 0&#45;&gt;1 -->\n",
       "<g id=\"edge1\" class=\"edge\">\n",
       "<title>0&#45;&gt;1</title>\n",
       "<path fill=\"none\" stroke=\"black\" d=\"M301.75,-249.87C293.2,-241.01 283.49,-230.95 274.44,-221.58\"/>\n",
       "<polygon fill=\"black\" stroke=\"black\" points=\"276.83,-219.01 267.36,-214.25 271.79,-223.87 276.83,-219.01\"/>\n",
       "<text text-anchor=\"middle\" x=\"266.92\" y=\"-235.55\" font-family=\"Helvetica,sans-Serif\" font-size=\"14.00\">True</text>\n",
       "</g>\n",
       "<!-- 66 -->\n",
       "<g id=\"node9\" class=\"node\">\n",
       "<title>66</title>\n",
       "<polygon fill=\"#e88f50\" stroke=\"black\" points=\"485,-214 338,-214 338,-161 485,-161 485,-214\"/>\n",
       "<text text-anchor=\"middle\" x=\"411.5\" y=\"-198.8\" font-family=\"Helvetica,sans-Serif\" font-size=\"14.00\">alcohol &lt;= 0.663</text>\n",
       "<text text-anchor=\"middle\" x=\"411.5\" y=\"-183.8\" font-family=\"Helvetica,sans-Serif\" font-size=\"14.00\">samples = 79.6%</text>\n",
       "<text text-anchor=\"middle\" x=\"411.5\" y=\"-168.8\" font-family=\"Helvetica,sans-Serif\" font-size=\"14.00\">value = [0.898, 0.102]</text>\n",
       "</g>\n",
       "<!-- 0&#45;&gt;66 -->\n",
       "<g id=\"edge8\" class=\"edge\">\n",
       "<title>0&#45;&gt;66</title>\n",
       "<path fill=\"none\" stroke=\"black\" d=\"M351.54,-249.87C360.2,-241.01 370.02,-230.95 379.18,-221.58\"/>\n",
       "<polygon fill=\"black\" stroke=\"black\" points=\"381.86,-223.85 386.34,-214.25 376.85,-218.96 381.86,-223.85\"/>\n",
       "<text text-anchor=\"middle\" x=\"386.63\" y=\"-235.55\" font-family=\"Helvetica,sans-Serif\" font-size=\"14.00\">False</text>\n",
       "</g>\n",
       "<!-- 2 -->\n",
       "<g id=\"node3\" class=\"node\">\n",
       "<title>2</title>\n",
       "<polygon fill=\"#e89051\" stroke=\"black\" points=\"147,-125 0,-125 0,-72 147,-72 147,-125\"/>\n",
       "<text text-anchor=\"middle\" x=\"73.5\" y=\"-109.8\" font-family=\"Helvetica,sans-Serif\" font-size=\"14.00\">density &lt;= &#45;2.593</text>\n",
       "<text text-anchor=\"middle\" x=\"73.5\" y=\"-94.8\" font-family=\"Helvetica,sans-Serif\" font-size=\"14.00\">samples = 12.1%</text>\n",
       "<text text-anchor=\"middle\" x=\"73.5\" y=\"-79.8\" font-family=\"Helvetica,sans-Serif\" font-size=\"14.00\">value = [0.891, 0.109]</text>\n",
       "</g>\n",
       "<!-- 1&#45;&gt;2 -->\n",
       "<g id=\"edge2\" class=\"edge\">\n",
       "<title>1&#45;&gt;2</title>\n",
       "<path fill=\"none\" stroke=\"black\" d=\"M192.71,-160.87C173.71,-151.09 151.88,-139.85 132.14,-129.68\"/>\n",
       "<polygon fill=\"black\" stroke=\"black\" points=\"133.72,-126.56 123.23,-125.1 130.52,-132.79 133.72,-126.56\"/>\n",
       "</g>\n",
       "<!-- 37 -->\n",
       "<g id=\"node6\" class=\"node\">\n",
       "<title>37</title>\n",
       "<polygon fill=\"#f7fbfe\" stroke=\"black\" points=\"320,-125 165,-125 165,-72 320,-72 320,-125\"/>\n",
       "<text text-anchor=\"middle\" x=\"242.5\" y=\"-109.8\" font-family=\"Helvetica,sans-Serif\" font-size=\"14.00\">volatile acidity &lt;= &#45;0.79</text>\n",
       "<text text-anchor=\"middle\" x=\"242.5\" y=\"-94.8\" font-family=\"Helvetica,sans-Serif\" font-size=\"14.00\">samples = 8.3%</text>\n",
       "<text text-anchor=\"middle\" x=\"242.5\" y=\"-79.8\" font-family=\"Helvetica,sans-Serif\" font-size=\"14.00\">value = [0.49, 0.51]</text>\n",
       "</g>\n",
       "<!-- 1&#45;&gt;37 -->\n",
       "<g id=\"edge5\" class=\"edge\">\n",
       "<title>1&#45;&gt;37</title>\n",
       "<path fill=\"none\" stroke=\"black\" d=\"M242.5,-160.87C242.5,-152.89 242.5,-143.93 242.5,-135.38\"/>\n",
       "<polygon fill=\"black\" stroke=\"black\" points=\"246,-135.25 242.5,-125.25 239,-135.25 246,-135.25\"/>\n",
       "</g>\n",
       "<!-- 3 -->\n",
       "<g id=\"node4\" class=\"node\">\n",
       "<title>3</title>\n",
       "<polygon fill=\"#c0c0c0\" stroke=\"black\" points=\"100.5,-36 46.5,-36 46.5,0 100.5,0 100.5,-36\"/>\n",
       "<text text-anchor=\"middle\" x=\"73.5\" y=\"-14.3\" font-family=\"Helvetica,sans-Serif\" font-size=\"14.00\">(...)</text>\n",
       "</g>\n",
       "<!-- 2&#45;&gt;3 -->\n",
       "<g id=\"edge3\" class=\"edge\">\n",
       "<title>2&#45;&gt;3</title>\n",
       "<path fill=\"none\" stroke=\"black\" d=\"M73.5,-71.8C73.5,-63.71 73.5,-54.76 73.5,-46.55\"/>\n",
       "<polygon fill=\"black\" stroke=\"black\" points=\"77,-46.33 73.5,-36.33 70,-46.33 77,-46.33\"/>\n",
       "</g>\n",
       "<!-- 12 -->\n",
       "<g id=\"node5\" class=\"node\">\n",
       "<title>12</title>\n",
       "<polygon fill=\"#c0c0c0\" stroke=\"black\" points=\"172.5,-36 118.5,-36 118.5,0 172.5,0 172.5,-36\"/>\n",
       "<text text-anchor=\"middle\" x=\"145.5\" y=\"-14.3\" font-family=\"Helvetica,sans-Serif\" font-size=\"14.00\">(...)</text>\n",
       "</g>\n",
       "<!-- 2&#45;&gt;12 -->\n",
       "<g id=\"edge4\" class=\"edge\">\n",
       "<title>2&#45;&gt;12</title>\n",
       "<path fill=\"none\" stroke=\"black\" d=\"M97.08,-71.8C105.32,-62.8 114.56,-52.73 122.74,-43.81\"/>\n",
       "<polygon fill=\"black\" stroke=\"black\" points=\"125.42,-46.07 129.6,-36.33 120.27,-41.33 125.42,-46.07\"/>\n",
       "</g>\n",
       "<!-- 38 -->\n",
       "<g id=\"node7\" class=\"node\">\n",
       "<title>38</title>\n",
       "<polygon fill=\"#c0c0c0\" stroke=\"black\" points=\"256.5,-36 202.5,-36 202.5,0 256.5,0 256.5,-36\"/>\n",
       "<text text-anchor=\"middle\" x=\"229.5\" y=\"-14.3\" font-family=\"Helvetica,sans-Serif\" font-size=\"14.00\">(...)</text>\n",
       "</g>\n",
       "<!-- 37&#45;&gt;38 -->\n",
       "<g id=\"edge6\" class=\"edge\">\n",
       "<title>37&#45;&gt;38</title>\n",
       "<path fill=\"none\" stroke=\"black\" d=\"M238.24,-71.8C236.89,-63.62 235.39,-54.55 234.02,-46.27\"/>\n",
       "<polygon fill=\"black\" stroke=\"black\" points=\"237.46,-45.62 232.37,-36.33 230.55,-46.77 237.46,-45.62\"/>\n",
       "</g>\n",
       "<!-- 61 -->\n",
       "<g id=\"node8\" class=\"node\">\n",
       "<title>61</title>\n",
       "<polygon fill=\"#c0c0c0\" stroke=\"black\" points=\"328.5,-36 274.5,-36 274.5,0 328.5,0 328.5,-36\"/>\n",
       "<text text-anchor=\"middle\" x=\"301.5\" y=\"-14.3\" font-family=\"Helvetica,sans-Serif\" font-size=\"14.00\">(...)</text>\n",
       "</g>\n",
       "<!-- 37&#45;&gt;61 -->\n",
       "<g id=\"edge7\" class=\"edge\">\n",
       "<title>37&#45;&gt;61</title>\n",
       "<path fill=\"none\" stroke=\"black\" d=\"M261.82,-71.8C268.44,-62.99 275.84,-53.14 282.44,-44.36\"/>\n",
       "<polygon fill=\"black\" stroke=\"black\" points=\"285.26,-46.43 288.47,-36.33 279.67,-42.22 285.26,-46.43\"/>\n",
       "</g>\n",
       "<!-- 67 -->\n",
       "<g id=\"node10\" class=\"node\">\n",
       "<title>67</title>\n",
       "<polygon fill=\"#e78a47\" stroke=\"black\" points=\"485,-125 338,-125 338,-72 485,-72 485,-125\"/>\n",
       "<text text-anchor=\"middle\" x=\"411.5\" y=\"-109.8\" font-family=\"Helvetica,sans-Serif\" font-size=\"14.00\">sulphates &lt;= &#45;0.139</text>\n",
       "<text text-anchor=\"middle\" x=\"411.5\" y=\"-94.8\" font-family=\"Helvetica,sans-Serif\" font-size=\"14.00\">samples = 69.3%</text>\n",
       "<text text-anchor=\"middle\" x=\"411.5\" y=\"-79.8\" font-family=\"Helvetica,sans-Serif\" font-size=\"14.00\">value = [0.936, 0.064]</text>\n",
       "</g>\n",
       "<!-- 66&#45;&gt;67 -->\n",
       "<g id=\"edge9\" class=\"edge\">\n",
       "<title>66&#45;&gt;67</title>\n",
       "<path fill=\"none\" stroke=\"black\" d=\"M411.5,-160.87C411.5,-152.89 411.5,-143.93 411.5,-135.38\"/>\n",
       "<polygon fill=\"black\" stroke=\"black\" points=\"415,-135.25 411.5,-125.25 408,-135.25 415,-135.25\"/>\n",
       "</g>\n",
       "<!-- 164 -->\n",
       "<g id=\"node13\" class=\"node\">\n",
       "<title>164</title>\n",
       "<polygon fill=\"#f3c7a7\" stroke=\"black\" points=\"652,-125 503,-125 503,-72 652,-72 652,-125\"/>\n",
       "<text text-anchor=\"middle\" x=\"577.5\" y=\"-109.8\" font-family=\"Helvetica,sans-Serif\" font-size=\"14.00\">fixed acidity &lt;= &#45;0.121</text>\n",
       "<text text-anchor=\"middle\" x=\"577.5\" y=\"-94.8\" font-family=\"Helvetica,sans-Serif\" font-size=\"14.00\">samples = 10.3%</text>\n",
       "<text text-anchor=\"middle\" x=\"577.5\" y=\"-79.8\" font-family=\"Helvetica,sans-Serif\" font-size=\"14.00\">value = [0.643, 0.357]</text>\n",
       "</g>\n",
       "<!-- 66&#45;&gt;164 -->\n",
       "<g id=\"edge12\" class=\"edge\">\n",
       "<title>66&#45;&gt;164</title>\n",
       "<path fill=\"none\" stroke=\"black\" d=\"M460.41,-160.87C478.98,-151.13 500.32,-139.95 519.64,-129.82\"/>\n",
       "<polygon fill=\"black\" stroke=\"black\" points=\"521.42,-132.84 528.66,-125.1 518.17,-126.64 521.42,-132.84\"/>\n",
       "</g>\n",
       "<!-- 68 -->\n",
       "<g id=\"node11\" class=\"node\">\n",
       "<title>68</title>\n",
       "<polygon fill=\"#c0c0c0\" stroke=\"black\" points=\"419.5,-36 365.5,-36 365.5,0 419.5,0 419.5,-36\"/>\n",
       "<text text-anchor=\"middle\" x=\"392.5\" y=\"-14.3\" font-family=\"Helvetica,sans-Serif\" font-size=\"14.00\">(...)</text>\n",
       "</g>\n",
       "<!-- 67&#45;&gt;68 -->\n",
       "<g id=\"edge10\" class=\"edge\">\n",
       "<title>67&#45;&gt;68</title>\n",
       "<path fill=\"none\" stroke=\"black\" d=\"M405.28,-71.8C403.3,-63.62 401.11,-54.55 399.1,-46.27\"/>\n",
       "<polygon fill=\"black\" stroke=\"black\" points=\"402.45,-45.23 396.69,-36.33 395.65,-46.87 402.45,-45.23\"/>\n",
       "</g>\n",
       "<!-- 97 -->\n",
       "<g id=\"node12\" class=\"node\">\n",
       "<title>97</title>\n",
       "<polygon fill=\"#c0c0c0\" stroke=\"black\" points=\"491.5,-36 437.5,-36 437.5,0 491.5,0 491.5,-36\"/>\n",
       "<text text-anchor=\"middle\" x=\"464.5\" y=\"-14.3\" font-family=\"Helvetica,sans-Serif\" font-size=\"14.00\">(...)</text>\n",
       "</g>\n",
       "<!-- 67&#45;&gt;97 -->\n",
       "<g id=\"edge11\" class=\"edge\">\n",
       "<title>67&#45;&gt;97</title>\n",
       "<path fill=\"none\" stroke=\"black\" d=\"M428.85,-71.8C434.74,-63.08 441.31,-53.34 447.2,-44.63\"/>\n",
       "<polygon fill=\"black\" stroke=\"black\" points=\"450.1,-46.58 452.8,-36.33 444.3,-42.66 450.1,-46.58\"/>\n",
       "</g>\n",
       "<!-- 165 -->\n",
       "<g id=\"node14\" class=\"node\">\n",
       "<title>165</title>\n",
       "<polygon fill=\"#c0c0c0\" stroke=\"black\" points=\"583.5,-36 529.5,-36 529.5,0 583.5,0 583.5,-36\"/>\n",
       "<text text-anchor=\"middle\" x=\"556.5\" y=\"-14.3\" font-family=\"Helvetica,sans-Serif\" font-size=\"14.00\">(...)</text>\n",
       "</g>\n",
       "<!-- 164&#45;&gt;165 -->\n",
       "<g id=\"edge13\" class=\"edge\">\n",
       "<title>164&#45;&gt;165</title>\n",
       "<path fill=\"none\" stroke=\"black\" d=\"M570.62,-71.8C568.41,-63.53 565.96,-54.35 563.72,-46\"/>\n",
       "<polygon fill=\"black\" stroke=\"black\" points=\"567.1,-45.09 561.14,-36.33 560.34,-46.9 567.1,-45.09\"/>\n",
       "</g>\n",
       "<!-- 172 -->\n",
       "<g id=\"node15\" class=\"node\">\n",
       "<title>172</title>\n",
       "<polygon fill=\"#c0c0c0\" stroke=\"black\" points=\"655.5,-36 601.5,-36 601.5,0 655.5,0 655.5,-36\"/>\n",
       "<text text-anchor=\"middle\" x=\"628.5\" y=\"-14.3\" font-family=\"Helvetica,sans-Serif\" font-size=\"14.00\">(...)</text>\n",
       "</g>\n",
       "<!-- 164&#45;&gt;172 -->\n",
       "<g id=\"edge14\" class=\"edge\">\n",
       "<title>164&#45;&gt;172</title>\n",
       "<path fill=\"none\" stroke=\"black\" d=\"M594.2,-71.8C599.81,-63.17 606.06,-53.54 611.67,-44.9\"/>\n",
       "<polygon fill=\"black\" stroke=\"black\" points=\"614.73,-46.62 617.24,-36.33 608.86,-42.81 614.73,-46.62\"/>\n",
       "</g>\n",
       "</g>\n",
       "</svg>\n"
      ],
      "text/plain": [
       "<graphviz.sources.Source at 0x261bbda0ee0>"
      ]
     },
     "metadata": {},
     "output_type": "display_data"
    },
    {
     "data": {
      "image/svg+xml": [
       "<?xml version=\"1.0\" encoding=\"UTF-8\" standalone=\"no\"?>\n",
       "<!DOCTYPE svg PUBLIC \"-//W3C//DTD SVG 1.1//EN\"\n",
       " \"http://www.w3.org/Graphics/SVG/1.1/DTD/svg11.dtd\">\n",
       "<!-- Generated by graphviz version 2.50.0 (0)\n",
       " -->\n",
       "<!-- Title: Tree Pages: 1 -->\n",
       "<svg width=\"692pt\" height=\"311pt\"\n",
       " viewBox=\"0.00 0.00 691.50 311.00\" xmlns=\"http://www.w3.org/2000/svg\" xmlns:xlink=\"http://www.w3.org/1999/xlink\">\n",
       "<g id=\"graph0\" class=\"graph\" transform=\"scale(1 1) rotate(0) translate(4 307)\">\n",
       "<title>Tree</title>\n",
       "<polygon fill=\"white\" stroke=\"transparent\" points=\"-4,4 -4,-307 687.5,-307 687.5,4 -4,4\"/>\n",
       "<!-- 0 -->\n",
       "<g id=\"node1\" class=\"node\">\n",
       "<title>0</title>\n",
       "<polygon fill=\"#e9965a\" stroke=\"black\" points=\"443.5,-303 280.5,-303 280.5,-250 443.5,-250 443.5,-303\"/>\n",
       "<text text-anchor=\"middle\" x=\"362\" y=\"-287.8\" font-family=\"Helvetica,sans-Serif\" font-size=\"14.00\">volatile acidity &lt;= &#45;0.954</text>\n",
       "<text text-anchor=\"middle\" x=\"362\" y=\"-272.8\" font-family=\"Helvetica,sans-Serif\" font-size=\"14.00\">samples = 100.0%</text>\n",
       "<text text-anchor=\"middle\" x=\"362\" y=\"-257.8\" font-family=\"Helvetica,sans-Serif\" font-size=\"14.00\">value = [0.858, 0.142]</text>\n",
       "</g>\n",
       "<!-- 1 -->\n",
       "<g id=\"node2\" class=\"node\">\n",
       "<title>1</title>\n",
       "<polygon fill=\"#f8ddc9\" stroke=\"black\" points=\"353.5,-214 204.5,-214 204.5,-161 353.5,-161 353.5,-214\"/>\n",
       "<text text-anchor=\"middle\" x=\"279\" y=\"-198.8\" font-family=\"Helvetica,sans-Serif\" font-size=\"14.00\">fixed acidity &lt;= &#45;0.092</text>\n",
       "<text text-anchor=\"middle\" x=\"279\" y=\"-183.8\" font-family=\"Helvetica,sans-Serif\" font-size=\"14.00\">samples = 17.1%</text>\n",
       "<text text-anchor=\"middle\" x=\"279\" y=\"-168.8\" font-family=\"Helvetica,sans-Serif\" font-size=\"14.00\">value = [0.578, 0.422]</text>\n",
       "</g>\n",
       "<!-- 0&#45;&gt;1 -->\n",
       "<g id=\"edge1\" class=\"edge\">\n",
       "<title>0&#45;&gt;1</title>\n",
       "<path fill=\"none\" stroke=\"black\" d=\"M337.55,-249.87C329.09,-241.01 319.5,-230.95 310.56,-221.58\"/>\n",
       "<polygon fill=\"black\" stroke=\"black\" points=\"313,-219.07 303.57,-214.25 307.94,-223.9 313,-219.07\"/>\n",
       "<text text-anchor=\"middle\" x=\"302.98\" y=\"-235.54\" font-family=\"Helvetica,sans-Serif\" font-size=\"14.00\">True</text>\n",
       "</g>\n",
       "<!-- 70 -->\n",
       "<g id=\"node9\" class=\"node\">\n",
       "<title>70</title>\n",
       "<polygon fill=\"#e78d4b\" stroke=\"black\" points=\"518.5,-214 371.5,-214 371.5,-161 518.5,-161 518.5,-214\"/>\n",
       "<text text-anchor=\"middle\" x=\"445\" y=\"-198.8\" font-family=\"Helvetica,sans-Serif\" font-size=\"14.00\">sulphates &lt;= &#45;0.198</text>\n",
       "<text text-anchor=\"middle\" x=\"445\" y=\"-183.8\" font-family=\"Helvetica,sans-Serif\" font-size=\"14.00\">samples = 82.9%</text>\n",
       "<text text-anchor=\"middle\" x=\"445\" y=\"-168.8\" font-family=\"Helvetica,sans-Serif\" font-size=\"14.00\">value = [0.916, 0.084]</text>\n",
       "</g>\n",
       "<!-- 0&#45;&gt;70 -->\n",
       "<g id=\"edge8\" class=\"edge\">\n",
       "<title>0&#45;&gt;70</title>\n",
       "<path fill=\"none\" stroke=\"black\" d=\"M386.45,-249.87C394.91,-241.01 404.5,-230.95 413.44,-221.58\"/>\n",
       "<polygon fill=\"black\" stroke=\"black\" points=\"416.06,-223.9 420.43,-214.25 411,-219.07 416.06,-223.9\"/>\n",
       "<text text-anchor=\"middle\" x=\"421.02\" y=\"-235.54\" font-family=\"Helvetica,sans-Serif\" font-size=\"14.00\">False</text>\n",
       "</g>\n",
       "<!-- 2 -->\n",
       "<g id=\"node3\" class=\"node\">\n",
       "<title>2</title>\n",
       "<polygon fill=\"#eca26d\" stroke=\"black\" points=\"188,-125 0,-125 0,-72 188,-72 188,-125\"/>\n",
       "<text text-anchor=\"middle\" x=\"94\" y=\"-109.8\" font-family=\"Helvetica,sans-Serif\" font-size=\"14.00\">total sulfur dioxide &lt;= &#45;0.159</text>\n",
       "<text text-anchor=\"middle\" x=\"94\" y=\"-94.8\" font-family=\"Helvetica,sans-Serif\" font-size=\"14.00\">samples = 5.9%</text>\n",
       "<text text-anchor=\"middle\" x=\"94\" y=\"-79.8\" font-family=\"Helvetica,sans-Serif\" font-size=\"14.00\">value = [0.791, 0.209]</text>\n",
       "</g>\n",
       "<!-- 1&#45;&gt;2 -->\n",
       "<g id=\"edge2\" class=\"edge\">\n",
       "<title>1&#45;&gt;2</title>\n",
       "<path fill=\"none\" stroke=\"black\" d=\"M224.49,-160.87C203.51,-151 179.37,-139.65 157.6,-129.41\"/>\n",
       "<polygon fill=\"black\" stroke=\"black\" points=\"158.97,-126.19 148.44,-125.1 156,-132.52 158.97,-126.19\"/>\n",
       "</g>\n",
       "<!-- 21 -->\n",
       "<g id=\"node6\" class=\"node\">\n",
       "<title>21</title>\n",
       "<polygon fill=\"#e0f0fb\" stroke=\"black\" points=\"353.5,-125 206.5,-125 206.5,-72 353.5,-72 353.5,-125\"/>\n",
       "<text text-anchor=\"middle\" x=\"280\" y=\"-109.8\" font-family=\"Helvetica,sans-Serif\" font-size=\"14.00\">pH &lt;= 0.485</text>\n",
       "<text text-anchor=\"middle\" x=\"280\" y=\"-94.8\" font-family=\"Helvetica,sans-Serif\" font-size=\"14.00\">samples = 11.2%</text>\n",
       "<text text-anchor=\"middle\" x=\"280\" y=\"-79.8\" font-family=\"Helvetica,sans-Serif\" font-size=\"14.00\">value = [0.458, 0.542]</text>\n",
       "</g>\n",
       "<!-- 1&#45;&gt;21 -->\n",
       "<g id=\"edge5\" class=\"edge\">\n",
       "<title>1&#45;&gt;21</title>\n",
       "<path fill=\"none\" stroke=\"black\" d=\"M279.29,-160.87C279.39,-152.89 279.49,-143.93 279.59,-135.38\"/>\n",
       "<polygon fill=\"black\" stroke=\"black\" points=\"283.09,-135.29 279.7,-125.25 276.09,-135.21 283.09,-135.29\"/>\n",
       "</g>\n",
       "<!-- 3 -->\n",
       "<g id=\"node4\" class=\"node\">\n",
       "<title>3</title>\n",
       "<polygon fill=\"#c0c0c0\" stroke=\"black\" points=\"85,-36 31,-36 31,0 85,0 85,-36\"/>\n",
       "<text text-anchor=\"middle\" x=\"58\" y=\"-14.3\" font-family=\"Helvetica,sans-Serif\" font-size=\"14.00\">(...)</text>\n",
       "</g>\n",
       "<!-- 2&#45;&gt;3 -->\n",
       "<g id=\"edge3\" class=\"edge\">\n",
       "<title>2&#45;&gt;3</title>\n",
       "<path fill=\"none\" stroke=\"black\" d=\"M82.21,-71.8C78.34,-63.35 74.03,-53.95 70.13,-45.45\"/>\n",
       "<polygon fill=\"black\" stroke=\"black\" points=\"73.3,-43.96 65.95,-36.33 66.93,-46.88 73.3,-43.96\"/>\n",
       "</g>\n",
       "<!-- 12 -->\n",
       "<g id=\"node5\" class=\"node\">\n",
       "<title>12</title>\n",
       "<polygon fill=\"#c0c0c0\" stroke=\"black\" points=\"157,-36 103,-36 103,0 157,0 157,-36\"/>\n",
       "<text text-anchor=\"middle\" x=\"130\" y=\"-14.3\" font-family=\"Helvetica,sans-Serif\" font-size=\"14.00\">(...)</text>\n",
       "</g>\n",
       "<!-- 2&#45;&gt;12 -->\n",
       "<g id=\"edge4\" class=\"edge\">\n",
       "<title>2&#45;&gt;12</title>\n",
       "<path fill=\"none\" stroke=\"black\" d=\"M105.79,-71.8C109.66,-63.35 113.97,-53.95 117.87,-45.45\"/>\n",
       "<polygon fill=\"black\" stroke=\"black\" points=\"121.07,-46.88 122.05,-36.33 114.7,-43.96 121.07,-46.88\"/>\n",
       "</g>\n",
       "<!-- 22 -->\n",
       "<g id=\"node7\" class=\"node\">\n",
       "<title>22</title>\n",
       "<polygon fill=\"#c0c0c0\" stroke=\"black\" points=\"276,-36 222,-36 222,0 276,0 276,-36\"/>\n",
       "<text text-anchor=\"middle\" x=\"249\" y=\"-14.3\" font-family=\"Helvetica,sans-Serif\" font-size=\"14.00\">(...)</text>\n",
       "</g>\n",
       "<!-- 21&#45;&gt;22 -->\n",
       "<g id=\"edge6\" class=\"edge\">\n",
       "<title>21&#45;&gt;22</title>\n",
       "<path fill=\"none\" stroke=\"black\" d=\"M269.85,-71.8C266.55,-63.44 262.88,-54.15 259.55,-45.72\"/>\n",
       "<polygon fill=\"black\" stroke=\"black\" points=\"262.77,-44.35 255.84,-36.33 256.26,-46.92 262.77,-44.35\"/>\n",
       "</g>\n",
       "<!-- 65 -->\n",
       "<g id=\"node8\" class=\"node\">\n",
       "<title>65</title>\n",
       "<polygon fill=\"#c0c0c0\" stroke=\"black\" points=\"348,-36 294,-36 294,0 348,0 348,-36\"/>\n",
       "<text text-anchor=\"middle\" x=\"321\" y=\"-14.3\" font-family=\"Helvetica,sans-Serif\" font-size=\"14.00\">(...)</text>\n",
       "</g>\n",
       "<!-- 21&#45;&gt;65 -->\n",
       "<g id=\"edge7\" class=\"edge\">\n",
       "<title>21&#45;&gt;65</title>\n",
       "<path fill=\"none\" stroke=\"black\" d=\"M293.42,-71.8C297.84,-63.35 302.75,-53.95 307.19,-45.45\"/>\n",
       "<polygon fill=\"black\" stroke=\"black\" points=\"310.42,-46.81 311.95,-36.33 304.22,-43.57 310.42,-46.81\"/>\n",
       "</g>\n",
       "<!-- 71 -->\n",
       "<g id=\"node10\" class=\"node\">\n",
       "<title>71</title>\n",
       "<polygon fill=\"#e68640\" stroke=\"black\" points=\"518.5,-125 371.5,-125 371.5,-72 518.5,-72 518.5,-125\"/>\n",
       "<text text-anchor=\"middle\" x=\"445\" y=\"-109.8\" font-family=\"Helvetica,sans-Serif\" font-size=\"14.00\">alcohol &lt;= 1.311</text>\n",
       "<text text-anchor=\"middle\" x=\"445\" y=\"-94.8\" font-family=\"Helvetica,sans-Serif\" font-size=\"14.00\">samples = 49.7%</text>\n",
       "<text text-anchor=\"middle\" x=\"445\" y=\"-79.8\" font-family=\"Helvetica,sans-Serif\" font-size=\"14.00\">value = [0.965, 0.035]</text>\n",
       "</g>\n",
       "<!-- 70&#45;&gt;71 -->\n",
       "<g id=\"edge9\" class=\"edge\">\n",
       "<title>70&#45;&gt;71</title>\n",
       "<path fill=\"none\" stroke=\"black\" d=\"M445,-160.87C445,-152.89 445,-143.93 445,-135.38\"/>\n",
       "<polygon fill=\"black\" stroke=\"black\" points=\"448.5,-135.25 445,-125.25 441.5,-135.25 448.5,-135.25\"/>\n",
       "</g>\n",
       "<!-- 116 -->\n",
       "<g id=\"node13\" class=\"node\">\n",
       "<title>116</title>\n",
       "<polygon fill=\"#ea9a61\" stroke=\"black\" points=\"683.5,-125 536.5,-125 536.5,-72 683.5,-72 683.5,-125\"/>\n",
       "<text text-anchor=\"middle\" x=\"610\" y=\"-109.8\" font-family=\"Helvetica,sans-Serif\" font-size=\"14.00\">pH &lt;= 2.55</text>\n",
       "<text text-anchor=\"middle\" x=\"610\" y=\"-94.8\" font-family=\"Helvetica,sans-Serif\" font-size=\"14.00\">samples = 33.2%</text>\n",
       "<text text-anchor=\"middle\" x=\"610\" y=\"-79.8\" font-family=\"Helvetica,sans-Serif\" font-size=\"14.00\">value = [0.832, 0.168]</text>\n",
       "</g>\n",
       "<!-- 70&#45;&gt;116 -->\n",
       "<g id=\"edge12\" class=\"edge\">\n",
       "<title>70&#45;&gt;116</title>\n",
       "<path fill=\"none\" stroke=\"black\" d=\"M493.61,-160.87C512.08,-151.13 533.28,-139.95 552.49,-129.82\"/>\n",
       "<polygon fill=\"black\" stroke=\"black\" points=\"554.24,-132.86 561.45,-125.1 550.97,-126.67 554.24,-132.86\"/>\n",
       "</g>\n",
       "<!-- 72 -->\n",
       "<g id=\"node11\" class=\"node\">\n",
       "<title>72</title>\n",
       "<polygon fill=\"#c0c0c0\" stroke=\"black\" points=\"441,-36 387,-36 387,0 441,0 441,-36\"/>\n",
       "<text text-anchor=\"middle\" x=\"414\" y=\"-14.3\" font-family=\"Helvetica,sans-Serif\" font-size=\"14.00\">(...)</text>\n",
       "</g>\n",
       "<!-- 71&#45;&gt;72 -->\n",
       "<g id=\"edge10\" class=\"edge\">\n",
       "<title>71&#45;&gt;72</title>\n",
       "<path fill=\"none\" stroke=\"black\" d=\"M434.85,-71.8C431.55,-63.44 427.88,-54.15 424.55,-45.72\"/>\n",
       "<polygon fill=\"black\" stroke=\"black\" points=\"427.77,-44.35 420.84,-36.33 421.26,-46.92 427.77,-44.35\"/>\n",
       "</g>\n",
       "<!-- 107 -->\n",
       "<g id=\"node12\" class=\"node\">\n",
       "<title>107</title>\n",
       "<polygon fill=\"#c0c0c0\" stroke=\"black\" points=\"513,-36 459,-36 459,0 513,0 513,-36\"/>\n",
       "<text text-anchor=\"middle\" x=\"486\" y=\"-14.3\" font-family=\"Helvetica,sans-Serif\" font-size=\"14.00\">(...)</text>\n",
       "</g>\n",
       "<!-- 71&#45;&gt;107 -->\n",
       "<g id=\"edge11\" class=\"edge\">\n",
       "<title>71&#45;&gt;107</title>\n",
       "<path fill=\"none\" stroke=\"black\" d=\"M458.42,-71.8C462.84,-63.35 467.75,-53.95 472.19,-45.45\"/>\n",
       "<polygon fill=\"black\" stroke=\"black\" points=\"475.42,-46.81 476.95,-36.33 469.22,-43.57 475.42,-46.81\"/>\n",
       "</g>\n",
       "<!-- 117 -->\n",
       "<g id=\"node14\" class=\"node\">\n",
       "<title>117</title>\n",
       "<polygon fill=\"#c0c0c0\" stroke=\"black\" points=\"595,-36 541,-36 541,0 595,0 595,-36\"/>\n",
       "<text text-anchor=\"middle\" x=\"568\" y=\"-14.3\" font-family=\"Helvetica,sans-Serif\" font-size=\"14.00\">(...)</text>\n",
       "</g>\n",
       "<!-- 116&#45;&gt;117 -->\n",
       "<g id=\"edge13\" class=\"edge\">\n",
       "<title>116&#45;&gt;117</title>\n",
       "<path fill=\"none\" stroke=\"black\" d=\"M596.25,-71.8C591.68,-63.26 586.59,-53.75 582,-45.17\"/>\n",
       "<polygon fill=\"black\" stroke=\"black\" points=\"585.08,-43.5 577.27,-36.33 578.9,-46.8 585.08,-43.5\"/>\n",
       "</g>\n",
       "<!-- 182 -->\n",
       "<g id=\"node15\" class=\"node\">\n",
       "<title>182</title>\n",
       "<polygon fill=\"#c0c0c0\" stroke=\"black\" points=\"667,-36 613,-36 613,0 667,0 667,-36\"/>\n",
       "<text text-anchor=\"middle\" x=\"640\" y=\"-14.3\" font-family=\"Helvetica,sans-Serif\" font-size=\"14.00\">(...)</text>\n",
       "</g>\n",
       "<!-- 116&#45;&gt;182 -->\n",
       "<g id=\"edge14\" class=\"edge\">\n",
       "<title>116&#45;&gt;182</title>\n",
       "<path fill=\"none\" stroke=\"black\" d=\"M619.82,-71.8C623.02,-63.44 626.57,-54.15 629.79,-45.72\"/>\n",
       "<polygon fill=\"black\" stroke=\"black\" points=\"633.08,-46.92 633.38,-36.33 626.54,-44.42 633.08,-46.92\"/>\n",
       "</g>\n",
       "</g>\n",
       "</svg>\n"
      ],
      "text/plain": [
       "<graphviz.sources.Source at 0x261bbda0f70>"
      ]
     },
     "metadata": {},
     "output_type": "display_data"
    },
    {
     "data": {
      "image/svg+xml": [
       "<?xml version=\"1.0\" encoding=\"UTF-8\" standalone=\"no\"?>\n",
       "<!DOCTYPE svg PUBLIC \"-//W3C//DTD SVG 1.1//EN\"\n",
       " \"http://www.w3.org/Graphics/SVG/1.1/DTD/svg11.dtd\">\n",
       "<!-- Generated by graphviz version 2.50.0 (0)\n",
       " -->\n",
       "<!-- Title: Tree Pages: 1 -->\n",
       "<svg width=\"654pt\" height=\"311pt\"\n",
       " viewBox=\"0.00 0.00 653.50 311.00\" xmlns=\"http://www.w3.org/2000/svg\" xmlns:xlink=\"http://www.w3.org/1999/xlink\">\n",
       "<g id=\"graph0\" class=\"graph\" transform=\"scale(1 1) rotate(0) translate(4 307)\">\n",
       "<title>Tree</title>\n",
       "<polygon fill=\"white\" stroke=\"transparent\" points=\"-4,4 -4,-307 649.5,-307 649.5,4 -4,4\"/>\n",
       "<!-- 0 -->\n",
       "<g id=\"node1\" class=\"node\">\n",
       "<title>0</title>\n",
       "<polygon fill=\"#e99558\" stroke=\"black\" points=\"384,-303 229,-303 229,-250 384,-250 384,-303\"/>\n",
       "<text text-anchor=\"middle\" x=\"306.5\" y=\"-287.8\" font-family=\"Helvetica,sans-Serif\" font-size=\"14.00\">volatile acidity &lt;= &#45;0.79</text>\n",
       "<text text-anchor=\"middle\" x=\"306.5\" y=\"-272.8\" font-family=\"Helvetica,sans-Serif\" font-size=\"14.00\">samples = 100.0%</text>\n",
       "<text text-anchor=\"middle\" x=\"306.5\" y=\"-257.8\" font-family=\"Helvetica,sans-Serif\" font-size=\"14.00\">value = [0.863, 0.137]</text>\n",
       "</g>\n",
       "<!-- 1 -->\n",
       "<g id=\"node2\" class=\"node\">\n",
       "<title>1</title>\n",
       "<polygon fill=\"#f3c5a4\" stroke=\"black\" points=\"298,-214 151,-214 151,-161 298,-161 298,-214\"/>\n",
       "<text text-anchor=\"middle\" x=\"224.5\" y=\"-198.8\" font-family=\"Helvetica,sans-Serif\" font-size=\"14.00\">sulphates &lt;= &#45;0.139</text>\n",
       "<text text-anchor=\"middle\" x=\"224.5\" y=\"-183.8\" font-family=\"Helvetica,sans-Serif\" font-size=\"14.00\">samples = 23.3%</text>\n",
       "<text text-anchor=\"middle\" x=\"224.5\" y=\"-168.8\" font-family=\"Helvetica,sans-Serif\" font-size=\"14.00\">value = [0.649, 0.351]</text>\n",
       "</g>\n",
       "<!-- 0&#45;&gt;1 -->\n",
       "<g id=\"edge1\" class=\"edge\">\n",
       "<title>0&#45;&gt;1</title>\n",
       "<path fill=\"none\" stroke=\"black\" d=\"M282.34,-249.87C273.99,-241.01 264.51,-230.95 255.68,-221.58\"/>\n",
       "<polygon fill=\"black\" stroke=\"black\" points=\"258.18,-219.13 248.77,-214.25 253.08,-223.93 258.18,-219.13\"/>\n",
       "<text text-anchor=\"middle\" x=\"248.03\" y=\"-235.54\" font-family=\"Helvetica,sans-Serif\" font-size=\"14.00\">True</text>\n",
       "</g>\n",
       "<!-- 88 -->\n",
       "<g id=\"node9\" class=\"node\">\n",
       "<title>88</title>\n",
       "<polygon fill=\"#e78b49\" stroke=\"black\" points=\"463,-214 316,-214 316,-161 463,-161 463,-214\"/>\n",
       "<text text-anchor=\"middle\" x=\"389.5\" y=\"-198.8\" font-family=\"Helvetica,sans-Serif\" font-size=\"14.00\">alcohol &lt;= 0.941</text>\n",
       "<text text-anchor=\"middle\" x=\"389.5\" y=\"-183.8\" font-family=\"Helvetica,sans-Serif\" font-size=\"14.00\">samples = 76.7%</text>\n",
       "<text text-anchor=\"middle\" x=\"389.5\" y=\"-168.8\" font-family=\"Helvetica,sans-Serif\" font-size=\"14.00\">value = [0.925, 0.075]</text>\n",
       "</g>\n",
       "<!-- 0&#45;&gt;88 -->\n",
       "<g id=\"edge8\" class=\"edge\">\n",
       "<title>0&#45;&gt;88</title>\n",
       "<path fill=\"none\" stroke=\"black\" d=\"M330.95,-249.87C339.41,-241.01 349,-230.95 357.94,-221.58\"/>\n",
       "<polygon fill=\"black\" stroke=\"black\" points=\"360.56,-223.9 364.93,-214.25 355.5,-219.07 360.56,-223.9\"/>\n",
       "<text text-anchor=\"middle\" x=\"365.52\" y=\"-235.54\" font-family=\"Helvetica,sans-Serif\" font-size=\"14.00\">False</text>\n",
       "</g>\n",
       "<!-- 2 -->\n",
       "<g id=\"node3\" class=\"node\">\n",
       "<title>2</title>\n",
       "<polygon fill=\"#e88f4f\" stroke=\"black\" points=\"133,-125 0,-125 0,-72 133,-72 133,-125\"/>\n",
       "<text text-anchor=\"middle\" x=\"66.5\" y=\"-109.8\" font-family=\"Helvetica,sans-Serif\" font-size=\"14.00\">chlorides &lt;= &#45;0.418</text>\n",
       "<text text-anchor=\"middle\" x=\"66.5\" y=\"-94.8\" font-family=\"Helvetica,sans-Serif\" font-size=\"14.00\">samples = 8.4%</text>\n",
       "<text text-anchor=\"middle\" x=\"66.5\" y=\"-79.8\" font-family=\"Helvetica,sans-Serif\" font-size=\"14.00\">value = [0.9, 0.1]</text>\n",
       "</g>\n",
       "<!-- 1&#45;&gt;2 -->\n",
       "<g id=\"edge2\" class=\"edge\">\n",
       "<title>1&#45;&gt;2</title>\n",
       "<path fill=\"none\" stroke=\"black\" d=\"M177.95,-160.87C160.35,-151.18 140.15,-140.05 121.82,-129.96\"/>\n",
       "<polygon fill=\"black\" stroke=\"black\" points=\"123.44,-126.86 112.99,-125.1 120.06,-132.99 123.44,-126.86\"/>\n",
       "</g>\n",
       "<!-- 25 -->\n",
       "<g id=\"node6\" class=\"node\">\n",
       "<title>25</title>\n",
       "<polygon fill=\"#fffdfc\" stroke=\"black\" points=\"298,-125 151,-125 151,-72 298,-72 298,-125\"/>\n",
       "<text text-anchor=\"middle\" x=\"224.5\" y=\"-109.8\" font-family=\"Helvetica,sans-Serif\" font-size=\"14.00\">alcohol &lt;= 0.201</text>\n",
       "<text text-anchor=\"middle\" x=\"224.5\" y=\"-94.8\" font-family=\"Helvetica,sans-Serif\" font-size=\"14.00\">samples = 14.8%</text>\n",
       "<text text-anchor=\"middle\" x=\"224.5\" y=\"-79.8\" font-family=\"Helvetica,sans-Serif\" font-size=\"14.00\">value = [0.503, 0.497]</text>\n",
       "</g>\n",
       "<!-- 1&#45;&gt;25 -->\n",
       "<g id=\"edge5\" class=\"edge\">\n",
       "<title>1&#45;&gt;25</title>\n",
       "<path fill=\"none\" stroke=\"black\" d=\"M224.5,-160.87C224.5,-152.89 224.5,-143.93 224.5,-135.38\"/>\n",
       "<polygon fill=\"black\" stroke=\"black\" points=\"228,-135.25 224.5,-125.25 221,-135.25 228,-135.25\"/>\n",
       "</g>\n",
       "<!-- 3 -->\n",
       "<g id=\"node4\" class=\"node\">\n",
       "<title>3</title>\n",
       "<polygon fill=\"#c0c0c0\" stroke=\"black\" points=\"90.5,-36 36.5,-36 36.5,0 90.5,0 90.5,-36\"/>\n",
       "<text text-anchor=\"middle\" x=\"63.5\" y=\"-14.3\" font-family=\"Helvetica,sans-Serif\" font-size=\"14.00\">(...)</text>\n",
       "</g>\n",
       "<!-- 2&#45;&gt;3 -->\n",
       "<g id=\"edge3\" class=\"edge\">\n",
       "<title>2&#45;&gt;3</title>\n",
       "<path fill=\"none\" stroke=\"black\" d=\"M65.52,-71.8C65.21,-63.71 64.87,-54.76 64.55,-46.55\"/>\n",
       "<polygon fill=\"black\" stroke=\"black\" points=\"68.04,-46.19 64.16,-36.33 61.05,-46.46 68.04,-46.19\"/>\n",
       "</g>\n",
       "<!-- 16 -->\n",
       "<g id=\"node5\" class=\"node\">\n",
       "<title>16</title>\n",
       "<polygon fill=\"#c0c0c0\" stroke=\"black\" points=\"162.5,-36 108.5,-36 108.5,0 162.5,0 162.5,-36\"/>\n",
       "<text text-anchor=\"middle\" x=\"135.5\" y=\"-14.3\" font-family=\"Helvetica,sans-Serif\" font-size=\"14.00\">(...)</text>\n",
       "</g>\n",
       "<!-- 2&#45;&gt;16 -->\n",
       "<g id=\"edge4\" class=\"edge\">\n",
       "<title>2&#45;&gt;16</title>\n",
       "<path fill=\"none\" stroke=\"black\" d=\"M89.09,-71.8C96.92,-62.9 105.67,-52.93 113.45,-44.08\"/>\n",
       "<polygon fill=\"black\" stroke=\"black\" points=\"116.29,-46.15 120.27,-36.33 111.04,-41.53 116.29,-46.15\"/>\n",
       "</g>\n",
       "<!-- 26 -->\n",
       "<g id=\"node7\" class=\"node\">\n",
       "<title>26</title>\n",
       "<polygon fill=\"#c0c0c0\" stroke=\"black\" points=\"242.5,-36 188.5,-36 188.5,0 242.5,0 242.5,-36\"/>\n",
       "<text text-anchor=\"middle\" x=\"215.5\" y=\"-14.3\" font-family=\"Helvetica,sans-Serif\" font-size=\"14.00\">(...)</text>\n",
       "</g>\n",
       "<!-- 25&#45;&gt;26 -->\n",
       "<g id=\"edge6\" class=\"edge\">\n",
       "<title>25&#45;&gt;26</title>\n",
       "<path fill=\"none\" stroke=\"black\" d=\"M221.55,-71.8C220.62,-63.62 219.58,-54.55 218.63,-46.27\"/>\n",
       "<polygon fill=\"black\" stroke=\"black\" points=\"222.1,-45.87 217.49,-36.33 215.15,-46.66 222.1,-45.87\"/>\n",
       "</g>\n",
       "<!-- 51 -->\n",
       "<g id=\"node8\" class=\"node\">\n",
       "<title>51</title>\n",
       "<polygon fill=\"#c0c0c0\" stroke=\"black\" points=\"314.5,-36 260.5,-36 260.5,0 314.5,0 314.5,-36\"/>\n",
       "<text text-anchor=\"middle\" x=\"287.5\" y=\"-14.3\" font-family=\"Helvetica,sans-Serif\" font-size=\"14.00\">(...)</text>\n",
       "</g>\n",
       "<!-- 25&#45;&gt;51 -->\n",
       "<g id=\"edge7\" class=\"edge\">\n",
       "<title>25&#45;&gt;51</title>\n",
       "<path fill=\"none\" stroke=\"black\" d=\"M245.13,-71.8C252.2,-62.99 260.1,-53.14 267.15,-44.36\"/>\n",
       "<polygon fill=\"black\" stroke=\"black\" points=\"270.06,-46.32 273.59,-36.33 264.6,-41.94 270.06,-46.32\"/>\n",
       "</g>\n",
       "<!-- 89 -->\n",
       "<g id=\"node10\" class=\"node\">\n",
       "<title>89</title>\n",
       "<polygon fill=\"#e6843e\" stroke=\"black\" points=\"463,-125 316,-125 316,-72 463,-72 463,-125\"/>\n",
       "<text text-anchor=\"middle\" x=\"389.5\" y=\"-109.8\" font-family=\"Helvetica,sans-Serif\" font-size=\"14.00\">density &lt;= 2.752</text>\n",
       "<text text-anchor=\"middle\" x=\"389.5\" y=\"-94.8\" font-family=\"Helvetica,sans-Serif\" font-size=\"14.00\">samples = 66.8%</text>\n",
       "<text text-anchor=\"middle\" x=\"389.5\" y=\"-79.8\" font-family=\"Helvetica,sans-Serif\" font-size=\"14.00\">value = [0.974, 0.026]</text>\n",
       "</g>\n",
       "<!-- 88&#45;&gt;89 -->\n",
       "<g id=\"edge9\" class=\"edge\">\n",
       "<title>88&#45;&gt;89</title>\n",
       "<path fill=\"none\" stroke=\"black\" d=\"M389.5,-160.87C389.5,-152.89 389.5,-143.93 389.5,-135.38\"/>\n",
       "<polygon fill=\"black\" stroke=\"black\" points=\"393,-135.25 389.5,-125.25 386,-135.25 393,-135.25\"/>\n",
       "</g>\n",
       "<!-- 142 -->\n",
       "<g id=\"node13\" class=\"node\">\n",
       "<title>142</title>\n",
       "<polygon fill=\"#f5d0b5\" stroke=\"black\" points=\"645.5,-125 481.5,-125 481.5,-72 645.5,-72 645.5,-125\"/>\n",
       "<text text-anchor=\"middle\" x=\"563.5\" y=\"-109.8\" font-family=\"Helvetica,sans-Serif\" font-size=\"14.00\">residual sugar &lt;= &#45;0.202</text>\n",
       "<text text-anchor=\"middle\" x=\"563.5\" y=\"-94.8\" font-family=\"Helvetica,sans-Serif\" font-size=\"14.00\">samples = 9.9%</text>\n",
       "<text text-anchor=\"middle\" x=\"563.5\" y=\"-79.8\" font-family=\"Helvetica,sans-Serif\" font-size=\"14.00\">value = [0.614, 0.386]</text>\n",
       "</g>\n",
       "<!-- 88&#45;&gt;142 -->\n",
       "<g id=\"edge12\" class=\"edge\">\n",
       "<title>88&#45;&gt;142</title>\n",
       "<path fill=\"none\" stroke=\"black\" d=\"M440.76,-160.87C460.32,-151.09 482.8,-139.85 503.13,-129.68\"/>\n",
       "<polygon fill=\"black\" stroke=\"black\" points=\"504.92,-132.7 512.3,-125.1 501.79,-126.44 504.92,-132.7\"/>\n",
       "</g>\n",
       "<!-- 90 -->\n",
       "<g id=\"node11\" class=\"node\">\n",
       "<title>90</title>\n",
       "<polygon fill=\"#c0c0c0\" stroke=\"black\" points=\"401.5,-36 347.5,-36 347.5,0 401.5,0 401.5,-36\"/>\n",
       "<text text-anchor=\"middle\" x=\"374.5\" y=\"-14.3\" font-family=\"Helvetica,sans-Serif\" font-size=\"14.00\">(...)</text>\n",
       "</g>\n",
       "<!-- 89&#45;&gt;90 -->\n",
       "<g id=\"edge10\" class=\"edge\">\n",
       "<title>89&#45;&gt;90</title>\n",
       "<path fill=\"none\" stroke=\"black\" d=\"M384.59,-71.8C383.03,-63.62 381.29,-54.55 379.71,-46.27\"/>\n",
       "<polygon fill=\"black\" stroke=\"black\" points=\"383.13,-45.5 377.81,-36.33 376.25,-46.81 383.13,-45.5\"/>\n",
       "</g>\n",
       "<!-- 139 -->\n",
       "<g id=\"node12\" class=\"node\">\n",
       "<title>139</title>\n",
       "<polygon fill=\"#c0c0c0\" stroke=\"black\" points=\"473.5,-36 419.5,-36 419.5,0 473.5,0 473.5,-36\"/>\n",
       "<text text-anchor=\"middle\" x=\"446.5\" y=\"-14.3\" font-family=\"Helvetica,sans-Serif\" font-size=\"14.00\">(...)</text>\n",
       "</g>\n",
       "<!-- 89&#45;&gt;139 -->\n",
       "<g id=\"edge11\" class=\"edge\">\n",
       "<title>89&#45;&gt;139</title>\n",
       "<path fill=\"none\" stroke=\"black\" d=\"M408.16,-71.8C414.5,-63.08 421.56,-53.34 427.89,-44.63\"/>\n",
       "<polygon fill=\"black\" stroke=\"black\" points=\"430.87,-46.48 433.92,-36.33 425.21,-42.37 430.87,-46.48\"/>\n",
       "</g>\n",
       "<!-- 143 -->\n",
       "<g id=\"node14\" class=\"node\">\n",
       "<title>143</title>\n",
       "<polygon fill=\"#c0c0c0\" stroke=\"black\" points=\"567.5,-36 513.5,-36 513.5,0 567.5,0 567.5,-36\"/>\n",
       "<text text-anchor=\"middle\" x=\"540.5\" y=\"-14.3\" font-family=\"Helvetica,sans-Serif\" font-size=\"14.00\">(...)</text>\n",
       "</g>\n",
       "<!-- 142&#45;&gt;143 -->\n",
       "<g id=\"edge13\" class=\"edge\">\n",
       "<title>142&#45;&gt;143</title>\n",
       "<path fill=\"none\" stroke=\"black\" d=\"M555.97,-71.8C553.55,-63.53 550.86,-54.35 548.41,-46\"/>\n",
       "<polygon fill=\"black\" stroke=\"black\" points=\"551.75,-44.94 545.58,-36.33 545.03,-46.91 551.75,-44.94\"/>\n",
       "</g>\n",
       "<!-- 158 -->\n",
       "<g id=\"node15\" class=\"node\">\n",
       "<title>158</title>\n",
       "<polygon fill=\"#c0c0c0\" stroke=\"black\" points=\"639.5,-36 585.5,-36 585.5,0 639.5,0 639.5,-36\"/>\n",
       "<text text-anchor=\"middle\" x=\"612.5\" y=\"-14.3\" font-family=\"Helvetica,sans-Serif\" font-size=\"14.00\">(...)</text>\n",
       "</g>\n",
       "<!-- 142&#45;&gt;158 -->\n",
       "<g id=\"edge14\" class=\"edge\">\n",
       "<title>142&#45;&gt;158</title>\n",
       "<path fill=\"none\" stroke=\"black\" d=\"M579.54,-71.8C584.93,-63.17 590.94,-53.54 596.33,-44.9\"/>\n",
       "<polygon fill=\"black\" stroke=\"black\" points=\"599.36,-46.67 601.68,-36.33 593.42,-42.96 599.36,-46.67\"/>\n",
       "</g>\n",
       "</g>\n",
       "</svg>\n"
      ],
      "text/plain": [
       "<graphviz.sources.Source at 0x261bbda0ee0>"
      ]
     },
     "metadata": {},
     "output_type": "display_data"
    },
    {
     "data": {
      "image/svg+xml": [
       "<?xml version=\"1.0\" encoding=\"UTF-8\" standalone=\"no\"?>\n",
       "<!DOCTYPE svg PUBLIC \"-//W3C//DTD SVG 1.1//EN\"\n",
       " \"http://www.w3.org/Graphics/SVG/1.1/DTD/svg11.dtd\">\n",
       "<!-- Generated by graphviz version 2.50.0 (0)\n",
       " -->\n",
       "<!-- Title: Tree Pages: 1 -->\n",
       "<svg width=\"657pt\" height=\"311pt\"\n",
       " viewBox=\"0.00 0.00 656.50 311.00\" xmlns=\"http://www.w3.org/2000/svg\" xmlns:xlink=\"http://www.w3.org/1999/xlink\">\n",
       "<g id=\"graph0\" class=\"graph\" transform=\"scale(1 1) rotate(0) translate(4 307)\">\n",
       "<title>Tree</title>\n",
       "<polygon fill=\"white\" stroke=\"transparent\" points=\"-4,4 -4,-307 652.5,-307 652.5,4 -4,4\"/>\n",
       "<!-- 0 -->\n",
       "<g id=\"node1\" class=\"node\">\n",
       "<title>0</title>\n",
       "<polygon fill=\"#e99558\" stroke=\"black\" points=\"394,-303 247,-303 247,-250 394,-250 394,-303\"/>\n",
       "<text text-anchor=\"middle\" x=\"320.5\" y=\"-287.8\" font-family=\"Helvetica,sans-Serif\" font-size=\"14.00\">citric acid &lt;= 0.218</text>\n",
       "<text text-anchor=\"middle\" x=\"320.5\" y=\"-272.8\" font-family=\"Helvetica,sans-Serif\" font-size=\"14.00\">samples = 100.0%</text>\n",
       "<text text-anchor=\"middle\" x=\"320.5\" y=\"-257.8\" font-family=\"Helvetica,sans-Serif\" font-size=\"14.00\">value = [0.863, 0.137]</text>\n",
       "</g>\n",
       "<!-- 1 -->\n",
       "<g id=\"node2\" class=\"node\">\n",
       "<title>1</title>\n",
       "<polygon fill=\"#e68844\" stroke=\"black\" points=\"312,-214 165,-214 165,-161 312,-161 312,-214\"/>\n",
       "<text text-anchor=\"middle\" x=\"238.5\" y=\"-198.8\" font-family=\"Helvetica,sans-Serif\" font-size=\"14.00\">alcohol &lt;= 1.126</text>\n",
       "<text text-anchor=\"middle\" x=\"238.5\" y=\"-183.8\" font-family=\"Helvetica,sans-Serif\" font-size=\"14.00\">samples = 60.5%</text>\n",
       "<text text-anchor=\"middle\" x=\"238.5\" y=\"-168.8\" font-family=\"Helvetica,sans-Serif\" font-size=\"14.00\">value = [0.946, 0.054]</text>\n",
       "</g>\n",
       "<!-- 0&#45;&gt;1 -->\n",
       "<g id=\"edge1\" class=\"edge\">\n",
       "<title>0&#45;&gt;1</title>\n",
       "<path fill=\"none\" stroke=\"black\" d=\"M296.34,-249.87C287.99,-241.01 278.51,-230.95 269.68,-221.58\"/>\n",
       "<polygon fill=\"black\" stroke=\"black\" points=\"272.18,-219.13 262.77,-214.25 267.08,-223.93 272.18,-219.13\"/>\n",
       "<text text-anchor=\"middle\" x=\"262.03\" y=\"-235.54\" font-family=\"Helvetica,sans-Serif\" font-size=\"14.00\">True</text>\n",
       "</g>\n",
       "<!-- 58 -->\n",
       "<g id=\"node9\" class=\"node\">\n",
       "<title>58</title>\n",
       "<polygon fill=\"#eeaf81\" stroke=\"black\" points=\"477,-214 330,-214 330,-161 477,-161 477,-214\"/>\n",
       "<text text-anchor=\"middle\" x=\"403.5\" y=\"-198.8\" font-family=\"Helvetica,sans-Serif\" font-size=\"14.00\">sulphates &lt;= &#45;0.139</text>\n",
       "<text text-anchor=\"middle\" x=\"403.5\" y=\"-183.8\" font-family=\"Helvetica,sans-Serif\" font-size=\"14.00\">samples = 39.5%</text>\n",
       "<text text-anchor=\"middle\" x=\"403.5\" y=\"-168.8\" font-family=\"Helvetica,sans-Serif\" font-size=\"14.00\">value = [0.733, 0.267]</text>\n",
       "</g>\n",
       "<!-- 0&#45;&gt;58 -->\n",
       "<g id=\"edge8\" class=\"edge\">\n",
       "<title>0&#45;&gt;58</title>\n",
       "<path fill=\"none\" stroke=\"black\" d=\"M344.95,-249.87C353.41,-241.01 363,-230.95 371.94,-221.58\"/>\n",
       "<polygon fill=\"black\" stroke=\"black\" points=\"374.56,-223.9 378.93,-214.25 369.5,-219.07 374.56,-223.9\"/>\n",
       "<text text-anchor=\"middle\" x=\"379.52\" y=\"-235.54\" font-family=\"Helvetica,sans-Serif\" font-size=\"14.00\">False</text>\n",
       "</g>\n",
       "<!-- 2 -->\n",
       "<g id=\"node3\" class=\"node\">\n",
       "<title>2</title>\n",
       "<polygon fill=\"#e6843e\" stroke=\"black\" points=\"147,-125 0,-125 0,-72 147,-72 147,-125\"/>\n",
       "<text text-anchor=\"middle\" x=\"73.5\" y=\"-109.8\" font-family=\"Helvetica,sans-Serif\" font-size=\"14.00\">alcohol &lt;= 0.086</text>\n",
       "<text text-anchor=\"middle\" x=\"73.5\" y=\"-94.8\" font-family=\"Helvetica,sans-Serif\" font-size=\"14.00\">samples = 55.3%</text>\n",
       "<text text-anchor=\"middle\" x=\"73.5\" y=\"-79.8\" font-family=\"Helvetica,sans-Serif\" font-size=\"14.00\">value = [0.974, 0.026]</text>\n",
       "</g>\n",
       "<!-- 1&#45;&gt;2 -->\n",
       "<g id=\"edge2\" class=\"edge\">\n",
       "<title>1&#45;&gt;2</title>\n",
       "<path fill=\"none\" stroke=\"black\" d=\"M189.89,-160.87C171.42,-151.13 150.22,-139.95 131.01,-129.82\"/>\n",
       "<polygon fill=\"black\" stroke=\"black\" points=\"132.53,-126.67 122.05,-125.1 129.26,-132.86 132.53,-126.67\"/>\n",
       "</g>\n",
       "<!-- 45 -->\n",
       "<g id=\"node6\" class=\"node\">\n",
       "<title>45</title>\n",
       "<polygon fill=\"#f5d0b5\" stroke=\"black\" points=\"312,-125 165,-125 165,-72 312,-72 312,-125\"/>\n",
       "<text text-anchor=\"middle\" x=\"238.5\" y=\"-109.8\" font-family=\"Helvetica,sans-Serif\" font-size=\"14.00\">sulphates &lt;= &#45;0.256</text>\n",
       "<text text-anchor=\"middle\" x=\"238.5\" y=\"-94.8\" font-family=\"Helvetica,sans-Serif\" font-size=\"14.00\">samples = 5.2%</text>\n",
       "<text text-anchor=\"middle\" x=\"238.5\" y=\"-79.8\" font-family=\"Helvetica,sans-Serif\" font-size=\"14.00\">value = [0.615, 0.385]</text>\n",
       "</g>\n",
       "<!-- 1&#45;&gt;45 -->\n",
       "<g id=\"edge5\" class=\"edge\">\n",
       "<title>1&#45;&gt;45</title>\n",
       "<path fill=\"none\" stroke=\"black\" d=\"M238.5,-160.87C238.5,-152.89 238.5,-143.93 238.5,-135.38\"/>\n",
       "<polygon fill=\"black\" stroke=\"black\" points=\"242,-135.25 238.5,-125.25 235,-135.25 242,-135.25\"/>\n",
       "</g>\n",
       "<!-- 3 -->\n",
       "<g id=\"node4\" class=\"node\">\n",
       "<title>3</title>\n",
       "<polygon fill=\"#c0c0c0\" stroke=\"black\" points=\"96.5,-36 42.5,-36 42.5,0 96.5,0 96.5,-36\"/>\n",
       "<text text-anchor=\"middle\" x=\"69.5\" y=\"-14.3\" font-family=\"Helvetica,sans-Serif\" font-size=\"14.00\">(...)</text>\n",
       "</g>\n",
       "<!-- 2&#45;&gt;3 -->\n",
       "<g id=\"edge3\" class=\"edge\">\n",
       "<title>2&#45;&gt;3</title>\n",
       "<path fill=\"none\" stroke=\"black\" d=\"M72.19,-71.8C71.78,-63.71 71.32,-54.76 70.9,-46.55\"/>\n",
       "<polygon fill=\"black\" stroke=\"black\" points=\"74.39,-46.14 70.38,-36.33 67.4,-46.5 74.39,-46.14\"/>\n",
       "</g>\n",
       "<!-- 24 -->\n",
       "<g id=\"node5\" class=\"node\">\n",
       "<title>24</title>\n",
       "<polygon fill=\"#c0c0c0\" stroke=\"black\" points=\"168.5,-36 114.5,-36 114.5,0 168.5,0 168.5,-36\"/>\n",
       "<text text-anchor=\"middle\" x=\"141.5\" y=\"-14.3\" font-family=\"Helvetica,sans-Serif\" font-size=\"14.00\">(...)</text>\n",
       "</g>\n",
       "<!-- 2&#45;&gt;24 -->\n",
       "<g id=\"edge4\" class=\"edge\">\n",
       "<title>2&#45;&gt;24</title>\n",
       "<path fill=\"none\" stroke=\"black\" d=\"M95.77,-71.8C103.48,-62.9 112.1,-52.93 119.77,-44.08\"/>\n",
       "<polygon fill=\"black\" stroke=\"black\" points=\"122.59,-46.18 126.49,-36.33 117.29,-41.6 122.59,-46.18\"/>\n",
       "</g>\n",
       "<!-- 46 -->\n",
       "<g id=\"node7\" class=\"node\">\n",
       "<title>46</title>\n",
       "<polygon fill=\"#c0c0c0\" stroke=\"black\" points=\"252.5,-36 198.5,-36 198.5,0 252.5,0 252.5,-36\"/>\n",
       "<text text-anchor=\"middle\" x=\"225.5\" y=\"-14.3\" font-family=\"Helvetica,sans-Serif\" font-size=\"14.00\">(...)</text>\n",
       "</g>\n",
       "<!-- 45&#45;&gt;46 -->\n",
       "<g id=\"edge6\" class=\"edge\">\n",
       "<title>45&#45;&gt;46</title>\n",
       "<path fill=\"none\" stroke=\"black\" d=\"M234.24,-71.8C232.89,-63.62 231.39,-54.55 230.02,-46.27\"/>\n",
       "<polygon fill=\"black\" stroke=\"black\" points=\"233.46,-45.62 228.37,-36.33 226.55,-46.77 233.46,-45.62\"/>\n",
       "</g>\n",
       "<!-- 49 -->\n",
       "<g id=\"node8\" class=\"node\">\n",
       "<title>49</title>\n",
       "<polygon fill=\"#c0c0c0\" stroke=\"black\" points=\"324.5,-36 270.5,-36 270.5,0 324.5,0 324.5,-36\"/>\n",
       "<text text-anchor=\"middle\" x=\"297.5\" y=\"-14.3\" font-family=\"Helvetica,sans-Serif\" font-size=\"14.00\">(...)</text>\n",
       "</g>\n",
       "<!-- 45&#45;&gt;49 -->\n",
       "<g id=\"edge7\" class=\"edge\">\n",
       "<title>45&#45;&gt;49</title>\n",
       "<path fill=\"none\" stroke=\"black\" d=\"M257.82,-71.8C264.44,-62.99 271.84,-53.14 278.44,-44.36\"/>\n",
       "<polygon fill=\"black\" stroke=\"black\" points=\"281.26,-46.43 284.47,-36.33 275.67,-42.22 281.26,-46.43\"/>\n",
       "</g>\n",
       "<!-- 59 -->\n",
       "<g id=\"node10\" class=\"node\">\n",
       "<title>59</title>\n",
       "<polygon fill=\"#ea9b62\" stroke=\"black\" points=\"477,-125 330,-125 330,-72 477,-72 477,-125\"/>\n",
       "<text text-anchor=\"middle\" x=\"403.5\" y=\"-109.8\" font-family=\"Helvetica,sans-Serif\" font-size=\"14.00\">alcohol &lt;= 1.68</text>\n",
       "<text text-anchor=\"middle\" x=\"403.5\" y=\"-94.8\" font-family=\"Helvetica,sans-Serif\" font-size=\"14.00\">samples = 15.2%</text>\n",
       "<text text-anchor=\"middle\" x=\"403.5\" y=\"-79.8\" font-family=\"Helvetica,sans-Serif\" font-size=\"14.00\">value = [0.829, 0.171]</text>\n",
       "</g>\n",
       "<!-- 58&#45;&gt;59 -->\n",
       "<g id=\"edge9\" class=\"edge\">\n",
       "<title>58&#45;&gt;59</title>\n",
       "<path fill=\"none\" stroke=\"black\" d=\"M403.5,-160.87C403.5,-152.89 403.5,-143.93 403.5,-135.38\"/>\n",
       "<polygon fill=\"black\" stroke=\"black\" points=\"407,-135.25 403.5,-125.25 400,-135.25 407,-135.25\"/>\n",
       "</g>\n",
       "<!-- 100 -->\n",
       "<g id=\"node13\" class=\"node\">\n",
       "<title>100</title>\n",
       "<polygon fill=\"#f2c09c\" stroke=\"black\" points=\"642,-125 495,-125 495,-72 642,-72 642,-125\"/>\n",
       "<text text-anchor=\"middle\" x=\"568.5\" y=\"-109.8\" font-family=\"Helvetica,sans-Serif\" font-size=\"14.00\">alcohol &lt;= 1.033</text>\n",
       "<text text-anchor=\"middle\" x=\"568.5\" y=\"-94.8\" font-family=\"Helvetica,sans-Serif\" font-size=\"14.00\">samples = 24.3%</text>\n",
       "<text text-anchor=\"middle\" x=\"568.5\" y=\"-79.8\" font-family=\"Helvetica,sans-Serif\" font-size=\"14.00\">value = [0.667, 0.333]</text>\n",
       "</g>\n",
       "<!-- 58&#45;&gt;100 -->\n",
       "<g id=\"edge12\" class=\"edge\">\n",
       "<title>58&#45;&gt;100</title>\n",
       "<path fill=\"none\" stroke=\"black\" d=\"M452.11,-160.87C470.58,-151.13 491.78,-139.95 510.99,-129.82\"/>\n",
       "<polygon fill=\"black\" stroke=\"black\" points=\"512.74,-132.86 519.95,-125.1 509.47,-126.67 512.74,-132.86\"/>\n",
       "</g>\n",
       "<!-- 60 -->\n",
       "<g id=\"node11\" class=\"node\">\n",
       "<title>60</title>\n",
       "<polygon fill=\"#c0c0c0\" stroke=\"black\" points=\"413.5,-36 359.5,-36 359.5,0 413.5,0 413.5,-36\"/>\n",
       "<text text-anchor=\"middle\" x=\"386.5\" y=\"-14.3\" font-family=\"Helvetica,sans-Serif\" font-size=\"14.00\">(...)</text>\n",
       "</g>\n",
       "<!-- 59&#45;&gt;60 -->\n",
       "<g id=\"edge10\" class=\"edge\">\n",
       "<title>59&#45;&gt;60</title>\n",
       "<path fill=\"none\" stroke=\"black\" d=\"M397.93,-71.8C396.16,-63.62 394.2,-54.55 392.41,-46.27\"/>\n",
       "<polygon fill=\"black\" stroke=\"black\" points=\"395.79,-45.36 390.25,-36.33 388.95,-46.84 395.79,-45.36\"/>\n",
       "</g>\n",
       "<!-- 91 -->\n",
       "<g id=\"node12\" class=\"node\">\n",
       "<title>91</title>\n",
       "<polygon fill=\"#c0c0c0\" stroke=\"black\" points=\"485.5,-36 431.5,-36 431.5,0 485.5,0 485.5,-36\"/>\n",
       "<text text-anchor=\"middle\" x=\"458.5\" y=\"-14.3\" font-family=\"Helvetica,sans-Serif\" font-size=\"14.00\">(...)</text>\n",
       "</g>\n",
       "<!-- 59&#45;&gt;91 -->\n",
       "<g id=\"edge11\" class=\"edge\">\n",
       "<title>59&#45;&gt;91</title>\n",
       "<path fill=\"none\" stroke=\"black\" d=\"M421.51,-71.8C427.62,-63.08 434.44,-53.34 440.54,-44.63\"/>\n",
       "<polygon fill=\"black\" stroke=\"black\" points=\"443.49,-46.53 446.36,-36.33 437.75,-42.51 443.49,-46.53\"/>\n",
       "</g>\n",
       "<!-- 101 -->\n",
       "<g id=\"node14\" class=\"node\">\n",
       "<title>101</title>\n",
       "<polygon fill=\"#c0c0c0\" stroke=\"black\" points=\"576.5,-36 522.5,-36 522.5,0 576.5,0 576.5,-36\"/>\n",
       "<text text-anchor=\"middle\" x=\"549.5\" y=\"-14.3\" font-family=\"Helvetica,sans-Serif\" font-size=\"14.00\">(...)</text>\n",
       "</g>\n",
       "<!-- 100&#45;&gt;101 -->\n",
       "<g id=\"edge13\" class=\"edge\">\n",
       "<title>100&#45;&gt;101</title>\n",
       "<path fill=\"none\" stroke=\"black\" d=\"M562.28,-71.8C560.3,-63.62 558.11,-54.55 556.1,-46.27\"/>\n",
       "<polygon fill=\"black\" stroke=\"black\" points=\"559.45,-45.23 553.69,-36.33 552.65,-46.87 559.45,-45.23\"/>\n",
       "</g>\n",
       "<!-- 160 -->\n",
       "<g id=\"node15\" class=\"node\">\n",
       "<title>160</title>\n",
       "<polygon fill=\"#c0c0c0\" stroke=\"black\" points=\"648.5,-36 594.5,-36 594.5,0 648.5,0 648.5,-36\"/>\n",
       "<text text-anchor=\"middle\" x=\"621.5\" y=\"-14.3\" font-family=\"Helvetica,sans-Serif\" font-size=\"14.00\">(...)</text>\n",
       "</g>\n",
       "<!-- 100&#45;&gt;160 -->\n",
       "<g id=\"edge14\" class=\"edge\">\n",
       "<title>100&#45;&gt;160</title>\n",
       "<path fill=\"none\" stroke=\"black\" d=\"M585.85,-71.8C591.74,-63.08 598.31,-53.34 604.2,-44.63\"/>\n",
       "<polygon fill=\"black\" stroke=\"black\" points=\"607.1,-46.58 609.8,-36.33 601.3,-42.66 607.1,-46.58\"/>\n",
       "</g>\n",
       "</g>\n",
       "</svg>\n"
      ],
      "text/plain": [
       "<graphviz.sources.Source at 0x261bbda0f70>"
      ]
     },
     "metadata": {},
     "output_type": "display_data"
    }
   ],
   "source": [
    "import graphviz\n",
    "feature_cols = ['fixed acidity', 'volatile acidity', 'citric acid', 'residual sugar','chlorides', 'free sulfur dioxide', 'total sulfur dioxide', 'density',\n",
    "       'pH', 'sulphates', 'alcohol']\n",
    "for i in range(5):\n",
    "    tree = rf.estimators_[i]\n",
    "    dot_data = export_graphviz(tree,\n",
    "                               feature_names=feature_cols,  \n",
    "                               filled=True,  \n",
    "                               max_depth=2, \n",
    "                               impurity=False, \n",
    "                               proportion=True)\n",
    "    graph = graphviz.Source(dot_data)\n",
    "    display(graph)"
   ]
  },
  {
   "cell_type": "code",
   "execution_count": 54,
   "id": "5e54d5a1",
   "metadata": {},
   "outputs": [
    {
     "data": {
      "image/png": "[encoded data removed]",
      "text/plain": [
       "<Figure size 720x720 with 1 Axes>"
      ]
     },
     "metadata": {
      "needs_background": "light"
     },
     "output_type": "display_data"
    }
   ],
   "source": [
    "imp_df = pd.DataFrame({\"Feature Name\":X.columns,\"Importance\":rf.feature_importances_})\n",
    "features = imp_df.sort_values(by=\"Importance\",ascending=False)\n",
    "plt.figure(figsize=(10,10))\n",
    "sns.barplot(x=\"Importance\", y=\"Feature Name\", data=features)\n",
    "plt.title(\"Feature Importance in the Random Forest Prediction\")\n",
    "plt.yticks(size=10)\n",
    "plt.show()"
   ]
  },
  {
   "cell_type": "markdown",
   "id": "fe0b90af",
   "metadata": {},
   "source": [
    "The key factors that influenced the quality of wine are Volatile acidity,citric acid and alcohol.\n",
    "And sulphates, free sulfur oxide, density have zero or less influence on quality of wine"
   ]
  },
  {
   "cell_type": "code",
   "execution_count": 55,
   "id": "c35846d3",
   "metadata": {},
   "outputs": [
    {
     "name": "stdout",
     "output_type": "stream",
     "text": [
      "Accuracy: 90.80882352941177\n",
      "\n",
      "\n",
      "Error rate: 9.191176470588236\n",
      "\n",
      "\n",
      "=== Confusion Matrix ===\n",
      "[[234   4]\n",
      " [ 21  13]]\n",
      "\n",
      "\n",
      "=== Classification Report ===\n",
      "              precision    recall  f1-score   support\n",
      "\n",
      "           0       0.92      0.98      0.95       238\n",
      "           1       0.76      0.38      0.51        34\n",
      "\n",
      "    accuracy                           0.91       272\n",
      "   macro avg       0.84      0.68      0.73       272\n",
      "weighted avg       0.90      0.91      0.89       272\n",
      "\n",
      "\n",
      "\n"
     ]
    }
   ],
   "source": [
    "# Decision Tree Model Accuracy\n",
    "rfc=metrics.accuracy_score(y_test, y_pred)*100\n",
    "print(\"Accuracy:\",metrics.accuracy_score(y_test, y_pred)*100)\n",
    "print('\\n')\n",
    "print(\"Error rate:\",(1-metrics.accuracy_score(y_test,y_pred))*100)\n",
    "print('\\n')\n",
    "print(\"=== Confusion Matrix ===\")\n",
    "print(confusion_matrix(y_test, y_pred))\n",
    "print('\\n')\n",
    "print(\"=== Classification Report ===\")\n",
    "print(classification_report(y_test, y_pred))\n",
    "print('\\n')"
   ]
  },
  {
   "cell_type": "markdown",
   "id": "41059eaa",
   "metadata": {},
   "source": [
    "# 8: Comparing the models and Model Evaluation"
   ]
  },
  {
   "cell_type": "code",
   "execution_count": 56,
   "id": "f9a1c06b",
   "metadata": {},
   "outputs": [],
   "source": [
    "# function to add value labels\n",
    "def addlabels(x,y):\n",
    "    for i in range(len(x)):\n",
    "        plt.text(i, y[i]//2, y[i], ha = 'center',fontweight=\"black\",fontsize='22')"
   ]
  },
  {
   "cell_type": "code",
   "execution_count": 57,
   "id": "639a2075",
   "metadata": {},
   "outputs": [
    {
     "name": "stderr",
     "output_type": "stream",
     "text": [
      "C:\\Users\\ayoba\\anaconda3\\lib\\site-packages\\seaborn\\_decorators.py:36: FutureWarning: Pass the following variables as keyword args: x, y. From version 0.12, the only valid positional argument will be `data`, and passing other arguments without an explicit keyword will result in an error or misinterpretation.\n",
      "  warnings.warn(\n"
     ]
    },
    {
     "data": {
      "image/png": "[encoded data removed]",
      "text/plain": [
       "<Figure size 2160x720 with 1 Axes>"
      ]
     },
     "metadata": {
      "needs_background": "light"
     },
     "output_type": "display_data"
    }
   ],
   "source": [
    "# Comparing the algorithms for Training dataset\n",
    "import matplotlib.pyplot as plt\n",
    "import seaborn as sns\n",
    "%matplotlib inline\n",
    "# Creating a bar plot\n",
    "x= ['LogisticRegression','DecisonTreeClassifier','RandomForestClassifier']\n",
    "y=  [LR_training,DTC_training,rf_training]\n",
    "plt.figure(figsize = (30,10))\n",
    "sns.barplot(x,y)\n",
    "\n",
    "# calling the function to add value labels\n",
    "addlabels(x, y)\n",
    "\n",
    "# Add labels to your graph\n",
    "plt.xlabel('Classification Algorithm')\n",
    "plt.ylabel('Training_Accuracy_Score')\n",
    "plt.title(\"Different Classification Models for Training Accuracy\")\n",
    "\n",
    "#plt.legend()\n",
    "plt.show()"
   ]
  },
  {
   "cell_type": "code",
   "execution_count": 58,
   "id": "ccb4997f",
   "metadata": {},
   "outputs": [
    {
     "name": "stderr",
     "output_type": "stream",
     "text": [
      "C:\\Users\\ayoba\\anaconda3\\lib\\site-packages\\seaborn\\_decorators.py:36: FutureWarning: Pass the following variables as keyword args: x, y. From version 0.12, the only valid positional argument will be `data`, and passing other arguments without an explicit keyword will result in an error or misinterpretation.\n",
      "  warnings.warn(\n"
     ]
    },
    {
     "data": {
      "image/png": "[encoded data removed]",
      "text/plain": [
       "<Figure size 2160x720 with 1 Axes>"
      ]
     },
     "metadata": {
      "needs_background": "light"
     },
     "output_type": "display_data"
    }
   ],
   "source": [
    "# Comparing the algorithms for Testing dataset\n",
    "import matplotlib.pyplot as plt\n",
    "import seaborn as sns\n",
    "%matplotlib inline\n",
    "# Creating a bar plot\n",
    "x= ['LogisticRegression','DecisonTreeClassifier','RandomForestClassifier']\n",
    "y=  [LR_testing,DTC_testing,rf_testing]\n",
    "plt.figure(figsize = (30,10))\n",
    "sns.barplot(x,y)\n",
    "\n",
    "# calling the function to add value labels\n",
    "addlabels(x, y)\n",
    "\n",
    "# Add labels to your graph\n",
    "plt.xlabel('Classification Algorithm')\n",
    "plt.ylabel('Training_Accuracy_Score')\n",
    "plt.title(\"Different Classification Models for Training Accuracy\")\n",
    "\n",
    "#plt.legend()\n",
    "plt.show()"
   ]
  },
  {
   "cell_type": "markdown",
   "id": "b66a5896",
   "metadata": {},
   "source": [
    "ROC Curve and Area Under the Curve (AUC) for Decision Tree"
   ]
  },
  {
   "cell_type": "code",
   "execution_count": 63,
   "id": "1f469fef",
   "metadata": {},
   "outputs": [
    {
     "data": {
      "image/png": "[encoded data removed]",
      "text/plain": [
       "<Figure size 576x432 with 1 Axes>"
      ]
     },
     "metadata": {
      "needs_background": "light"
     },
     "output_type": "display_data"
    }
   ],
   "source": [
    "y_pred_proba = DT.predict_proba(X_test)[:][:,1]\n",
    "\n",
    "df_actual_predicted = pd.concat([pd.DataFrame(np.array(y_test), columns=[\"y_actual\"])])\n",
    "df_actual_predicted.index = y_test.index\n",
    "\n",
    "\n",
    "fpr, tpr, thresholds = roc_curve(df_actual_predicted[\"y_actual\"], y_pred_proba)\n",
    "auc = roc_auc_score(df_actual_predicted[\"y_actual\"], y_pred_proba)\n",
    "\n",
    "plt.figure(figsize=(8, 6))\n",
    "plt.plot(fpr, tpr, label=f\"AUC = {auc:.2f}\",color=\"green\")\n",
    "plt.plot([0, 1], [0, 1], linestyle=\"--\", color=\"black\")\n",
    "plt.xlabel(\"False Positive Rate\")\n",
    "plt.ylabel(\"True Positive Rate\")\n",
    "plt.title(\"ROC Curve for Decison Tree\",pad=20,fontweight=\"black\")\n",
    "plt.legend()\n",
    "plt.show()"
   ]
  },
  {
   "cell_type": "markdown",
   "id": "d11518a0",
   "metadata": {},
   "source": [
    "AUC is 0.75, it means there is a 75% chance that the model will be able to distinguish between positive class and negative class.\n",
    "Thus it is effective in making accurate predictions"
   ]
  },
  {
   "cell_type": "markdown",
   "id": "cb3481c9",
   "metadata": {},
   "source": [
    "ROC Curve and Area Under the Curve (AUC) for Rain Forest"
   ]
  },
  {
   "cell_type": "code",
   "execution_count": 62,
   "id": "32eb23cf",
   "metadata": {},
   "outputs": [
    {
     "data": {
      "image/png": "[encoded data removed]",
      "text/plain": [
       "<Figure size 576x432 with 1 Axes>"
      ]
     },
     "metadata": {
      "needs_background": "light"
     },
     "output_type": "display_data"
    }
   ],
   "source": [
    "y_pred_proba = rf.predict_proba(X_test)[:][:,1]\n",
    "\n",
    "df_actual_predicted = pd.concat([pd.DataFrame(np.array(y_test), columns=[\"y_actual\"])])\n",
    "df_actual_predicted.index = y_test.index\n",
    "\n",
    "\n",
    "fpr, tpr, thresholds = roc_curve(df_actual_predicted[\"y_actual\"], y_pred_proba)\n",
    "auc = roc_auc_score(df_actual_predicted[\"y_actual\"], y_pred_proba)\n",
    "\n",
    "plt.figure(figsize=(8, 6))\n",
    "plt.plot(fpr, tpr, label=f\"AUC = {auc:.2f}\",color=\"green\")\n",
    "plt.plot([0, 1], [0, 1], linestyle=\"--\", color=\"black\")\n",
    "plt.xlabel(\"False Positive Rate\")\n",
    "plt.ylabel(\"True Positive Rate\")\n",
    "plt.title(\"ROC Curve for Rain Forest Classfifier\",pad=20,fontweight=\"black\")\n",
    "plt.legend()\n",
    "plt.show()"
   ]
  },
  {
   "cell_type": "markdown",
   "id": "b1dee90a",
   "metadata": {},
   "source": [
    "AUC is 0.88, it means there is a 88% chance that the model will be able to distinguish between positive class and negative class.\n",
    "Thus it is effective in making accurate predictions"
   ]
  },
  {
   "cell_type": "markdown",
   "id": "51bcb946",
   "metadata": {},
   "source": [
    "Key-Findings:\n",
    "\n",
    "The key factors that significantly influence the wine quality are Alcohol, Sulphates and Volatilee Acidity.\n",
    "The minimal impact of features on the wine quality are Free Sulfur Dioxide and pH.\n",
    "High Training and Testing Accuracies:All the three models achieved an average score near to 90% on the training data, indicating a good fit to the training instances. Additionally, the model's accuracy score near to 87% on the testing data.\n",
    "\n",
    "High F1 Score, Recall, and Precision: The model achieved high F1 score, recall, and precision values. This indicates that the model has a strong ability to correctly identify positive cases while minimizing false positives and maximizing true positives.\n",
    "High AUC value more than 0.88 and 0.75, states that the model demonstrates a reasonably good discriminatory power. It suggests that the model is able to distinguish between positive and negative instances with a relatively high degree of accuracy.\n",
    "\n",
    "Overall Model Performance: The model demonstrates strong performance across multiple evaluation metrics, indicating its effectiveness in making accurate predictions and capturing the desired outcomes."
   ]
  },
  {
   "cell_type": "markdown",
   "id": "04f07f15",
   "metadata": {},
   "source": [
    "Key-Suggestions:\n",
    "\n",
    "Key Quality Drivers: Prioritize Alcohol, Citric acid, and Volatile Acidity as they significantly influence wine quality.\n",
    "\n",
    "Continuous Improvement: Continuously monitor customer feedback and wine ratings to identify areas for improvement and enhance overall product quality."
   ]
  },
  {
   "cell_type": "code",
   "execution_count": null,
   "id": "4b10caec",
   "metadata": {},
   "outputs": [],
   "source": []
  }
 ],
 "metadata": {
  "kernelspec": {
   "display_name": "Python 3 (ipykernel)",
   "language": "python",
   "name": "python3"
  },
  "language_info": {
   "codemirror_mode": {
    "name": "ipython",
    "version": 3
   },
   "file_extension": ".py",
   "mimetype": "text/x-python",
   "name": "python",
   "nbconvert_exporter": "python",
   "pygments_lexer": "ipython3",
   "version": "3.9.12"
  }
 },
 "nbformat": 4,
 "nbformat_minor": 5
}
